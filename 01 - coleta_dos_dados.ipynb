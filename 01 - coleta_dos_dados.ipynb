{
 "cells": [
  {
   "cell_type": "code",
   "execution_count": 1,
   "metadata": {},
   "outputs": [],
   "source": [
    "import requests\n",
    "from zipfile import ZipFile\n",
    "from io import BytesIO\n",
    "import os"
   ]
  },
  {
   "cell_type": "code",
   "execution_count": 2,
   "metadata": {},
   "outputs": [],
   "source": [
    "response = requests.get('https://databankfiles.worldbank.org/public/ddpext_download/WDI_CSV.zip')"
   ]
  },
  {
   "cell_type": "code",
   "execution_count": 3,
   "metadata": {},
   "outputs": [
    {
     "name": "stdout",
     "output_type": "stream",
     "text": [
      "['WDIData.csv', 'WDICountry.csv', 'WDISeries.csv', 'WDICountry-Series.csv', 'WDISeries-Time.csv', 'WDIFootNote.csv']\n",
      "Arquivos extraídos com sucesso!\n"
     ]
    }
   ],
   "source": [
    "if response.status_code == 200:\n",
    "    arquivo_zip = ZipFile(BytesIO(response.content))\n",
    "\n",
    "    pasta_bases = './bases/'\n",
    "    if not os.path.exists(pasta_bases):\n",
    "        os.makedirs(pasta_bases)\n",
    "\n",
    "    print(arquivo_zip.namelist())\n",
    "\n",
    "    arquivo_zip.extractall('./bases/')\n",
    "    print('Arquivos extraídos com sucesso!')\n",
    "else:\n",
    "    print('Falha no download do arquivo.')"
   ]
  },
  {
   "cell_type": "code",
   "execution_count": 4,
   "metadata": {},
   "outputs": [],
   "source": [
    "del response, arquivo_zip"
   ]
  },
  {
   "cell_type": "code",
   "execution_count": null,
   "metadata": {},
   "outputs": [],
   "source": []
  }
 ],
 "metadata": {
  "kernelspec": {
   "display_name": "Python 3",
   "language": "python",
   "name": "python3"
  },
  "language_info": {
   "codemirror_mode": {
    "name": "ipython",
    "version": 3
   },
   "file_extension": ".py",
   "mimetype": "text/x-python",
   "name": "python",
   "nbconvert_exporter": "python",
   "pygments_lexer": "ipython3",
   "version": "3.11.5"
  }
 },
 "nbformat": 4,
 "nbformat_minor": 2
}
