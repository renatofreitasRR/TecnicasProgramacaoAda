{
 "cells": [
  {
   "cell_type": "code",
   "execution_count": 16,
   "id": "bae0e6d9",
   "metadata": {},
   "outputs": [],
   "source": [
    "import pandas as pd\n",
    "import numpy as np\n",
    "import matplotlib.pyplot as plt\n",
    "from resourse_functions import *"
   ]
  },
  {
   "cell_type": "markdown",
   "id": "3c8ea0c9",
   "metadata": {},
   "source": [
    "# Base de Dados - World Development Indicators (WDI)\n",
    "\n",
    "Os Indicadores de Desenvolvimento Mundial (WDI) são a principal coleção de indicadores de desenvolvimento do Banco Mundial, compilados a partir de fontes internacionais oficialmente reconhecidas. Apresenta os dados de desenvolvimento global mais atuais e precisos disponíveis e inclui estimativas nacionais, regionais e globais.\n",
    "\n",
    "Os Indicadores de Desenvolvimento Mundial são uma compilação de estatísticas relevantes, de alta qualidade e comparáveis internacionalmente sobre o desenvolvimento global e a luta contra a pobreza. A base de dados contém 1.400 indicadores de séries cronológicas para 217 economias e mais de 40 grupos de países, com dados para muitos indicadores que remontam a mais de 50 anos [[1](https://datatopics.worldbank.org/world-development-indicators/)]. \n",
    "\n",
    "## Objetivos\n",
    "Para este estudo, optamos por utilizar alguns dos indicadores e avaliar como eles se comportam em diferentes grupos de países. Ao final, pretende-se respoder as perguntas:\n",
    "\n",
    "  1. Quais grupos de países possuem maior serie historia dos indicadores?\n",
    "  2. Quais regiões possuem maior cobertura de dados?\n",
    "  3. Como os indicadores variaram durante os anos para cada grupo de países?\n",
    "\n",
    "### Objetivos específicos\n",
    "\n",
    "Para responder as perguntas precisamos seguir uma sequencia de análises e trasnsformações nos dados. Dessa forma, seguem os objetivos específicos deste trabalho:\n",
    "\n",
    " * Coletar os dados\n",
    " * Identificar as bases com os indicadores relevantes\n",
    " * Filtrar inconsistências das bases de dados\n",
    " * Agrupar, as beses com informações relevantes\n",
    " * Compiolar os historicos dos indicadores\n",
    " * Gerar graficos e tabelas que auxiliem a visualização das análises.\n",
    "\n",
    "## Indicadores utilizados \n",
    "\n",
    "Os indicadores utilizados são os relacionados com:\n",
    "\n",
    "  1. Pobreza e Desigualdade:\n",
    "     * \"Poverty headcount ratio at $2.15 a day (2017 PPP) (% of population)\"  (SI.POV.DDAY)\n",
    "        * Esse indicador mostra s porcentagem de pessoas vivendo com menos de $2.15 por dia, considerando os preços internacionais do ano de 2017. \n",
    "  2. Demografia\n",
    "     * \"Population, total\" (SP.POP.TOTL)\n",
    "        * População total do pais, independentemente da situação de cidadania e status legal.\n",
    "     * \"Labor force participation rate, total (% of total population ages 15+) (modeled ILO estimate)\" (SL.TLF.CACT.ZS)\n",
    "        * Porcentagem da população com 15 anos ou mais que é economicamente ativa.\n",
    "     * \"School enrollment, primary and secondary (gross), gender parity index (GPI)\" (SE.ENR.PRSC.FM.ZS)\n",
    "        * indice da relação entre gêneros que frequentam escola primaria e secundária.\n",
    "  3. Meio ambiente\n",
    "     * \"CO2 emissions (metric tons per capita)\" (EN.ATM.CO2E.PC)\n",
    "     * \"Forest area (% of land area)\" (AG.LND.FRST.ZS)\n",
    "     * \"Access to electricity, urban (% of urban population)\" (EG.ELC.ACCS.UR.ZS)"
   ]
  },
  {
   "cell_type": "markdown",
   "id": "57bed0f1",
   "metadata": {},
   "source": [
    "## Bases de dados\n",
    "Vamos utilizar as bases WDIData e WDICountry"
   ]
  },
  {
   "cell_type": "code",
   "execution_count": 78,
   "id": "528dcd07",
   "metadata": {},
   "outputs": [],
   "source": [
    "FOLDER_PATH = './bases'\n",
    "#wdi_country_series_df = pd.read_csv(f'{FOLDER_PATH}/WDICountry-Series.csv', sep=',')\n",
    "wdi_data_df = pd.read_csv(f'{FOLDER_PATH}/WDIData.csv', sep=',')\n",
    "#wdi_foot_note_df = pd.read_csv(f'{FOLDER_PATH}/WDIFootNote.csv', sep=',')\n",
    "#wdi_series_time_df = pd.read_csv(f'{FOLDER_PATH}/WDISeries-Time.csv', sep=',')\n",
    "#wdi_series_df = pd.read_csv(f'{FOLDER_PATH}/WDISeries.csv', sep=',')\n",
    "wdi_country_df = pd.read_csv(f'{FOLDER_PATH}/WDICountry.csv', sep=',')"
   ]
  },
  {
   "cell_type": "markdown",
   "id": "07a9ba4b",
   "metadata": {},
   "source": [
    "### WDICountry"
   ]
  },
  {
   "cell_type": "code",
   "execution_count": 3,
   "id": "7d15af56",
   "metadata": {},
   "outputs": [
    {
     "data": {
      "text/html": [
       "<div>\n",
       "<style scoped>\n",
       "    .dataframe tbody tr th:only-of-type {\n",
       "        vertical-align: middle;\n",
       "    }\n",
       "\n",
       "    .dataframe tbody tr th {\n",
       "        vertical-align: top;\n",
       "    }\n",
       "\n",
       "    .dataframe thead th {\n",
       "        text-align: right;\n",
       "    }\n",
       "</style>\n",
       "<table border=\"1\" class=\"dataframe\">\n",
       "  <thead>\n",
       "    <tr style=\"text-align: right;\">\n",
       "      <th></th>\n",
       "      <th>Country Code</th>\n",
       "      <th>Short Name</th>\n",
       "      <th>Table Name</th>\n",
       "      <th>Long Name</th>\n",
       "      <th>2-alpha code</th>\n",
       "      <th>Currency Unit</th>\n",
       "      <th>Special Notes</th>\n",
       "      <th>Region</th>\n",
       "      <th>Income Group</th>\n",
       "      <th>WB-2 code</th>\n",
       "      <th>...</th>\n",
       "      <th>Government Accounting concept</th>\n",
       "      <th>IMF data dissemination standard</th>\n",
       "      <th>Latest population census</th>\n",
       "      <th>Latest household survey</th>\n",
       "      <th>Source of most recent Income and expenditure data</th>\n",
       "      <th>Vital registration complete</th>\n",
       "      <th>Latest agricultural census</th>\n",
       "      <th>Latest industrial data</th>\n",
       "      <th>Latest trade data</th>\n",
       "      <th>Unnamed: 30</th>\n",
       "    </tr>\n",
       "  </thead>\n",
       "  <tbody>\n",
       "    <tr>\n",
       "      <th>0</th>\n",
       "      <td>ABW</td>\n",
       "      <td>Aruba</td>\n",
       "      <td>Aruba</td>\n",
       "      <td>Aruba</td>\n",
       "      <td>AW</td>\n",
       "      <td>Aruban florin</td>\n",
       "      <td>NaN</td>\n",
       "      <td>Latin America &amp; Caribbean</td>\n",
       "      <td>High income</td>\n",
       "      <td>AW</td>\n",
       "      <td>...</td>\n",
       "      <td>NaN</td>\n",
       "      <td>Enhanced General Data Dissemination System (e-...</td>\n",
       "      <td>2020 (expected)</td>\n",
       "      <td>NaN</td>\n",
       "      <td>NaN</td>\n",
       "      <td>Yes</td>\n",
       "      <td>NaN</td>\n",
       "      <td>NaN</td>\n",
       "      <td>2018.0</td>\n",
       "      <td>NaN</td>\n",
       "    </tr>\n",
       "    <tr>\n",
       "      <th>1</th>\n",
       "      <td>AFE</td>\n",
       "      <td>Africa Eastern and Southern</td>\n",
       "      <td>Africa Eastern and Southern</td>\n",
       "      <td>Africa Eastern and Southern</td>\n",
       "      <td>ZH</td>\n",
       "      <td>NaN</td>\n",
       "      <td>26 countries, stretching from the Red Sea in t...</td>\n",
       "      <td>NaN</td>\n",
       "      <td>NaN</td>\n",
       "      <td>ZH</td>\n",
       "      <td>...</td>\n",
       "      <td>NaN</td>\n",
       "      <td>NaN</td>\n",
       "      <td>NaN</td>\n",
       "      <td>NaN</td>\n",
       "      <td>NaN</td>\n",
       "      <td>NaN</td>\n",
       "      <td>NaN</td>\n",
       "      <td>NaN</td>\n",
       "      <td>NaN</td>\n",
       "      <td>NaN</td>\n",
       "    </tr>\n",
       "    <tr>\n",
       "      <th>2</th>\n",
       "      <td>AFG</td>\n",
       "      <td>Afghanistan</td>\n",
       "      <td>Afghanistan</td>\n",
       "      <td>Islamic State of Afghanistan</td>\n",
       "      <td>AF</td>\n",
       "      <td>Afghan afghani</td>\n",
       "      <td>The reporting period for national accounts dat...</td>\n",
       "      <td>South Asia</td>\n",
       "      <td>Low income</td>\n",
       "      <td>AF</td>\n",
       "      <td>...</td>\n",
       "      <td>Consolidated central government</td>\n",
       "      <td>Enhanced General Data Dissemination System (e-...</td>\n",
       "      <td>1979</td>\n",
       "      <td>Demographic and Health Survey, 2015</td>\n",
       "      <td>Integrated household survey (IHS), 2016/17</td>\n",
       "      <td>NaN</td>\n",
       "      <td>NaN</td>\n",
       "      <td>NaN</td>\n",
       "      <td>2018.0</td>\n",
       "      <td>NaN</td>\n",
       "    </tr>\n",
       "    <tr>\n",
       "      <th>3</th>\n",
       "      <td>AFW</td>\n",
       "      <td>Africa Western and Central</td>\n",
       "      <td>Africa Western and Central</td>\n",
       "      <td>Africa Western and Central</td>\n",
       "      <td>ZI</td>\n",
       "      <td>NaN</td>\n",
       "      <td>22 countries, stretching from the westernmost ...</td>\n",
       "      <td>NaN</td>\n",
       "      <td>NaN</td>\n",
       "      <td>ZI</td>\n",
       "      <td>...</td>\n",
       "      <td>NaN</td>\n",
       "      <td>NaN</td>\n",
       "      <td>NaN</td>\n",
       "      <td>NaN</td>\n",
       "      <td>NaN</td>\n",
       "      <td>NaN</td>\n",
       "      <td>NaN</td>\n",
       "      <td>NaN</td>\n",
       "      <td>NaN</td>\n",
       "      <td>NaN</td>\n",
       "    </tr>\n",
       "    <tr>\n",
       "      <th>4</th>\n",
       "      <td>AGO</td>\n",
       "      <td>Angola</td>\n",
       "      <td>Angola</td>\n",
       "      <td>People's Republic of Angola</td>\n",
       "      <td>AO</td>\n",
       "      <td>Angolan kwanza</td>\n",
       "      <td>The World Bank systematically assesses the app...</td>\n",
       "      <td>Sub-Saharan Africa</td>\n",
       "      <td>Lower middle income</td>\n",
       "      <td>AO</td>\n",
       "      <td>...</td>\n",
       "      <td>Budgetary central government</td>\n",
       "      <td>Enhanced General Data Dissemination System (e-...</td>\n",
       "      <td>2014</td>\n",
       "      <td>Demographic and Health Survey, 2015/16</td>\n",
       "      <td>Integrated household survey (IHS), 2008/09</td>\n",
       "      <td>NaN</td>\n",
       "      <td>NaN</td>\n",
       "      <td>NaN</td>\n",
       "      <td>2018.0</td>\n",
       "      <td>NaN</td>\n",
       "    </tr>\n",
       "  </tbody>\n",
       "</table>\n",
       "<p>5 rows × 31 columns</p>\n",
       "</div>"
      ],
      "text/plain": [
       "  Country Code                   Short Name                   Table Name  \\\n",
       "0          ABW                        Aruba                        Aruba   \n",
       "1          AFE  Africa Eastern and Southern  Africa Eastern and Southern   \n",
       "2          AFG                  Afghanistan                  Afghanistan   \n",
       "3          AFW   Africa Western and Central   Africa Western and Central   \n",
       "4          AGO                       Angola                       Angola   \n",
       "\n",
       "                      Long Name 2-alpha code   Currency Unit  \\\n",
       "0                         Aruba           AW   Aruban florin   \n",
       "1   Africa Eastern and Southern           ZH             NaN   \n",
       "2  Islamic State of Afghanistan           AF  Afghan afghani   \n",
       "3    Africa Western and Central           ZI             NaN   \n",
       "4   People's Republic of Angola           AO  Angolan kwanza   \n",
       "\n",
       "                                       Special Notes  \\\n",
       "0                                                NaN   \n",
       "1  26 countries, stretching from the Red Sea in t...   \n",
       "2  The reporting period for national accounts dat...   \n",
       "3  22 countries, stretching from the westernmost ...   \n",
       "4  The World Bank systematically assesses the app...   \n",
       "\n",
       "                      Region         Income Group WB-2 code  ...  \\\n",
       "0  Latin America & Caribbean          High income        AW  ...   \n",
       "1                        NaN                  NaN        ZH  ...   \n",
       "2                 South Asia           Low income        AF  ...   \n",
       "3                        NaN                  NaN        ZI  ...   \n",
       "4         Sub-Saharan Africa  Lower middle income        AO  ...   \n",
       "\n",
       "     Government Accounting concept  \\\n",
       "0                              NaN   \n",
       "1                              NaN   \n",
       "2  Consolidated central government   \n",
       "3                              NaN   \n",
       "4     Budgetary central government   \n",
       "\n",
       "                     IMF data dissemination standard Latest population census  \\\n",
       "0  Enhanced General Data Dissemination System (e-...          2020 (expected)   \n",
       "1                                                NaN                      NaN   \n",
       "2  Enhanced General Data Dissemination System (e-...                     1979   \n",
       "3                                                NaN                      NaN   \n",
       "4  Enhanced General Data Dissemination System (e-...                     2014   \n",
       "\n",
       "                  Latest household survey  \\\n",
       "0                                     NaN   \n",
       "1                                     NaN   \n",
       "2     Demographic and Health Survey, 2015   \n",
       "3                                     NaN   \n",
       "4  Demographic and Health Survey, 2015/16   \n",
       "\n",
       "  Source of most recent Income and expenditure data  \\\n",
       "0                                               NaN   \n",
       "1                                               NaN   \n",
       "2        Integrated household survey (IHS), 2016/17   \n",
       "3                                               NaN   \n",
       "4        Integrated household survey (IHS), 2008/09   \n",
       "\n",
       "  Vital registration complete  Latest agricultural census  \\\n",
       "0                         Yes                         NaN   \n",
       "1                         NaN                         NaN   \n",
       "2                         NaN                         NaN   \n",
       "3                         NaN                         NaN   \n",
       "4                         NaN                         NaN   \n",
       "\n",
       "   Latest industrial data Latest trade data Unnamed: 30  \n",
       "0                     NaN            2018.0         NaN  \n",
       "1                     NaN               NaN         NaN  \n",
       "2                     NaN            2018.0         NaN  \n",
       "3                     NaN               NaN         NaN  \n",
       "4                     NaN            2018.0         NaN  \n",
       "\n",
       "[5 rows x 31 columns]"
      ]
     },
     "execution_count": 3,
     "metadata": {},
     "output_type": "execute_result"
    }
   ],
   "source": [
    "wdi_country_df.head()"
   ]
  },
  {
   "cell_type": "code",
   "execution_count": 4,
   "id": "8f2e4519",
   "metadata": {},
   "outputs": [
    {
     "name": "stdout",
     "output_type": "stream",
     "text": [
      "Index(['Country Code', 'Short Name', 'Table Name', 'Long Name', '2-alpha code',\n",
      "       'Currency Unit', 'Special Notes', 'Region', 'Income Group', 'WB-2 code',\n",
      "       'National accounts base year', 'National accounts reference year',\n",
      "       'SNA price valuation', 'Lending category', 'Other groups',\n",
      "       'System of National Accounts', 'Alternative conversion factor',\n",
      "       'PPP survey year', 'Balance of Payments Manual in use',\n",
      "       'External debt Reporting status', 'System of trade',\n",
      "       'Government Accounting concept', 'IMF data dissemination standard',\n",
      "       'Latest population census', 'Latest household survey',\n",
      "       'Source of most recent Income and expenditure data',\n",
      "       'Vital registration complete', 'Latest agricultural census',\n",
      "       'Latest industrial data', 'Latest trade data', 'Unnamed: 30'],\n",
      "      dtype='object')\n"
     ]
    }
   ],
   "source": [
    "print(wdi_country_df.columns)"
   ]
  },
  {
   "cell_type": "markdown",
   "id": "6ff2b406",
   "metadata": {},
   "source": [
    "### Metadata\n",
    "\n",
    "#### Colunas:\n",
    "\n",
    "- **Country Code** =   **Código do País**\n",
    "- **Short Name** =   **Nome Curto**\n",
    "- **Table Name** =   **Nome da Tabela**\n",
    "- **Long Name** =   **Nome Completo**\n",
    "- **2-alpha code** =   **Código 2-alpha**\n",
    "- **Currency Unit** =   **Unidade Monetária**\n",
    "- **Special Notes** =   **Notas Especiais**\n",
    "- **Region** =   **Região**\n",
    "- **Income Group** =   **Grupo de Renda**\n",
    "- **WB-2 code** =   **Código WB-2**\n",
    "- **National accounts base year** =   **Ano Base das Contas Nacionais**\n",
    "- **National accounts reference year** =   **Ano de Referência das Contas Nacionais**\n",
    "- **SNA price valuation** =   **Avaliação de Preços pelo SNA**\n",
    "- **Lending category** =   **Categoria de Empréstimo**\n",
    "- **Other groups** =   **Outros Grupos**\n",
    "- **System of National Accounts** =   **Sistema de Contas Nacionais**\n",
    "- **Alternative conversion factor** =   **Fator de Conversão Alternativo**\n",
    "- **PPP survey year** =   **Ano da Pesquisa PPC**\n",
    "- **Balance of Payments Manual in use** =   **Manual de Balanço de Pagamentos em Uso**\n",
    "- **External debt Reporting status** =   **Status de Relato de Dívida Externa**\n",
    "- **System of trade** =   **Sistema de Comércio**\n",
    "- **Government Accounting concept** =   **Conceito de Contabilidade Governamental**\n",
    "- **IMF data dissemination standard** =   **Padrão de Disseminação de Dados do FMI**\n",
    "- **Latest population census** =   **Último Censo Populacional**\n",
    "- **Latest household survey** =   **Última Pesquisa Domiciliar**\n",
    "- **Source of most recent Income and expenditure data** =   **Fonte dos Dados mais Recentes de Renda e Despesa**\n",
    "- **Vital registration complete** =   **Registro Vital Completo**\n",
    "- **Latest agricultural census** =   **Último Censo Agrícola**\n",
    "- **Latest industrial data** =   **Dados Industriais mais Recentes**\n",
    "- **Latest trade data** =   **Dados Comerciais mais Recentes**\n",
    "\n",
    "\n",
    "Essa base nor fornece informações sobre o grupo de populações e os grupos de países. Essas informações serão úteis na agregação dos indicadores dentro desses grupos.\n",
    "\n",
    "Última coluna não possui dados, e vamos desconsiderar.\n",
    "### Retirando última coluna"
   ]
  },
  {
   "cell_type": "code",
   "execution_count": 5,
   "id": "7f0620ff",
   "metadata": {},
   "outputs": [],
   "source": [
    "wdi_country_df = wdi_country_df.drop(\"Unnamed: 30\", axis = 1)"
   ]
  },
  {
   "cell_type": "markdown",
   "id": "d55add33",
   "metadata": {},
   "source": [
    "Selecionando algumas colunas para a primeira analise que será com base nos parâmetros de renda e região,"
   ]
  },
  {
   "cell_type": "code",
   "execution_count": 6,
   "id": "b2887bd9",
   "metadata": {},
   "outputs": [],
   "source": [
    "wdi_country_Slice = wdi_country_df[[\"Country Code\", \"Short Name\", \"Region\", \"Income Group\"]]"
   ]
  },
  {
   "cell_type": "code",
   "execution_count": 7,
   "id": "5227183c",
   "metadata": {},
   "outputs": [
    {
     "data": {
      "text/html": [
       "<div>\n",
       "<style scoped>\n",
       "    .dataframe tbody tr th:only-of-type {\n",
       "        vertical-align: middle;\n",
       "    }\n",
       "\n",
       "    .dataframe tbody tr th {\n",
       "        vertical-align: top;\n",
       "    }\n",
       "\n",
       "    .dataframe thead th {\n",
       "        text-align: right;\n",
       "    }\n",
       "</style>\n",
       "<table border=\"1\" class=\"dataframe\">\n",
       "  <thead>\n",
       "    <tr style=\"text-align: right;\">\n",
       "      <th></th>\n",
       "      <th>Country Code</th>\n",
       "      <th>Short Name</th>\n",
       "      <th>Region</th>\n",
       "      <th>Income Group</th>\n",
       "    </tr>\n",
       "  </thead>\n",
       "  <tbody>\n",
       "    <tr>\n",
       "      <th>0</th>\n",
       "      <td>ABW</td>\n",
       "      <td>Aruba</td>\n",
       "      <td>Latin America &amp; Caribbean</td>\n",
       "      <td>High income</td>\n",
       "    </tr>\n",
       "    <tr>\n",
       "      <th>1</th>\n",
       "      <td>AFE</td>\n",
       "      <td>Africa Eastern and Southern</td>\n",
       "      <td>NaN</td>\n",
       "      <td>NaN</td>\n",
       "    </tr>\n",
       "    <tr>\n",
       "      <th>2</th>\n",
       "      <td>AFG</td>\n",
       "      <td>Afghanistan</td>\n",
       "      <td>South Asia</td>\n",
       "      <td>Low income</td>\n",
       "    </tr>\n",
       "    <tr>\n",
       "      <th>3</th>\n",
       "      <td>AFW</td>\n",
       "      <td>Africa Western and Central</td>\n",
       "      <td>NaN</td>\n",
       "      <td>NaN</td>\n",
       "    </tr>\n",
       "    <tr>\n",
       "      <th>4</th>\n",
       "      <td>AGO</td>\n",
       "      <td>Angola</td>\n",
       "      <td>Sub-Saharan Africa</td>\n",
       "      <td>Lower middle income</td>\n",
       "    </tr>\n",
       "  </tbody>\n",
       "</table>\n",
       "</div>"
      ],
      "text/plain": [
       "  Country Code                   Short Name                     Region  \\\n",
       "0          ABW                        Aruba  Latin America & Caribbean   \n",
       "1          AFE  Africa Eastern and Southern                        NaN   \n",
       "2          AFG                  Afghanistan                 South Asia   \n",
       "3          AFW   Africa Western and Central                        NaN   \n",
       "4          AGO                       Angola         Sub-Saharan Africa   \n",
       "\n",
       "          Income Group  \n",
       "0          High income  \n",
       "1                  NaN  \n",
       "2           Low income  \n",
       "3                  NaN  \n",
       "4  Lower middle income  "
      ]
     },
     "execution_count": 7,
     "metadata": {},
     "output_type": "execute_result"
    }
   ],
   "source": [
    "wdi_country_Slice.head()"
   ]
  },
  {
   "cell_type": "code",
   "execution_count": 8,
   "id": "d9635642",
   "metadata": {},
   "outputs": [
    {
     "data": {
      "text/plain": [
       "array(['High income', nan, 'Low income', 'Lower middle income',\n",
       "       'Upper middle income'], dtype=object)"
      ]
     },
     "execution_count": 8,
     "metadata": {},
     "output_type": "execute_result"
    }
   ],
   "source": [
    "wdi_country_Slice['Income Group'].unique()"
   ]
  },
  {
   "cell_type": "markdown",
   "id": "097dd987",
   "metadata": {},
   "source": [
    "Temos 4 categorias e alguns paises que nao possuem essa informação, representados por \"nan\". "
   ]
  },
  {
   "cell_type": "code",
   "execution_count": 13,
   "id": "5cbe1ee2",
   "metadata": {},
   "outputs": [
    {
     "data": {
      "text/plain": [
       "Income Group\n",
       "High income            82\n",
       "Lower middle income    54\n",
       "Upper middle income    54\n",
       "Low income             26\n",
       "Name: count, dtype: int64"
      ]
     },
     "execution_count": 13,
     "metadata": {},
     "output_type": "execute_result"
    }
   ],
   "source": [
    "incomegroups = [i for i in wdi_country_Slice['Income Group'].unique() if type(i) == str]\n",
    "wdi_country_Slice['Income Group'].value_counts()"
   ]
  },
  {
   "cell_type": "code",
   "execution_count": 60,
   "id": "af4f93b2",
   "metadata": {},
   "outputs": [
    {
     "name": "stderr",
     "output_type": "stream",
     "text": [
      "/tmp/ipykernel_22504/63249651.py:3: FutureWarning: The geopandas.dataset module is deprecated and will be removed in GeoPandas 1.0. You can get the original 'naturalearth_lowres' data from https://www.naturalearthdata.com/downloads/110m-cultural-vectors/.\n",
      "  world = gpd.read_file(gpd.datasets.get_path('naturalearth_lowres'))\n"
     ]
    },
    {
     "data": {
      "image/png": "[encoded data removed]",
      "text/plain": [
       "<Figure size 640x480 with 1 Axes>"
      ]
     },
     "metadata": {},
     "output_type": "display_data"
    }
   ],
   "source": [
    "plot_income_group(wdi_country_Slice, incomegroups)"
   ]
  },
  {
   "cell_type": "markdown",
   "id": "4612076b",
   "metadata": {},
   "source": [
    "## WDI Data"
   ]
  },
  {
   "cell_type": "code",
   "execution_count": 80,
   "id": "47d6ac9d",
   "metadata": {},
   "outputs": [
    {
     "data": {
      "text/html": [
       "<div>\n",
       "<style scoped>\n",
       "    .dataframe tbody tr th:only-of-type {\n",
       "        vertical-align: middle;\n",
       "    }\n",
       "\n",
       "    .dataframe tbody tr th {\n",
       "        vertical-align: top;\n",
       "    }\n",
       "\n",
       "    .dataframe thead th {\n",
       "        text-align: right;\n",
       "    }\n",
       "</style>\n",
       "<table border=\"1\" class=\"dataframe\">\n",
       "  <thead>\n",
       "    <tr style=\"text-align: right;\">\n",
       "      <th></th>\n",
       "      <th>Country Name</th>\n",
       "      <th>Country Code</th>\n",
       "      <th>Indicator Name</th>\n",
       "      <th>Indicator Code</th>\n",
       "      <th>1960</th>\n",
       "      <th>1961</th>\n",
       "      <th>1962</th>\n",
       "      <th>1963</th>\n",
       "      <th>1964</th>\n",
       "      <th>1965</th>\n",
       "      <th>...</th>\n",
       "      <th>2013</th>\n",
       "      <th>2014</th>\n",
       "      <th>2015</th>\n",
       "      <th>2016</th>\n",
       "      <th>2017</th>\n",
       "      <th>2018</th>\n",
       "      <th>2019</th>\n",
       "      <th>2020</th>\n",
       "      <th>2021</th>\n",
       "      <th>2022</th>\n",
       "    </tr>\n",
       "  </thead>\n",
       "  <tbody>\n",
       "    <tr>\n",
       "      <th>0</th>\n",
       "      <td>Africa Eastern and Southern</td>\n",
       "      <td>AFE</td>\n",
       "      <td>Access to clean fuels and technologies for coo...</td>\n",
       "      <td>EG.CFT.ACCS.ZS</td>\n",
       "      <td>NaN</td>\n",
       "      <td>NaN</td>\n",
       "      <td>NaN</td>\n",
       "      <td>NaN</td>\n",
       "      <td>NaN</td>\n",
       "      <td>NaN</td>\n",
       "      <td>...</td>\n",
       "      <td>16.914625</td>\n",
       "      <td>17.392349</td>\n",
       "      <td>17.892005</td>\n",
       "      <td>18.359993</td>\n",
       "      <td>18.795151</td>\n",
       "      <td>19.295176</td>\n",
       "      <td>19.788156</td>\n",
       "      <td>20.279599</td>\n",
       "      <td>20.773627</td>\n",
       "      <td>NaN</td>\n",
       "    </tr>\n",
       "    <tr>\n",
       "      <th>1</th>\n",
       "      <td>Africa Eastern and Southern</td>\n",
       "      <td>AFE</td>\n",
       "      <td>Access to clean fuels and technologies for coo...</td>\n",
       "      <td>EG.CFT.ACCS.RU.ZS</td>\n",
       "      <td>NaN</td>\n",
       "      <td>NaN</td>\n",
       "      <td>NaN</td>\n",
       "      <td>NaN</td>\n",
       "      <td>NaN</td>\n",
       "      <td>NaN</td>\n",
       "      <td>...</td>\n",
       "      <td>6.473301</td>\n",
       "      <td>6.720331</td>\n",
       "      <td>7.015917</td>\n",
       "      <td>7.281390</td>\n",
       "      <td>7.513673</td>\n",
       "      <td>7.809566</td>\n",
       "      <td>8.075889</td>\n",
       "      <td>8.366010</td>\n",
       "      <td>8.684137</td>\n",
       "      <td>NaN</td>\n",
       "    </tr>\n",
       "    <tr>\n",
       "      <th>2</th>\n",
       "      <td>Africa Eastern and Southern</td>\n",
       "      <td>AFE</td>\n",
       "      <td>Access to clean fuels and technologies for coo...</td>\n",
       "      <td>EG.CFT.ACCS.UR.ZS</td>\n",
       "      <td>NaN</td>\n",
       "      <td>NaN</td>\n",
       "      <td>NaN</td>\n",
       "      <td>NaN</td>\n",
       "      <td>NaN</td>\n",
       "      <td>NaN</td>\n",
       "      <td>...</td>\n",
       "      <td>37.870347</td>\n",
       "      <td>38.184152</td>\n",
       "      <td>38.543180</td>\n",
       "      <td>38.801719</td>\n",
       "      <td>39.039014</td>\n",
       "      <td>39.323186</td>\n",
       "      <td>39.643848</td>\n",
       "      <td>39.894830</td>\n",
       "      <td>40.213891</td>\n",
       "      <td>NaN</td>\n",
       "    </tr>\n",
       "    <tr>\n",
       "      <th>3</th>\n",
       "      <td>Africa Eastern and Southern</td>\n",
       "      <td>AFE</td>\n",
       "      <td>Access to electricity (% of population)</td>\n",
       "      <td>EG.ELC.ACCS.ZS</td>\n",
       "      <td>NaN</td>\n",
       "      <td>NaN</td>\n",
       "      <td>NaN</td>\n",
       "      <td>NaN</td>\n",
       "      <td>NaN</td>\n",
       "      <td>NaN</td>\n",
       "      <td>...</td>\n",
       "      <td>31.695183</td>\n",
       "      <td>31.859257</td>\n",
       "      <td>33.903515</td>\n",
       "      <td>38.851444</td>\n",
       "      <td>40.197332</td>\n",
       "      <td>43.028332</td>\n",
       "      <td>44.389773</td>\n",
       "      <td>46.268621</td>\n",
       "      <td>48.103609</td>\n",
       "      <td>NaN</td>\n",
       "    </tr>\n",
       "    <tr>\n",
       "      <th>4</th>\n",
       "      <td>Africa Eastern and Southern</td>\n",
       "      <td>AFE</td>\n",
       "      <td>Access to electricity, rural (% of rural popul...</td>\n",
       "      <td>EG.ELC.ACCS.RU.ZS</td>\n",
       "      <td>NaN</td>\n",
       "      <td>NaN</td>\n",
       "      <td>NaN</td>\n",
       "      <td>NaN</td>\n",
       "      <td>NaN</td>\n",
       "      <td>NaN</td>\n",
       "      <td>...</td>\n",
       "      <td>18.672306</td>\n",
       "      <td>17.623956</td>\n",
       "      <td>16.516633</td>\n",
       "      <td>24.594474</td>\n",
       "      <td>25.389297</td>\n",
       "      <td>27.041743</td>\n",
       "      <td>29.138285</td>\n",
       "      <td>30.998687</td>\n",
       "      <td>32.772690</td>\n",
       "      <td>NaN</td>\n",
       "    </tr>\n",
       "  </tbody>\n",
       "</table>\n",
       "<p>5 rows × 67 columns</p>\n",
       "</div>"
      ],
      "text/plain": [
       "                  Country Name Country Code  \\\n",
       "0  Africa Eastern and Southern          AFE   \n",
       "1  Africa Eastern and Southern          AFE   \n",
       "2  Africa Eastern and Southern          AFE   \n",
       "3  Africa Eastern and Southern          AFE   \n",
       "4  Africa Eastern and Southern          AFE   \n",
       "\n",
       "                                      Indicator Name     Indicator Code  1960  \\\n",
       "0  Access to clean fuels and technologies for coo...     EG.CFT.ACCS.ZS   NaN   \n",
       "1  Access to clean fuels and technologies for coo...  EG.CFT.ACCS.RU.ZS   NaN   \n",
       "2  Access to clean fuels and technologies for coo...  EG.CFT.ACCS.UR.ZS   NaN   \n",
       "3            Access to electricity (% of population)     EG.ELC.ACCS.ZS   NaN   \n",
       "4  Access to electricity, rural (% of rural popul...  EG.ELC.ACCS.RU.ZS   NaN   \n",
       "\n",
       "   1961  1962  1963  1964  1965  ...       2013       2014       2015  \\\n",
       "0   NaN   NaN   NaN   NaN   NaN  ...  16.914625  17.392349  17.892005   \n",
       "1   NaN   NaN   NaN   NaN   NaN  ...   6.473301   6.720331   7.015917   \n",
       "2   NaN   NaN   NaN   NaN   NaN  ...  37.870347  38.184152  38.543180   \n",
       "3   NaN   NaN   NaN   NaN   NaN  ...  31.695183  31.859257  33.903515   \n",
       "4   NaN   NaN   NaN   NaN   NaN  ...  18.672306  17.623956  16.516633   \n",
       "\n",
       "        2016       2017       2018       2019       2020       2021  2022  \n",
       "0  18.359993  18.795151  19.295176  19.788156  20.279599  20.773627   NaN  \n",
       "1   7.281390   7.513673   7.809566   8.075889   8.366010   8.684137   NaN  \n",
       "2  38.801719  39.039014  39.323186  39.643848  39.894830  40.213891   NaN  \n",
       "3  38.851444  40.197332  43.028332  44.389773  46.268621  48.103609   NaN  \n",
       "4  24.594474  25.389297  27.041743  29.138285  30.998687  32.772690   NaN  \n",
       "\n",
       "[5 rows x 67 columns]"
      ]
     },
     "execution_count": 80,
     "metadata": {},
     "output_type": "execute_result"
    }
   ],
   "source": [
    "wdi_data_df.head()"
   ]
  },
  {
   "cell_type": "markdown",
   "id": "8422a36a",
   "metadata": {},
   "source": [
    "## Removendo a ultima coluna"
   ]
  },
  {
   "cell_type": "code",
   "execution_count": 79,
   "id": "9c963075",
   "metadata": {},
   "outputs": [],
   "source": [
    "wdi_data_df = wdi_data_df.drop(\"Unnamed: 67\", axis = 1)"
   ]
  },
  {
   "cell_type": "markdown",
   "id": "a1977a6e",
   "metadata": {},
   "source": [
    "## Paises com maior historico de dados para cada indicador "
   ]
  },
  {
   "cell_type": "code",
   "execution_count": 83,
   "id": "722eaea1",
   "metadata": {},
   "outputs": [],
   "source": [
    "# Contando os dados\n",
    "wdi_data_df['non_nan_count'] = wdi_data_df.notna().sum(axis=1)"
   ]
  },
  {
   "cell_type": "code",
   "execution_count": 86,
   "id": "57f6d1bf",
   "metadata": {},
   "outputs": [],
   "source": [
    "# \"Poverty headcount ratio at $2.15 a day (2017 PPP) (% of population)\"  (SI.POV.DDAY)\n",
    "poverty_headcount_ratio = wdi_data_df[wdi_data_df[\"Indicator Code\"] == 'SI.POV.DDAY']\n",
    "poverty_headcount_ratio_sorted = poverty_headcount_ratio.sort_values(by='non_nan_count', ascending=False)\n",
    "# \"Population, total\" (SP.POP.TOTL)\n",
    "population_total = wdi_data_df[wdi_data_df[\"Indicator Code\"] == 'SP.POP.TOTL']\n",
    "population_total_sorted = population_total.sort_values(by='non_nan_count', ascending=False)\n",
    "# \"Labor force participation rate, total (% of total population ages 15+) (modeled ILO estimate)\" (SL.TLF.CACT.ZS)\n",
    "labor_force_participation_rate = wdi_data_df[wdi_data_df[\"Indicator Code\"] == 'SL.TLF.CACT.ZS']\n",
    "labor_force_participation_rate_sorted = labor_force_participation_rate.sort_values(by='non_nan_count', ascending=False)\n",
    "# \"School enrollment, primary and secondary (gross), gender parity index (GPI)\" (SE.ENR.PRSC.FM.ZS)\n",
    "school_enrollment = wdi_data_df[wdi_data_df[\"Indicator Code\"] == 'SE.ENR.PRSC.FM.ZS']\n",
    "school_enrollment_sorted = school_enrollment.sort_values(by='non_nan_count', ascending=False)\n",
    "# \"CO2 emissions (metric tons per capita)\" (EN.ATM.CO2E.PC)\n",
    "co2_emissions = wdi_data_df[wdi_data_df[\"Indicator Code\"] == 'EN.ATM.CO2E.PC']\n",
    "co2_emissions_sorted = co2_emissions.sort_values(by='non_nan_count', ascending=False)\n",
    "# \"Forest area (% of land area)\" (AG.LND.FRST.ZS)\n",
    "forest_area = wdi_data_df[wdi_data_df[\"Indicator Code\"] == 'AG.LND.FRST.ZS']\n",
    "forest_area_sorted = forest_area.sort_values(by='non_nan_count', ascending=False)\n",
    "# \"Access to electricity, urban (% of urban population)\" (EG.ELC.ACCS.UR.ZS)\n",
    "access_to_electricity_urban = wdi_data_df[wdi_data_df[\"Indicator Code\"] == 'EG.ELC.ACCS.UR.ZS']\n",
    "access_to_electricity_urban_sorted = access_to_electricity_urban.sort_values(by='non_nan_count', ascending=False)"
   ]
  },
  {
   "cell_type": "markdown",
   "id": "f946abf7",
   "metadata": {},
   "source": [
    "# População mundial"
   ]
  },
  {
   "cell_type": "code",
   "execution_count": 92,
   "id": "857277c6",
   "metadata": {},
   "outputs": [],
   "source": [
    "population_total_world = population_total_sorted[population_total_sorted[\"Country Code\"] == \"WLD\"]"
   ]
  },
  {
   "cell_type": "code",
   "execution_count": 103,
   "id": "4452c99f",
   "metadata": {},
   "outputs": [
    {
     "data": {
      "text/plain": [
       "<Axes: title={'center': 'Population total world'}, xlabel='Year', ylabel='Population total'>"
      ]
     },
     "execution_count": 103,
     "metadata": {},
     "output_type": "execute_result"
    },
    {
     "data": {
      "image/png": "[encoded data removed]",
      "text/plain": [
       "<Figure size 1000x500 with 1 Axes>"
      ]
     },
     "metadata": {},
     "output_type": "display_data"
    }
   ],
   "source": [
    "population_total_world.loc[:, \"1960\":\"2018\"].T.plot( legend = False, title = \"Population total world\", \n",
    "                                                    color = \"blue\", figsize = (10, 5), grid = True, linewidth = 2,\n",
    "                                                    xlabel = \"Year\", ylabel = \"Population total\", fontsize = 12)"
   ]
  },
  {
   "cell_type": "markdown",
   "id": "02686647",
   "metadata": {},
   "source": [
    "\n",
    "- WDIData\n",
    "\n",
    "- Coluna \"Vital registration complete\" deve-se substituir os dados de NaN para No (Será que see Nan significa não mesmo, ou é só sem informações?)"
   ]
  },
  {
   "cell_type": "markdown",
   "id": "32e1a6f2",
   "metadata": {},
   "source": [
    "### Tratando \"Coluna Vital registration complete\""
   ]
  },
  {
   "cell_type": "code",
   "execution_count": 22,
   "id": "708630f0",
   "metadata": {
    "scrolled": true
   },
   "outputs": [
    {
     "data": {
      "text/html": [
       "<div>\n",
       "<style scoped>\n",
       "    .dataframe tbody tr th:only-of-type {\n",
       "        vertical-align: middle;\n",
       "    }\n",
       "\n",
       "    .dataframe tbody tr th {\n",
       "        vertical-align: top;\n",
       "    }\n",
       "\n",
       "    .dataframe thead th {\n",
       "        text-align: right;\n",
       "    }\n",
       "</style>\n",
       "<table border=\"1\" class=\"dataframe\">\n",
       "  <thead>\n",
       "    <tr style=\"text-align: right;\">\n",
       "      <th></th>\n",
       "      <th>Country Code</th>\n",
       "      <th>Short Name</th>\n",
       "      <th>Table Name</th>\n",
       "      <th>Long Name</th>\n",
       "      <th>2-alpha code</th>\n",
       "      <th>Currency Unit</th>\n",
       "      <th>Special Notes</th>\n",
       "      <th>Region</th>\n",
       "      <th>Income Group</th>\n",
       "      <th>WB-2 code</th>\n",
       "      <th>...</th>\n",
       "      <th>System of trade</th>\n",
       "      <th>Government Accounting concept</th>\n",
       "      <th>IMF data dissemination standard</th>\n",
       "      <th>Latest population census</th>\n",
       "      <th>Latest household survey</th>\n",
       "      <th>Source of most recent Income and expenditure data</th>\n",
       "      <th>Vital registration complete</th>\n",
       "      <th>Latest agricultural census</th>\n",
       "      <th>Latest industrial data</th>\n",
       "      <th>Latest trade data</th>\n",
       "    </tr>\n",
       "  </thead>\n",
       "  <tbody>\n",
       "    <tr>\n",
       "      <th>0</th>\n",
       "      <td>ABW</td>\n",
       "      <td>Aruba</td>\n",
       "      <td>Aruba</td>\n",
       "      <td>Aruba</td>\n",
       "      <td>AW</td>\n",
       "      <td>Aruban florin</td>\n",
       "      <td>NaN</td>\n",
       "      <td>Latin America &amp; Caribbean</td>\n",
       "      <td>High income</td>\n",
       "      <td>AW</td>\n",
       "      <td>...</td>\n",
       "      <td>General trade system</td>\n",
       "      <td>NaN</td>\n",
       "      <td>Enhanced General Data Dissemination System (e-...</td>\n",
       "      <td>2020 (expected)</td>\n",
       "      <td>NaN</td>\n",
       "      <td>NaN</td>\n",
       "      <td>Yes</td>\n",
       "      <td>NaN</td>\n",
       "      <td>NaN</td>\n",
       "      <td>2018.0</td>\n",
       "    </tr>\n",
       "  </tbody>\n",
       "</table>\n",
       "<p>1 rows × 30 columns</p>\n",
       "</div>"
      ],
      "text/plain": [
       "  Country Code Short Name Table Name Long Name 2-alpha code  Currency Unit  \\\n",
       "0          ABW      Aruba      Aruba     Aruba           AW  Aruban florin   \n",
       "\n",
       "  Special Notes                     Region Income Group WB-2 code  ...  \\\n",
       "0           NaN  Latin America & Caribbean  High income        AW  ...   \n",
       "\n",
       "        System of trade  Government Accounting concept  \\\n",
       "0  General trade system                            NaN   \n",
       "\n",
       "                     IMF data dissemination standard Latest population census  \\\n",
       "0  Enhanced General Data Dissemination System (e-...          2020 (expected)   \n",
       "\n",
       "  Latest household survey Source of most recent Income and expenditure data  \\\n",
       "0                     NaN                                               NaN   \n",
       "\n",
       "   Vital registration complete  Latest agricultural census  \\\n",
       "0                          Yes                         NaN   \n",
       "\n",
       "  Latest industrial data Latest trade data  \n",
       "0                    NaN            2018.0  \n",
       "\n",
       "[1 rows x 30 columns]"
      ]
     },
     "execution_count": 22,
     "metadata": {},
     "output_type": "execute_result"
    }
   ],
   "source": [
    "wdi_country_df.loc[wdi_country_df[\"Vital registration complete\"] == \"Yes\"].head(1)"
   ]
  },
  {
   "cell_type": "code",
   "execution_count": 40,
   "id": "f5ac7276",
   "metadata": {
    "scrolled": true
   },
   "outputs": [
    {
     "data": {
      "text/plain": [
       "Vital registration complete\n",
       "Yes                                                 119\n",
       "Yes. Vital registration for Guernsey and Jersey.      1\n",
       "Name: count, dtype: int64"
      ]
     },
     "execution_count": 40,
     "metadata": {},
     "output_type": "execute_result"
    }
   ],
   "source": [
    "wdi_country_df[\"Vital registration complete\"].value_counts()"
   ]
  },
  {
   "cell_type": "markdown",
   "id": "ee57efae",
   "metadata": {},
   "source": [
    "#### Transformar todos os valores que contenham Yes para somente Yes"
   ]
  },
  {
   "cell_type": "code",
   "execution_count": 41,
   "id": "e0223e7d",
   "metadata": {},
   "outputs": [],
   "source": [
    "filter = wdi_country_df[\"Vital registration complete\"].str.contains(\"Yes\", na=False)\n",
    "\n",
    "wdi_country_df.loc[filter, \"Vital registration complete\"] = \"Yes\""
   ]
  },
  {
   "cell_type": "code",
   "execution_count": 42,
   "id": "931f20b2",
   "metadata": {},
   "outputs": [
    {
     "data": {
      "text/plain": [
       "Vital registration complete\n",
       "Yes    120\n",
       "Name: count, dtype: int64"
      ]
     },
     "execution_count": 42,
     "metadata": {},
     "output_type": "execute_result"
    }
   ],
   "source": [
    "wdi_country_df[\"Vital registration complete\"].value_counts()"
   ]
  },
  {
   "cell_type": "markdown",
   "id": "8273d393",
   "metadata": {},
   "source": [
    "#### Transformar valores Yes em True"
   ]
  },
  {
   "cell_type": "code",
   "execution_count": 43,
   "id": "449ec765",
   "metadata": {},
   "outputs": [],
   "source": [
    "wdi_country_df.loc[wdi_country_df[\"Vital registration complete\"] == \"Yes\", \"Vital registration complete\"] = True"
   ]
  },
  {
   "cell_type": "code",
   "execution_count": 44,
   "id": "496713f3",
   "metadata": {},
   "outputs": [
    {
     "data": {
      "text/plain": [
       "Vital registration complete\n",
       "True    120\n",
       "Name: count, dtype: int64"
      ]
     },
     "execution_count": 44,
     "metadata": {},
     "output_type": "execute_result"
    }
   ],
   "source": [
    "wdi_country_df[\"Vital registration complete\"].value_counts()"
   ]
  },
  {
   "cell_type": "markdown",
   "id": "ec9d717b",
   "metadata": {},
   "source": [
    "#### Transformar valores NaN em False"
   ]
  },
  {
   "cell_type": "code",
   "execution_count": 45,
   "id": "2317192d",
   "metadata": {},
   "outputs": [],
   "source": [
    "wdi_country_df[\"Vital registration complete\"].fillna(False, inplace=True)"
   ]
  },
  {
   "cell_type": "code",
   "execution_count": 46,
   "id": "5ff4f736",
   "metadata": {},
   "outputs": [
    {
     "data": {
      "text/plain": [
       "Vital registration complete\n",
       "False    145\n",
       "True     120\n",
       "Name: count, dtype: int64"
      ]
     },
     "execution_count": 46,
     "metadata": {},
     "output_type": "execute_result"
    }
   ],
   "source": [
    "wdi_country_df[\"Vital registration complete\"].value_counts()"
   ]
  },
  {
   "cell_type": "markdown",
   "id": "e3c1c0b1",
   "metadata": {},
   "source": [
    "### Tratando Coluna \"Income Group\""
   ]
  },
  {
   "cell_type": "code",
   "execution_count": 50,
   "id": "2edfc041",
   "metadata": {},
   "outputs": [
    {
     "data": {
      "text/plain": [
       "array(['High income', nan, 'Low income', 'Lower middle income',\n",
       "       'Upper middle income'], dtype=object)"
      ]
     },
     "execution_count": 50,
     "metadata": {},
     "output_type": "execute_result"
    }
   ],
   "source": [
    "wdi_country_df[\"Income Group\"].unique()"
   ]
  },
  {
   "cell_type": "code",
   "execution_count": 51,
   "id": "060b1d0c",
   "metadata": {},
   "outputs": [
    {
     "data": {
      "text/plain": [
       "Income Group\n",
       "High income            82\n",
       "Lower middle income    54\n",
       "Upper middle income    54\n",
       "Low income             26\n",
       "Name: count, dtype: int64"
      ]
     },
     "execution_count": 51,
     "metadata": {},
     "output_type": "execute_result"
    }
   ],
   "source": [
    "wdi_country_df[\"Income Group\"].value_counts()"
   ]
  },
  {
   "cell_type": "code",
   "execution_count": 52,
   "id": "b935cf69",
   "metadata": {},
   "outputs": [
    {
     "data": {
      "text/html": [
       "<div>\n",
       "<style scoped>\n",
       "    .dataframe tbody tr th:only-of-type {\n",
       "        vertical-align: middle;\n",
       "    }\n",
       "\n",
       "    .dataframe tbody tr th {\n",
       "        vertical-align: top;\n",
       "    }\n",
       "\n",
       "    .dataframe thead th {\n",
       "        text-align: right;\n",
       "    }\n",
       "</style>\n",
       "<table border=\"1\" class=\"dataframe\">\n",
       "  <thead>\n",
       "    <tr style=\"text-align: right;\">\n",
       "      <th></th>\n",
       "      <th>Country Code</th>\n",
       "      <th>Short Name</th>\n",
       "      <th>Table Name</th>\n",
       "      <th>Long Name</th>\n",
       "      <th>2-alpha code</th>\n",
       "      <th>Currency Unit</th>\n",
       "      <th>Special Notes</th>\n",
       "      <th>Region</th>\n",
       "      <th>Income Group</th>\n",
       "      <th>WB-2 code</th>\n",
       "      <th>...</th>\n",
       "      <th>System of trade</th>\n",
       "      <th>Government Accounting concept</th>\n",
       "      <th>IMF data dissemination standard</th>\n",
       "      <th>Latest population census</th>\n",
       "      <th>Latest household survey</th>\n",
       "      <th>Source of most recent Income and expenditure data</th>\n",
       "      <th>Vital registration complete</th>\n",
       "      <th>Latest agricultural census</th>\n",
       "      <th>Latest industrial data</th>\n",
       "      <th>Latest trade data</th>\n",
       "    </tr>\n",
       "  </thead>\n",
       "  <tbody>\n",
       "    <tr>\n",
       "      <th>1</th>\n",
       "      <td>AFE</td>\n",
       "      <td>Africa Eastern and Southern</td>\n",
       "      <td>Africa Eastern and Southern</td>\n",
       "      <td>Africa Eastern and Southern</td>\n",
       "      <td>ZH</td>\n",
       "      <td>NaN</td>\n",
       "      <td>26 countries, stretching from the Red Sea in t...</td>\n",
       "      <td>NaN</td>\n",
       "      <td>NaN</td>\n",
       "      <td>ZH</td>\n",
       "      <td>...</td>\n",
       "      <td>NaN</td>\n",
       "      <td>NaN</td>\n",
       "      <td>NaN</td>\n",
       "      <td>NaN</td>\n",
       "      <td>NaN</td>\n",
       "      <td>NaN</td>\n",
       "      <td>False</td>\n",
       "      <td>NaN</td>\n",
       "      <td>NaN</td>\n",
       "      <td>NaN</td>\n",
       "    </tr>\n",
       "    <tr>\n",
       "      <th>3</th>\n",
       "      <td>AFW</td>\n",
       "      <td>Africa Western and Central</td>\n",
       "      <td>Africa Western and Central</td>\n",
       "      <td>Africa Western and Central</td>\n",
       "      <td>ZI</td>\n",
       "      <td>NaN</td>\n",
       "      <td>22 countries, stretching from the westernmost ...</td>\n",
       "      <td>NaN</td>\n",
       "      <td>NaN</td>\n",
       "      <td>ZI</td>\n",
       "      <td>...</td>\n",
       "      <td>NaN</td>\n",
       "      <td>NaN</td>\n",
       "      <td>NaN</td>\n",
       "      <td>NaN</td>\n",
       "      <td>NaN</td>\n",
       "      <td>NaN</td>\n",
       "      <td>False</td>\n",
       "      <td>NaN</td>\n",
       "      <td>NaN</td>\n",
       "      <td>NaN</td>\n",
       "    </tr>\n",
       "    <tr>\n",
       "      <th>7</th>\n",
       "      <td>ARB</td>\n",
       "      <td>Arab World</td>\n",
       "      <td>Arab World</td>\n",
       "      <td>Arab World</td>\n",
       "      <td>1A</td>\n",
       "      <td>NaN</td>\n",
       "      <td>Arab World aggregate. Arab World is composed o...</td>\n",
       "      <td>NaN</td>\n",
       "      <td>NaN</td>\n",
       "      <td>1A</td>\n",
       "      <td>...</td>\n",
       "      <td>NaN</td>\n",
       "      <td>NaN</td>\n",
       "      <td>NaN</td>\n",
       "      <td>NaN</td>\n",
       "      <td>NaN</td>\n",
       "      <td>NaN</td>\n",
       "      <td>False</td>\n",
       "      <td>NaN</td>\n",
       "      <td>NaN</td>\n",
       "      <td>NaN</td>\n",
       "    </tr>\n",
       "    <tr>\n",
       "      <th>36</th>\n",
       "      <td>CEB</td>\n",
       "      <td>Central Europe and the Baltics</td>\n",
       "      <td>Central Europe and the Baltics</td>\n",
       "      <td>Central Europe and the Baltics</td>\n",
       "      <td>B8</td>\n",
       "      <td>NaN</td>\n",
       "      <td>Central Europe and the Baltics aggregate.</td>\n",
       "      <td>NaN</td>\n",
       "      <td>NaN</td>\n",
       "      <td>B8</td>\n",
       "      <td>...</td>\n",
       "      <td>NaN</td>\n",
       "      <td>NaN</td>\n",
       "      <td>NaN</td>\n",
       "      <td>NaN</td>\n",
       "      <td>NaN</td>\n",
       "      <td>NaN</td>\n",
       "      <td>False</td>\n",
       "      <td>NaN</td>\n",
       "      <td>NaN</td>\n",
       "      <td>NaN</td>\n",
       "    </tr>\n",
       "    <tr>\n",
       "      <th>49</th>\n",
       "      <td>CSS</td>\n",
       "      <td>Caribbean small states</td>\n",
       "      <td>Caribbean small states</td>\n",
       "      <td>Caribbean small states</td>\n",
       "      <td>S3</td>\n",
       "      <td>NaN</td>\n",
       "      <td>NaN</td>\n",
       "      <td>NaN</td>\n",
       "      <td>NaN</td>\n",
       "      <td>S3</td>\n",
       "      <td>...</td>\n",
       "      <td>NaN</td>\n",
       "      <td>NaN</td>\n",
       "      <td>NaN</td>\n",
       "      <td>NaN</td>\n",
       "      <td>NaN</td>\n",
       "      <td>NaN</td>\n",
       "      <td>False</td>\n",
       "      <td>NaN</td>\n",
       "      <td>NaN</td>\n",
       "      <td>NaN</td>\n",
       "    </tr>\n",
       "  </tbody>\n",
       "</table>\n",
       "<p>5 rows × 30 columns</p>\n",
       "</div>"
      ],
      "text/plain": [
       "   Country Code                      Short Name  \\\n",
       "1           AFE     Africa Eastern and Southern   \n",
       "3           AFW      Africa Western and Central   \n",
       "7           ARB                      Arab World   \n",
       "36          CEB  Central Europe and the Baltics   \n",
       "49          CSS          Caribbean small states   \n",
       "\n",
       "                        Table Name                       Long Name  \\\n",
       "1      Africa Eastern and Southern     Africa Eastern and Southern   \n",
       "3       Africa Western and Central      Africa Western and Central   \n",
       "7                       Arab World                      Arab World   \n",
       "36  Central Europe and the Baltics  Central Europe and the Baltics   \n",
       "49          Caribbean small states          Caribbean small states   \n",
       "\n",
       "   2-alpha code Currency Unit  \\\n",
       "1            ZH           NaN   \n",
       "3            ZI           NaN   \n",
       "7            1A           NaN   \n",
       "36           B8           NaN   \n",
       "49           S3           NaN   \n",
       "\n",
       "                                        Special Notes Region Income Group  \\\n",
       "1   26 countries, stretching from the Red Sea in t...    NaN          NaN   \n",
       "3   22 countries, stretching from the westernmost ...    NaN          NaN   \n",
       "7   Arab World aggregate. Arab World is composed o...    NaN          NaN   \n",
       "36          Central Europe and the Baltics aggregate.    NaN          NaN   \n",
       "49                                                NaN    NaN          NaN   \n",
       "\n",
       "   WB-2 code  ... System of trade  Government Accounting concept  \\\n",
       "1         ZH  ...             NaN                            NaN   \n",
       "3         ZI  ...             NaN                            NaN   \n",
       "7         1A  ...             NaN                            NaN   \n",
       "36        B8  ...             NaN                            NaN   \n",
       "49        S3  ...             NaN                            NaN   \n",
       "\n",
       "   IMF data dissemination standard Latest population census  \\\n",
       "1                              NaN                      NaN   \n",
       "3                              NaN                      NaN   \n",
       "7                              NaN                      NaN   \n",
       "36                             NaN                      NaN   \n",
       "49                             NaN                      NaN   \n",
       "\n",
       "   Latest household survey Source of most recent Income and expenditure data  \\\n",
       "1                      NaN                                               NaN   \n",
       "3                      NaN                                               NaN   \n",
       "7                      NaN                                               NaN   \n",
       "36                     NaN                                               NaN   \n",
       "49                     NaN                                               NaN   \n",
       "\n",
       "    Vital registration complete  Latest agricultural census  \\\n",
       "1                         False                         NaN   \n",
       "3                         False                         NaN   \n",
       "7                         False                         NaN   \n",
       "36                        False                         NaN   \n",
       "49                        False                         NaN   \n",
       "\n",
       "   Latest industrial data Latest trade data  \n",
       "1                     NaN               NaN  \n",
       "3                     NaN               NaN  \n",
       "7                     NaN               NaN  \n",
       "36                    NaN               NaN  \n",
       "49                    NaN               NaN  \n",
       "\n",
       "[5 rows x 30 columns]"
      ]
     },
     "execution_count": 52,
     "metadata": {},
     "output_type": "execute_result"
    }
   ],
   "source": [
    "filter = wdi_country_df[\"Income Group\"].isna() \n",
    "wdi_country_df[filter].head()"
   ]
  },
  {
   "cell_type": "markdown",
   "id": "8681a986",
   "metadata": {},
   "source": [
    "#### Removendo Linhas com Income Group == NaN\n",
    "#### Essas linhas tratam-se de grupos de países"
   ]
  },
  {
   "cell_type": "code",
   "execution_count": 53,
   "id": "4ac7669b",
   "metadata": {},
   "outputs": [],
   "source": [
    "filter = wdi_country_df[\"Income Group\"].isna() == False\n",
    "wdi_country_df = wdi_country_df.loc[filter]"
   ]
  },
  {
   "cell_type": "code",
   "execution_count": 54,
   "id": "1429570d",
   "metadata": {
    "scrolled": true
   },
   "outputs": [
    {
     "data": {
      "text/html": [
       "<div>\n",
       "<style scoped>\n",
       "    .dataframe tbody tr th:only-of-type {\n",
       "        vertical-align: middle;\n",
       "    }\n",
       "\n",
       "    .dataframe tbody tr th {\n",
       "        vertical-align: top;\n",
       "    }\n",
       "\n",
       "    .dataframe thead th {\n",
       "        text-align: right;\n",
       "    }\n",
       "</style>\n",
       "<table border=\"1\" class=\"dataframe\">\n",
       "  <thead>\n",
       "    <tr style=\"text-align: right;\">\n",
       "      <th></th>\n",
       "      <th>Country Code</th>\n",
       "      <th>Short Name</th>\n",
       "      <th>Table Name</th>\n",
       "      <th>Long Name</th>\n",
       "      <th>2-alpha code</th>\n",
       "      <th>Currency Unit</th>\n",
       "      <th>Special Notes</th>\n",
       "      <th>Region</th>\n",
       "      <th>Income Group</th>\n",
       "      <th>WB-2 code</th>\n",
       "      <th>...</th>\n",
       "      <th>System of trade</th>\n",
       "      <th>Government Accounting concept</th>\n",
       "      <th>IMF data dissemination standard</th>\n",
       "      <th>Latest population census</th>\n",
       "      <th>Latest household survey</th>\n",
       "      <th>Source of most recent Income and expenditure data</th>\n",
       "      <th>Vital registration complete</th>\n",
       "      <th>Latest agricultural census</th>\n",
       "      <th>Latest industrial data</th>\n",
       "      <th>Latest trade data</th>\n",
       "    </tr>\n",
       "  </thead>\n",
       "  <tbody>\n",
       "  </tbody>\n",
       "</table>\n",
       "<p>0 rows × 30 columns</p>\n",
       "</div>"
      ],
      "text/plain": [
       "Empty DataFrame\n",
       "Columns: [Country Code, Short Name, Table Name, Long Name, 2-alpha code, Currency Unit, Special Notes, Region, Income Group, WB-2 code, National accounts base year, National accounts reference year, SNA price valuation, Lending category, Other groups, System of National Accounts, Alternative conversion factor, PPP survey year, Balance of Payments Manual in use, External debt Reporting status, System of trade, Government Accounting concept, IMF data dissemination standard, Latest population census, Latest household survey, Source of most recent Income and expenditure data, Vital registration complete, Latest agricultural census, Latest industrial data, Latest trade data]\n",
       "Index: []\n",
       "\n",
       "[0 rows x 30 columns]"
      ]
     },
     "execution_count": 54,
     "metadata": {},
     "output_type": "execute_result"
    }
   ],
   "source": [
    "filter = wdi_country_df[\"Income Group\"].isna() \n",
    "wdi_country_df[filter].head(1)"
   ]
  },
  {
   "cell_type": "markdown",
   "id": "e15de562",
   "metadata": {},
   "source": [
    "### Tratando Coluna \"Latest population census\""
   ]
  },
  {
   "cell_type": "code",
   "execution_count": 55,
   "id": "c809faa5",
   "metadata": {},
   "outputs": [
    {
     "data": {
      "text/plain": [
       "array(['2020 (expected)', '1979', '2014',\n",
       "       '2011. Population figures compiled from administrative registers.',\n",
       "       '2011', '2016', '2019', '2008',\n",
       "       '2011. Population figures compiled from administrative registers in combination with other sources of data, such as sample surveys.',\n",
       "       '2013',\n",
       "       '2020 (expected). Population figures compiled from administrative registers.',\n",
       "       '2012', '2017', '2003',\n",
       "       '2020 (expected). Population figures compiled from administrative registers in combination with other sources of data, such as sample surveys.',\n",
       "       'Guernsey: 2015; Jersey: 2011.', nan, '2018',\n",
       "       '2011. Population figures compiled from administrative registers and sample surveys while data on housing characteristics are collected through full field enumeration.',\n",
       "       '2012. Population figures compiled from administrative registers in combination with other sources of data, such as sample surveys.',\n",
       "       '2009', '2015',\n",
       "       '2016. The population by-censuses for 1986 and 1996 were based on one-in-seven sample of the population, while that for 2006 was based on one-in-ten sample of the population.',\n",
       "       '1997', '1943', '2006',\n",
       "       '2016. Population figures compiled from administrative registers.',\n",
       "       '2020', '2007',\n",
       "       '1987. Enumeration of settled population was in November 1986 and of nomads in February 1987.',\n",
       "       '2018. Population figures compiled from administrative registers.',\n",
       "       '2004', '1989'], dtype=object)"
      ]
     },
     "execution_count": 55,
     "metadata": {},
     "output_type": "execute_result"
    }
   ],
   "source": [
    "wdi_country_df[\"Latest population census\"].unique()"
   ]
  },
  {
   "cell_type": "code",
   "execution_count": 56,
   "id": "4d92450a",
   "metadata": {},
   "outputs": [
    {
     "data": {
      "text/plain": [
       "Latest population census\n",
       "2020 (expected)                                                                                                                                                                  62\n",
       "2011                                                                                                                                                                             32\n",
       "2012                                                                                                                                                                             16\n",
       "2017                                                                                                                                                                             11\n",
       "2016                                                                                                                                                                             10\n",
       "2014                                                                                                                                                                              9\n",
       "2019                                                                                                                                                                              8\n",
       "2011. Population figures compiled from administrative registers in combination with other sources of data, such as sample surveys.                                                8\n",
       "2015                                                                                                                                                                              7\n",
       "2013                                                                                                                                                                              7\n",
       "2018                                                                                                                                                                              5\n",
       "2011. Population figures compiled from administrative registers.                                                                                                                  5\n",
       "2020 (expected). Population figures compiled from administrative registers.                                                                                                       4\n",
       "2020 (expected). Population figures compiled from administrative registers in combination with other sources of data, such as sample surveys.                                     4\n",
       "2009                                                                                                                                                                              3\n",
       "2003                                                                                                                                                                              2\n",
       "2004                                                                                                                                                                              2\n",
       "2012. Population figures compiled from administrative registers in combination with other sources of data, such as sample surveys.                                                2\n",
       "2008                                                                                                                                                                              2\n",
       "2020                                                                                                                                                                              2\n",
       "2016. Population figures compiled from administrative registers.                                                                                                                  1\n",
       "2018. Population figures compiled from administrative registers.                                                                                                                  1\n",
       "1987. Enumeration of settled population was in November 1986 and of nomads in February 1987.                                                                                      1\n",
       "2007                                                                                                                                                                              1\n",
       "2016. The population by-censuses for 1986 and 1996 were based on one-in-seven sample of the population, while that for 2006 was based on one-in-ten sample of the population.     1\n",
       "2006                                                                                                                                                                              1\n",
       "1943                                                                                                                                                                              1\n",
       "1997                                                                                                                                                                              1\n",
       "2011. Population figures compiled from administrative registers and sample surveys while data on housing characteristics are collected through full field enumeration.            1\n",
       "1979                                                                                                                                                                              1\n",
       "Guernsey: 2015; Jersey: 2011.                                                                                                                                                     1\n",
       "1989                                                                                                                                                                              1\n",
       "Name: count, dtype: int64"
      ]
     },
     "execution_count": 56,
     "metadata": {},
     "output_type": "execute_result"
    }
   ],
   "source": [
    "wdi_country_df[\"Latest population census\"].value_counts()"
   ]
  },
  {
   "cell_type": "code",
   "execution_count": 57,
   "id": "ddde75a8",
   "metadata": {},
   "outputs": [
    {
     "data": {
      "text/plain": [
       "array(['2020', '1979', '2014', '2011', '2016', '2019', '2008', '2013',\n",
       "       '2012', '2017', '2003', 'Guer', nan, '2018', '2009', '2015',\n",
       "       '1997', '1943', '2006', '2007', '1987', '2004', '1989'],\n",
       "      dtype=object)"
      ]
     },
     "execution_count": 57,
     "metadata": {},
     "output_type": "execute_result"
    }
   ],
   "source": [
    "wdi_country_df[\"Latest population census\"].str[:4].unique()\n"
   ]
  },
  {
   "cell_type": "code",
   "execution_count": 59,
   "id": "32ebbc1e",
   "metadata": {},
   "outputs": [
    {
     "data": {
      "text/html": [
       "<div>\n",
       "<style scoped>\n",
       "    .dataframe tbody tr th:only-of-type {\n",
       "        vertical-align: middle;\n",
       "    }\n",
       "\n",
       "    .dataframe tbody tr th {\n",
       "        vertical-align: top;\n",
       "    }\n",
       "\n",
       "    .dataframe thead th {\n",
       "        text-align: right;\n",
       "    }\n",
       "</style>\n",
       "<table border=\"1\" class=\"dataframe\">\n",
       "  <thead>\n",
       "    <tr style=\"text-align: right;\">\n",
       "      <th></th>\n",
       "      <th>Country Code</th>\n",
       "      <th>Short Name</th>\n",
       "      <th>Table Name</th>\n",
       "      <th>Long Name</th>\n",
       "      <th>2-alpha code</th>\n",
       "      <th>Currency Unit</th>\n",
       "      <th>Special Notes</th>\n",
       "      <th>Region</th>\n",
       "      <th>Income Group</th>\n",
       "      <th>WB-2 code</th>\n",
       "      <th>...</th>\n",
       "      <th>System of trade</th>\n",
       "      <th>Government Accounting concept</th>\n",
       "      <th>IMF data dissemination standard</th>\n",
       "      <th>Latest population census</th>\n",
       "      <th>Latest household survey</th>\n",
       "      <th>Source of most recent Income and expenditure data</th>\n",
       "      <th>Vital registration complete</th>\n",
       "      <th>Latest agricultural census</th>\n",
       "      <th>Latest industrial data</th>\n",
       "      <th>Latest trade data</th>\n",
       "    </tr>\n",
       "  </thead>\n",
       "  <tbody>\n",
       "    <tr>\n",
       "      <th>38</th>\n",
       "      <td>CHI</td>\n",
       "      <td>Channel Islands</td>\n",
       "      <td>Channel Islands</td>\n",
       "      <td>Channel Islands</td>\n",
       "      <td>NaN</td>\n",
       "      <td>Pound sterling</td>\n",
       "      <td>NaN</td>\n",
       "      <td>Europe &amp; Central Asia</td>\n",
       "      <td>High income</td>\n",
       "      <td>JG</td>\n",
       "      <td>...</td>\n",
       "      <td>NaN</td>\n",
       "      <td>NaN</td>\n",
       "      <td>NaN</td>\n",
       "      <td>Guernsey: 2015; Jersey: 2011.</td>\n",
       "      <td>NaN</td>\n",
       "      <td>NaN</td>\n",
       "      <td>True</td>\n",
       "      <td>NaN</td>\n",
       "      <td>NaN</td>\n",
       "      <td>NaN</td>\n",
       "    </tr>\n",
       "  </tbody>\n",
       "</table>\n",
       "<p>1 rows × 30 columns</p>\n",
       "</div>"
      ],
      "text/plain": [
       "   Country Code       Short Name       Table Name        Long Name  \\\n",
       "38          CHI  Channel Islands  Channel Islands  Channel Islands   \n",
       "\n",
       "   2-alpha code   Currency Unit Special Notes                 Region  \\\n",
       "38          NaN  Pound sterling           NaN  Europe & Central Asia   \n",
       "\n",
       "   Income Group WB-2 code  ... System of trade  Government Accounting concept  \\\n",
       "38  High income        JG  ...             NaN                            NaN   \n",
       "\n",
       "   IMF data dissemination standard       Latest population census  \\\n",
       "38                             NaN  Guernsey: 2015; Jersey: 2011.   \n",
       "\n",
       "   Latest household survey Source of most recent Income and expenditure data  \\\n",
       "38                     NaN                                               NaN   \n",
       "\n",
       "    Vital registration complete  Latest agricultural census  \\\n",
       "38                         True                         NaN   \n",
       "\n",
       "   Latest industrial data Latest trade data  \n",
       "38                    NaN               NaN  \n",
       "\n",
       "[1 rows x 30 columns]"
      ]
     },
     "execution_count": 59,
     "metadata": {},
     "output_type": "execute_result"
    }
   ],
   "source": [
    "filter = wdi_country_df[\"Latest population census\"] == \"Guernsey: 2015; Jersey: 2011.\"\n",
    "new_line = wdi_country_df[filter].copy()\n",
    "# wdi_country_df.append(new_line)\n",
    "new_line\n",
    "# wdi_country_df[filter]"
   ]
  },
  {
   "cell_type": "code",
   "execution_count": 12,
   "id": "a3995395",
   "metadata": {},
   "outputs": [
    {
     "data": {
      "text/plain": [
       "Index(['Country Code', 'Short Name', 'Table Name', 'Long Name', '2-alpha code',\n",
       "       'Currency Unit', 'Special Notes', 'Region', 'Income Group', 'WB-2 code',\n",
       "       'National accounts base year', 'National accounts reference year',\n",
       "       'SNA price valuation', 'Lending category', 'Other groups',\n",
       "       'System of National Accounts', 'Alternative conversion factor',\n",
       "       'PPP survey year', 'Balance of Payments Manual in use',\n",
       "       'External debt Reporting status', 'System of trade',\n",
       "       'Government Accounting concept', 'IMF data dissemination standard',\n",
       "       'Latest population census', 'Latest household survey',\n",
       "       'Source of most recent Income and expenditure data',\n",
       "       'Vital registration complete', 'Latest agricultural census',\n",
       "       'Latest industrial data', 'Latest trade data', 'Unnamed: 30'],\n",
       "      dtype='object')"
      ]
     },
     "execution_count": 12,
     "metadata": {},
     "output_type": "execute_result"
    }
   ],
   "source": [
    "wdi_country_df.columns"
   ]
  },
  {
   "cell_type": "markdown",
   "id": "79691691",
   "metadata": {},
   "source": [
    "# Analise dos dados Dos indicadores\n",
    "\n"
   ]
  },
  {
   "cell_type": "markdown",
   "id": "1b1a49b3",
   "metadata": {},
   "source": [
    "Quais indicadores tem historico mais longo dos dados"
   ]
  },
  {
   "cell_type": "code",
   "execution_count": 10,
   "id": "f7cb4f0f",
   "metadata": {},
   "outputs": [
    {
     "data": {
      "text/html": [
       "<div>\n",
       "<style scoped>\n",
       "    .dataframe tbody tr th:only-of-type {\n",
       "        vertical-align: middle;\n",
       "    }\n",
       "\n",
       "    .dataframe tbody tr th {\n",
       "        vertical-align: top;\n",
       "    }\n",
       "\n",
       "    .dataframe thead th {\n",
       "        text-align: right;\n",
       "    }\n",
       "</style>\n",
       "<table border=\"1\" class=\"dataframe\">\n",
       "  <thead>\n",
       "    <tr style=\"text-align: right;\">\n",
       "      <th></th>\n",
       "      <th>Country Name</th>\n",
       "      <th>Country Code</th>\n",
       "      <th>Indicator Name</th>\n",
       "      <th>Indicator Code</th>\n",
       "      <th>1960</th>\n",
       "      <th>1961</th>\n",
       "      <th>1962</th>\n",
       "      <th>1963</th>\n",
       "      <th>1964</th>\n",
       "      <th>1965</th>\n",
       "      <th>...</th>\n",
       "      <th>2014</th>\n",
       "      <th>2015</th>\n",
       "      <th>2016</th>\n",
       "      <th>2017</th>\n",
       "      <th>2018</th>\n",
       "      <th>2019</th>\n",
       "      <th>2020</th>\n",
       "      <th>2021</th>\n",
       "      <th>2022</th>\n",
       "      <th>Unnamed: 67</th>\n",
       "    </tr>\n",
       "  </thead>\n",
       "  <tbody>\n",
       "    <tr>\n",
       "      <th>0</th>\n",
       "      <td>Africa Eastern and Southern</td>\n",
       "      <td>AFE</td>\n",
       "      <td>Access to clean fuels and technologies for coo...</td>\n",
       "      <td>EG.CFT.ACCS.ZS</td>\n",
       "      <td>NaN</td>\n",
       "      <td>NaN</td>\n",
       "      <td>NaN</td>\n",
       "      <td>NaN</td>\n",
       "      <td>NaN</td>\n",
       "      <td>NaN</td>\n",
       "      <td>...</td>\n",
       "      <td>17.392349</td>\n",
       "      <td>17.892005</td>\n",
       "      <td>18.359993</td>\n",
       "      <td>18.795151</td>\n",
       "      <td>19.295176</td>\n",
       "      <td>19.788156</td>\n",
       "      <td>20.279599</td>\n",
       "      <td>20.773627</td>\n",
       "      <td>NaN</td>\n",
       "      <td>NaN</td>\n",
       "    </tr>\n",
       "    <tr>\n",
       "      <th>1</th>\n",
       "      <td>Africa Eastern and Southern</td>\n",
       "      <td>AFE</td>\n",
       "      <td>Access to clean fuels and technologies for coo...</td>\n",
       "      <td>EG.CFT.ACCS.RU.ZS</td>\n",
       "      <td>NaN</td>\n",
       "      <td>NaN</td>\n",
       "      <td>NaN</td>\n",
       "      <td>NaN</td>\n",
       "      <td>NaN</td>\n",
       "      <td>NaN</td>\n",
       "      <td>...</td>\n",
       "      <td>6.720331</td>\n",
       "      <td>7.015917</td>\n",
       "      <td>7.281390</td>\n",
       "      <td>7.513673</td>\n",
       "      <td>7.809566</td>\n",
       "      <td>8.075889</td>\n",
       "      <td>8.366010</td>\n",
       "      <td>8.684137</td>\n",
       "      <td>NaN</td>\n",
       "      <td>NaN</td>\n",
       "    </tr>\n",
       "    <tr>\n",
       "      <th>2</th>\n",
       "      <td>Africa Eastern and Southern</td>\n",
       "      <td>AFE</td>\n",
       "      <td>Access to clean fuels and technologies for coo...</td>\n",
       "      <td>EG.CFT.ACCS.UR.ZS</td>\n",
       "      <td>NaN</td>\n",
       "      <td>NaN</td>\n",
       "      <td>NaN</td>\n",
       "      <td>NaN</td>\n",
       "      <td>NaN</td>\n",
       "      <td>NaN</td>\n",
       "      <td>...</td>\n",
       "      <td>38.184152</td>\n",
       "      <td>38.543180</td>\n",
       "      <td>38.801719</td>\n",
       "      <td>39.039014</td>\n",
       "      <td>39.323186</td>\n",
       "      <td>39.643848</td>\n",
       "      <td>39.894830</td>\n",
       "      <td>40.213891</td>\n",
       "      <td>NaN</td>\n",
       "      <td>NaN</td>\n",
       "    </tr>\n",
       "    <tr>\n",
       "      <th>3</th>\n",
       "      <td>Africa Eastern and Southern</td>\n",
       "      <td>AFE</td>\n",
       "      <td>Access to electricity (% of population)</td>\n",
       "      <td>EG.ELC.ACCS.ZS</td>\n",
       "      <td>NaN</td>\n",
       "      <td>NaN</td>\n",
       "      <td>NaN</td>\n",
       "      <td>NaN</td>\n",
       "      <td>NaN</td>\n",
       "      <td>NaN</td>\n",
       "      <td>...</td>\n",
       "      <td>31.859257</td>\n",
       "      <td>33.903515</td>\n",
       "      <td>38.851444</td>\n",
       "      <td>40.197332</td>\n",
       "      <td>43.028332</td>\n",
       "      <td>44.389773</td>\n",
       "      <td>46.268621</td>\n",
       "      <td>48.103609</td>\n",
       "      <td>NaN</td>\n",
       "      <td>NaN</td>\n",
       "    </tr>\n",
       "    <tr>\n",
       "      <th>4</th>\n",
       "      <td>Africa Eastern and Southern</td>\n",
       "      <td>AFE</td>\n",
       "      <td>Access to electricity, rural (% of rural popul...</td>\n",
       "      <td>EG.ELC.ACCS.RU.ZS</td>\n",
       "      <td>NaN</td>\n",
       "      <td>NaN</td>\n",
       "      <td>NaN</td>\n",
       "      <td>NaN</td>\n",
       "      <td>NaN</td>\n",
       "      <td>NaN</td>\n",
       "      <td>...</td>\n",
       "      <td>17.623956</td>\n",
       "      <td>16.516633</td>\n",
       "      <td>24.594474</td>\n",
       "      <td>25.389297</td>\n",
       "      <td>27.041743</td>\n",
       "      <td>29.138285</td>\n",
       "      <td>30.998687</td>\n",
       "      <td>32.772690</td>\n",
       "      <td>NaN</td>\n",
       "      <td>NaN</td>\n",
       "    </tr>\n",
       "  </tbody>\n",
       "</table>\n",
       "<p>5 rows × 68 columns</p>\n",
       "</div>"
      ],
      "text/plain": [
       "                  Country Name Country Code  \\\n",
       "0  Africa Eastern and Southern          AFE   \n",
       "1  Africa Eastern and Southern          AFE   \n",
       "2  Africa Eastern and Southern          AFE   \n",
       "3  Africa Eastern and Southern          AFE   \n",
       "4  Africa Eastern and Southern          AFE   \n",
       "\n",
       "                                      Indicator Name     Indicator Code  1960  \\\n",
       "0  Access to clean fuels and technologies for coo...     EG.CFT.ACCS.ZS   NaN   \n",
       "1  Access to clean fuels and technologies for coo...  EG.CFT.ACCS.RU.ZS   NaN   \n",
       "2  Access to clean fuels and technologies for coo...  EG.CFT.ACCS.UR.ZS   NaN   \n",
       "3            Access to electricity (% of population)     EG.ELC.ACCS.ZS   NaN   \n",
       "4  Access to electricity, rural (% of rural popul...  EG.ELC.ACCS.RU.ZS   NaN   \n",
       "\n",
       "   1961  1962  1963  1964  1965  ...       2014       2015       2016  \\\n",
       "0   NaN   NaN   NaN   NaN   NaN  ...  17.392349  17.892005  18.359993   \n",
       "1   NaN   NaN   NaN   NaN   NaN  ...   6.720331   7.015917   7.281390   \n",
       "2   NaN   NaN   NaN   NaN   NaN  ...  38.184152  38.543180  38.801719   \n",
       "3   NaN   NaN   NaN   NaN   NaN  ...  31.859257  33.903515  38.851444   \n",
       "4   NaN   NaN   NaN   NaN   NaN  ...  17.623956  16.516633  24.594474   \n",
       "\n",
       "        2017       2018       2019       2020       2021  2022  Unnamed: 67  \n",
       "0  18.795151  19.295176  19.788156  20.279599  20.773627   NaN          NaN  \n",
       "1   7.513673   7.809566   8.075889   8.366010   8.684137   NaN          NaN  \n",
       "2  39.039014  39.323186  39.643848  39.894830  40.213891   NaN          NaN  \n",
       "3  40.197332  43.028332  44.389773  46.268621  48.103609   NaN          NaN  \n",
       "4  25.389297  27.041743  29.138285  30.998687  32.772690   NaN          NaN  \n",
       "\n",
       "[5 rows x 68 columns]"
      ]
     },
     "execution_count": 10,
     "metadata": {},
     "output_type": "execute_result"
    }
   ],
   "source": [
    "wdi_data_df.head()"
   ]
  },
  {
   "cell_type": "code",
   "execution_count": 11,
   "id": "ee36ce5c",
   "metadata": {},
   "outputs": [
    {
     "data": {
      "text/plain": [
       "array(['Access to clean fuels and technologies for cooking (% of population)',\n",
       "       'Access to clean fuels and technologies for cooking, rural (% of rural population)',\n",
       "       'Access to clean fuels and technologies for cooking, urban (% of urban population)',\n",
       "       ...,\n",
       "       'Women who were first married by age 18 (% of women ages 20-24)',\n",
       "       \"Women's share of population ages 15+ living with HIV (%)\",\n",
       "       'Young people (ages 15-24) newly infected with HIV'], dtype=object)"
      ]
     },
     "execution_count": 11,
     "metadata": {},
     "output_type": "execute_result"
    }
   ],
   "source": [
    "wdi_data_df['Indicator Name'].unique()"
   ]
  },
  {
   "cell_type": "code",
   "execution_count": null,
   "id": "c3069e37",
   "metadata": {},
   "outputs": [],
   "source": []
  }
 ],
 "metadata": {
  "kernelspec": {
   "display_name": "Python 3 (ipykernel)",
   "language": "python",
   "name": "python3"
  },
  "language_info": {
   "codemirror_mode": {
    "name": "ipython",
    "version": 3
   },
   "file_extension": ".py",
   "mimetype": "text/x-python",
   "name": "python",
   "nbconvert_exporter": "python",
   "pygments_lexer": "ipython3",
   "version": "3.11.5"
  }
 },
 "nbformat": 4,
 "nbformat_minor": 5
}
