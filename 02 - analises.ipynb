{
 "cells": [
  {
   "cell_type": "code",
   "execution_count": 1,
   "id": "bae0e6d9",
   "metadata": {},
   "outputs": [],
   "source": [
    "import pandas as pd\n",
    "import numpy as np\n",
    "import matplotlib.pyplot as plt\n",
    "from resource_functions import *"
   ]
  },
  {
   "cell_type": "markdown",
   "id": "3c8ea0c9",
   "metadata": {},
   "source": [
    "# Base de Dados - World Development Indicators (WDI)\n",
    "\n",
    "Os Indicadores de Desenvolvimento Mundial (WDI) são a principal coleção de indicadores de desenvolvimento do Banco Mundial, compilados a partir de fontes internacionais oficialmente reconhecidas. Apresenta os dados de desenvolvimento global mais atuais e precisos disponíveis e inclui estimativas nacionais, regionais e globais.\n",
    "\n",
    "Os Indicadores de Desenvolvimento Mundial são uma compilação de estatísticas relevantes, de alta qualidade e comparáveis internacionalmente sobre o desenvolvimento global e a luta contra a pobreza. A base de dados contém 1.400 indicadores de séries cronológicas para 217 economias e mais de 40 grupos de países, com dados para muitos indicadores que remontam a mais de 50 anos [[1](https://datatopics.worldbank.org/world-development-indicators/)]. \n",
    "\n",
    "## Objetivos\n",
    "Para este estudo, optamos por utilizar alguns dos indicadores e avaliar como eles se comportam em diferentes grupos de países. Ao final, pretende-se respoder as perguntas:\n",
    "\n",
    "  1. Quais grupos de países possuem maior serie historia dos indicadores?\n",
    "  2. Quais regiões possuem maior cobertura de dados?\n",
    "  3. Como os indicadores variaram durante os anos para cada grupo de países?\n",
    "\n",
    "### Objetivos específicos\n",
    "\n",
    "Para responder as perguntas precisamos seguir uma sequencia de análises e trasnsformações nos dados. Dessa forma, seguem os objetivos específicos deste trabalho:\n",
    "\n",
    " * Coletar os dados\n",
    " * Identificar as bases com os indicadores relevantes\n",
    " * Filtrar inconsistências das bases de dados\n",
    " * Agrupar, as bases com informações relevantes\n",
    " * Compiolar os historicos dos indicadores\n",
    " * Gerar graficos e tabelas que auxiliem a visualização das análises.\n",
    "\n",
    "## Indicadores utilizados \n",
    "\n",
    "Os indicadores utilizados são os relacionados com:\n",
    "\n",
    "  1. Pobreza e Desigualdade:\n",
    "     * \"Poverty headcount ratio at $2.15 a day (2017 PPP) (% of population)\"  (SI.POV.DDAY)\n",
    "        * Esse indicador mostra a porcentagem de pessoas vivendo com menos de $2.15 por dia, considerando os preços internacionais do ano de 2017. \n",
    "  2. Demografia\n",
    "     * \"Population, total\" (SP.POP.TOTL)\n",
    "        * População total do pais, independentemente da situação de cidadania e status legal.\n",
    "     * \"Labor force participation rate, total (% of total population ages 15+) (modeled ILO estimate)\" (SL.TLF.CACT.ZS)\n",
    "        * Porcentagem da população com 15 anos ou mais que é economicamente ativa.\n",
    "     * \"School enrollment, primary and secondary (gross), gender parity index (GPI)\" (SE.ENR.PRSC.FM.ZS)\n",
    "        * indice da relação entre gêneros que frequentam escola primaria e secundária.\n",
    "  3. Meio ambiente\n",
    "     * \"CO2 emissions (metric tons per capita)\" (EN.ATM.CO2E.PC)\n",
    "     * \"Forest area (% of land area)\" (AG.LND.FRST.ZS)\n",
    "     * \"Access to electricity, urban (% of urban population)\" (EG.ELC.ACCS.UR.ZS)"
   ]
  },
  {
   "cell_type": "code",
   "execution_count": 2,
   "id": "54dc2d43",
   "metadata": {},
   "outputs": [
    {
     "name": "stdout",
     "output_type": "stream",
     "text": [
      "['WDIData.csv', 'WDICountry.csv', 'WDISeries.csv', 'WDICountry-Series.csv', 'WDISeries-Time.csv', 'WDIFootNote.csv']\n",
      "Arquivos extraídos com sucesso!\n"
     ]
    }
   ],
   "source": [
    "# Download dos dados (Se necessário)\n",
    "coleta_dos_dados('https://databankfiles.worldbank.org/public/ddpext_download/WDI_CSV.zip', './bases/')"
   ]
  },
  {
   "cell_type": "markdown",
   "id": "57bed0f1",
   "metadata": {},
   "source": [
    "## Bases de dados\n",
    "Vamos utilizar as bases WDIData e WDICountry"
   ]
  },
  {
   "cell_type": "code",
   "execution_count": 3,
   "id": "528dcd07",
   "metadata": {},
   "outputs": [],
   "source": [
    "FOLDER_PATH = './bases'\n",
    "#wdi_country_series_df = pd.read_csv(f'{FOLDER_PATH}/WDICountry-Series.csv', sep=',')\n",
    "wdi_data_df = pd.read_csv(f'{FOLDER_PATH}/WDIData.csv', sep=',')\n",
    "#wdi_foot_note_df = pd.read_csv(f'{FOLDER_PATH}/WDIFootNote.csv', sep=',')\n",
    "#wdi_series_time_df = pd.read_csv(f'{FOLDER_PATH}/WDISeries-Time.csv', sep=',')\n",
    "#wdi_series_df = pd.read_csv(f'{FOLDER_PATH}/WDISeries.csv', sep=',')\n",
    "wdi_country_df = pd.read_csv(f'{FOLDER_PATH}/WDICountry.csv', sep=',')"
   ]
  },
  {
   "cell_type": "markdown",
   "id": "07a9ba4b",
   "metadata": {},
   "source": [
    "### WDICountry"
   ]
  },
  {
   "cell_type": "code",
   "execution_count": 4,
   "id": "7d15af56",
   "metadata": {},
   "outputs": [
    {
     "data": {
      "text/html": [
       "<div>\n",
       "<style scoped>\n",
       "    .dataframe tbody tr th:only-of-type {\n",
       "        vertical-align: middle;\n",
       "    }\n",
       "\n",
       "    .dataframe tbody tr th {\n",
       "        vertical-align: top;\n",
       "    }\n",
       "\n",
       "    .dataframe thead th {\n",
       "        text-align: right;\n",
       "    }\n",
       "</style>\n",
       "<table border=\"1\" class=\"dataframe\">\n",
       "  <thead>\n",
       "    <tr style=\"text-align: right;\">\n",
       "      <th></th>\n",
       "      <th>Country Code</th>\n",
       "      <th>Short Name</th>\n",
       "      <th>Table Name</th>\n",
       "      <th>Long Name</th>\n",
       "      <th>2-alpha code</th>\n",
       "      <th>Currency Unit</th>\n",
       "      <th>Special Notes</th>\n",
       "      <th>Region</th>\n",
       "      <th>Income Group</th>\n",
       "      <th>WB-2 code</th>\n",
       "      <th>...</th>\n",
       "      <th>Government Accounting concept</th>\n",
       "      <th>IMF data dissemination standard</th>\n",
       "      <th>Latest population census</th>\n",
       "      <th>Latest household survey</th>\n",
       "      <th>Source of most recent Income and expenditure data</th>\n",
       "      <th>Vital registration complete</th>\n",
       "      <th>Latest agricultural census</th>\n",
       "      <th>Latest industrial data</th>\n",
       "      <th>Latest trade data</th>\n",
       "      <th>Unnamed: 30</th>\n",
       "    </tr>\n",
       "  </thead>\n",
       "  <tbody>\n",
       "    <tr>\n",
       "      <th>0</th>\n",
       "      <td>ABW</td>\n",
       "      <td>Aruba</td>\n",
       "      <td>Aruba</td>\n",
       "      <td>Aruba</td>\n",
       "      <td>AW</td>\n",
       "      <td>Aruban florin</td>\n",
       "      <td>NaN</td>\n",
       "      <td>Latin America &amp; Caribbean</td>\n",
       "      <td>High income</td>\n",
       "      <td>AW</td>\n",
       "      <td>...</td>\n",
       "      <td>NaN</td>\n",
       "      <td>Enhanced General Data Dissemination System (e-...</td>\n",
       "      <td>2020 (expected)</td>\n",
       "      <td>NaN</td>\n",
       "      <td>NaN</td>\n",
       "      <td>Yes</td>\n",
       "      <td>NaN</td>\n",
       "      <td>NaN</td>\n",
       "      <td>2018.0</td>\n",
       "      <td>NaN</td>\n",
       "    </tr>\n",
       "    <tr>\n",
       "      <th>1</th>\n",
       "      <td>AFE</td>\n",
       "      <td>Africa Eastern and Southern</td>\n",
       "      <td>Africa Eastern and Southern</td>\n",
       "      <td>Africa Eastern and Southern</td>\n",
       "      <td>ZH</td>\n",
       "      <td>NaN</td>\n",
       "      <td>26 countries, stretching from the Red Sea in t...</td>\n",
       "      <td>NaN</td>\n",
       "      <td>NaN</td>\n",
       "      <td>ZH</td>\n",
       "      <td>...</td>\n",
       "      <td>NaN</td>\n",
       "      <td>NaN</td>\n",
       "      <td>NaN</td>\n",
       "      <td>NaN</td>\n",
       "      <td>NaN</td>\n",
       "      <td>NaN</td>\n",
       "      <td>NaN</td>\n",
       "      <td>NaN</td>\n",
       "      <td>NaN</td>\n",
       "      <td>NaN</td>\n",
       "    </tr>\n",
       "    <tr>\n",
       "      <th>2</th>\n",
       "      <td>AFG</td>\n",
       "      <td>Afghanistan</td>\n",
       "      <td>Afghanistan</td>\n",
       "      <td>Islamic State of Afghanistan</td>\n",
       "      <td>AF</td>\n",
       "      <td>Afghan afghani</td>\n",
       "      <td>The reporting period for national accounts dat...</td>\n",
       "      <td>South Asia</td>\n",
       "      <td>Low income</td>\n",
       "      <td>AF</td>\n",
       "      <td>...</td>\n",
       "      <td>Consolidated central government</td>\n",
       "      <td>Enhanced General Data Dissemination System (e-...</td>\n",
       "      <td>1979</td>\n",
       "      <td>Demographic and Health Survey, 2015</td>\n",
       "      <td>Integrated household survey (IHS), 2016/17</td>\n",
       "      <td>NaN</td>\n",
       "      <td>NaN</td>\n",
       "      <td>NaN</td>\n",
       "      <td>2018.0</td>\n",
       "      <td>NaN</td>\n",
       "    </tr>\n",
       "    <tr>\n",
       "      <th>3</th>\n",
       "      <td>AFW</td>\n",
       "      <td>Africa Western and Central</td>\n",
       "      <td>Africa Western and Central</td>\n",
       "      <td>Africa Western and Central</td>\n",
       "      <td>ZI</td>\n",
       "      <td>NaN</td>\n",
       "      <td>22 countries, stretching from the westernmost ...</td>\n",
       "      <td>NaN</td>\n",
       "      <td>NaN</td>\n",
       "      <td>ZI</td>\n",
       "      <td>...</td>\n",
       "      <td>NaN</td>\n",
       "      <td>NaN</td>\n",
       "      <td>NaN</td>\n",
       "      <td>NaN</td>\n",
       "      <td>NaN</td>\n",
       "      <td>NaN</td>\n",
       "      <td>NaN</td>\n",
       "      <td>NaN</td>\n",
       "      <td>NaN</td>\n",
       "      <td>NaN</td>\n",
       "    </tr>\n",
       "    <tr>\n",
       "      <th>4</th>\n",
       "      <td>AGO</td>\n",
       "      <td>Angola</td>\n",
       "      <td>Angola</td>\n",
       "      <td>People's Republic of Angola</td>\n",
       "      <td>AO</td>\n",
       "      <td>Angolan kwanza</td>\n",
       "      <td>The World Bank systematically assesses the app...</td>\n",
       "      <td>Sub-Saharan Africa</td>\n",
       "      <td>Lower middle income</td>\n",
       "      <td>AO</td>\n",
       "      <td>...</td>\n",
       "      <td>Budgetary central government</td>\n",
       "      <td>Enhanced General Data Dissemination System (e-...</td>\n",
       "      <td>2014</td>\n",
       "      <td>Demographic and Health Survey, 2015/16</td>\n",
       "      <td>Integrated household survey (IHS), 2008/09</td>\n",
       "      <td>NaN</td>\n",
       "      <td>NaN</td>\n",
       "      <td>NaN</td>\n",
       "      <td>2018.0</td>\n",
       "      <td>NaN</td>\n",
       "    </tr>\n",
       "  </tbody>\n",
       "</table>\n",
       "<p>5 rows × 31 columns</p>\n",
       "</div>"
      ],
      "text/plain": [
       "  Country Code                   Short Name                   Table Name  \\\n",
       "0          ABW                        Aruba                        Aruba   \n",
       "1          AFE  Africa Eastern and Southern  Africa Eastern and Southern   \n",
       "2          AFG                  Afghanistan                  Afghanistan   \n",
       "3          AFW   Africa Western and Central   Africa Western and Central   \n",
       "4          AGO                       Angola                       Angola   \n",
       "\n",
       "                      Long Name 2-alpha code   Currency Unit  \\\n",
       "0                         Aruba           AW   Aruban florin   \n",
       "1   Africa Eastern and Southern           ZH             NaN   \n",
       "2  Islamic State of Afghanistan           AF  Afghan afghani   \n",
       "3    Africa Western and Central           ZI             NaN   \n",
       "4   People's Republic of Angola           AO  Angolan kwanza   \n",
       "\n",
       "                                       Special Notes  \\\n",
       "0                                                NaN   \n",
       "1  26 countries, stretching from the Red Sea in t...   \n",
       "2  The reporting period for national accounts dat...   \n",
       "3  22 countries, stretching from the westernmost ...   \n",
       "4  The World Bank systematically assesses the app...   \n",
       "\n",
       "                      Region         Income Group WB-2 code  ...  \\\n",
       "0  Latin America & Caribbean          High income        AW  ...   \n",
       "1                        NaN                  NaN        ZH  ...   \n",
       "2                 South Asia           Low income        AF  ...   \n",
       "3                        NaN                  NaN        ZI  ...   \n",
       "4         Sub-Saharan Africa  Lower middle income        AO  ...   \n",
       "\n",
       "     Government Accounting concept  \\\n",
       "0                              NaN   \n",
       "1                              NaN   \n",
       "2  Consolidated central government   \n",
       "3                              NaN   \n",
       "4     Budgetary central government   \n",
       "\n",
       "                     IMF data dissemination standard Latest population census  \\\n",
       "0  Enhanced General Data Dissemination System (e-...          2020 (expected)   \n",
       "1                                                NaN                      NaN   \n",
       "2  Enhanced General Data Dissemination System (e-...                     1979   \n",
       "3                                                NaN                      NaN   \n",
       "4  Enhanced General Data Dissemination System (e-...                     2014   \n",
       "\n",
       "                  Latest household survey  \\\n",
       "0                                     NaN   \n",
       "1                                     NaN   \n",
       "2     Demographic and Health Survey, 2015   \n",
       "3                                     NaN   \n",
       "4  Demographic and Health Survey, 2015/16   \n",
       "\n",
       "  Source of most recent Income and expenditure data  \\\n",
       "0                                               NaN   \n",
       "1                                               NaN   \n",
       "2        Integrated household survey (IHS), 2016/17   \n",
       "3                                               NaN   \n",
       "4        Integrated household survey (IHS), 2008/09   \n",
       "\n",
       "  Vital registration complete  Latest agricultural census  \\\n",
       "0                         Yes                         NaN   \n",
       "1                         NaN                         NaN   \n",
       "2                         NaN                         NaN   \n",
       "3                         NaN                         NaN   \n",
       "4                         NaN                         NaN   \n",
       "\n",
       "   Latest industrial data Latest trade data Unnamed: 30  \n",
       "0                     NaN            2018.0         NaN  \n",
       "1                     NaN               NaN         NaN  \n",
       "2                     NaN            2018.0         NaN  \n",
       "3                     NaN               NaN         NaN  \n",
       "4                     NaN            2018.0         NaN  \n",
       "\n",
       "[5 rows x 31 columns]"
      ]
     },
     "execution_count": 4,
     "metadata": {},
     "output_type": "execute_result"
    }
   ],
   "source": [
    "wdi_country_df.head()"
   ]
  },
  {
   "cell_type": "code",
   "execution_count": 5,
   "id": "8f2e4519",
   "metadata": {},
   "outputs": [
    {
     "name": "stdout",
     "output_type": "stream",
     "text": [
      "Index(['Country Code', 'Short Name', 'Table Name', 'Long Name', '2-alpha code',\n",
      "       'Currency Unit', 'Special Notes', 'Region', 'Income Group', 'WB-2 code',\n",
      "       'National accounts base year', 'National accounts reference year',\n",
      "       'SNA price valuation', 'Lending category', 'Other groups',\n",
      "       'System of National Accounts', 'Alternative conversion factor',\n",
      "       'PPP survey year', 'Balance of Payments Manual in use',\n",
      "       'External debt Reporting status', 'System of trade',\n",
      "       'Government Accounting concept', 'IMF data dissemination standard',\n",
      "       'Latest population census', 'Latest household survey',\n",
      "       'Source of most recent Income and expenditure data',\n",
      "       'Vital registration complete', 'Latest agricultural census',\n",
      "       'Latest industrial data', 'Latest trade data', 'Unnamed: 30'],\n",
      "      dtype='object')\n"
     ]
    }
   ],
   "source": [
    "print(wdi_country_df.columns)"
   ]
  },
  {
   "cell_type": "markdown",
   "id": "6ff2b406",
   "metadata": {},
   "source": [
    "### Metadata\n",
    "\n",
    "#### Colunas:\n",
    "\n",
    "- **Country Code** =   **Código do País**\n",
    "- **Short Name** =   **Nome Curto**\n",
    "- **Table Name** =   **Nome da Tabela**\n",
    "- **Long Name** =   **Nome Completo**\n",
    "- **2-alpha code** =   **Código 2-alpha**\n",
    "- **Currency Unit** =   **Unidade Monetária**\n",
    "- **Special Notes** =   **Notas Especiais**\n",
    "- **Region** =   **Região**\n",
    "- **Income Group** =   **Grupo de Renda**\n",
    "- **WB-2 code** =   **Código WB-2**\n",
    "- **National accounts base year** =   **Ano Base das Contas Nacionais**\n",
    "- **National accounts reference year** =   **Ano de Referência das Contas Nacionais**\n",
    "- **SNA price valuation** =   **Avaliação de Preços pelo SNA**\n",
    "- **Lending category** =   **Categoria de Empréstimo**\n",
    "- **Other groups** =   **Outros Grupos**\n",
    "- **System of National Accounts** =   **Sistema de Contas Nacionais**\n",
    "- **Alternative conversion factor** =   **Fator de Conversão Alternativo**\n",
    "- **PPP survey year** =   **Ano da Pesquisa PPC**\n",
    "- **Balance of Payments Manual in use** =   **Manual de Balanço de Pagamentos em Uso**\n",
    "- **External debt Reporting status** =   **Status de Relato de Dívida Externa**\n",
    "- **System of trade** =   **Sistema de Comércio**\n",
    "- **Government Accounting concept** =   **Conceito de Contabilidade Governamental**\n",
    "- **IMF data dissemination standard** =   **Padrão de Disseminação de Dados do FMI**\n",
    "- **Latest population census** =   **Último Censo Populacional**\n",
    "- **Latest household survey** =   **Última Pesquisa Domiciliar**\n",
    "- **Source of most recent Income and expenditure data** =   **Fonte dos Dados mais Recentes de Renda e Despesa**\n",
    "- **Vital registration complete** =   **Registro Vital Completo**\n",
    "- **Latest agricultural census** =   **Último Censo Agrícola**\n",
    "- **Latest industrial data** =   **Dados Industriais mais Recentes**\n",
    "- **Latest trade data** =   **Dados Comerciais mais Recentes**\n",
    "\n",
    "\n",
    "Essa base nor fornece informações sobre o grupo de populações e os grupos de países. Essas informações serão úteis na agregação dos indicadores dentro desses grupos.\n",
    "\n",
    "Última coluna não possui dados, e vamos desconsiderar.\n",
    "### Retirando última coluna"
   ]
  },
  {
   "cell_type": "code",
   "execution_count": 6,
   "id": "7f0620ff",
   "metadata": {},
   "outputs": [],
   "source": [
    "wdi_country_df = wdi_country_df.drop(\"Unnamed: 30\", axis = 1)"
   ]
  },
  {
   "cell_type": "markdown",
   "id": "d55add33",
   "metadata": {},
   "source": [
    "Selecionando algumas colunas para a primeira analise que será com base nos parâmetros de renda e região,"
   ]
  },
  {
   "cell_type": "code",
   "execution_count": 7,
   "id": "b2887bd9",
   "metadata": {},
   "outputs": [],
   "source": [
    "wdi_country_Slice = wdi_country_df[[\"Country Code\", \"Short Name\", \"Region\", \"Income Group\"]]"
   ]
  },
  {
   "cell_type": "code",
   "execution_count": 8,
   "id": "5227183c",
   "metadata": {},
   "outputs": [
    {
     "data": {
      "text/html": [
       "<div>\n",
       "<style scoped>\n",
       "    .dataframe tbody tr th:only-of-type {\n",
       "        vertical-align: middle;\n",
       "    }\n",
       "\n",
       "    .dataframe tbody tr th {\n",
       "        vertical-align: top;\n",
       "    }\n",
       "\n",
       "    .dataframe thead th {\n",
       "        text-align: right;\n",
       "    }\n",
       "</style>\n",
       "<table border=\"1\" class=\"dataframe\">\n",
       "  <thead>\n",
       "    <tr style=\"text-align: right;\">\n",
       "      <th></th>\n",
       "      <th>Country Code</th>\n",
       "      <th>Short Name</th>\n",
       "      <th>Region</th>\n",
       "      <th>Income Group</th>\n",
       "    </tr>\n",
       "  </thead>\n",
       "  <tbody>\n",
       "    <tr>\n",
       "      <th>0</th>\n",
       "      <td>ABW</td>\n",
       "      <td>Aruba</td>\n",
       "      <td>Latin America &amp; Caribbean</td>\n",
       "      <td>High income</td>\n",
       "    </tr>\n",
       "    <tr>\n",
       "      <th>1</th>\n",
       "      <td>AFE</td>\n",
       "      <td>Africa Eastern and Southern</td>\n",
       "      <td>NaN</td>\n",
       "      <td>NaN</td>\n",
       "    </tr>\n",
       "    <tr>\n",
       "      <th>2</th>\n",
       "      <td>AFG</td>\n",
       "      <td>Afghanistan</td>\n",
       "      <td>South Asia</td>\n",
       "      <td>Low income</td>\n",
       "    </tr>\n",
       "    <tr>\n",
       "      <th>3</th>\n",
       "      <td>AFW</td>\n",
       "      <td>Africa Western and Central</td>\n",
       "      <td>NaN</td>\n",
       "      <td>NaN</td>\n",
       "    </tr>\n",
       "    <tr>\n",
       "      <th>4</th>\n",
       "      <td>AGO</td>\n",
       "      <td>Angola</td>\n",
       "      <td>Sub-Saharan Africa</td>\n",
       "      <td>Lower middle income</td>\n",
       "    </tr>\n",
       "  </tbody>\n",
       "</table>\n",
       "</div>"
      ],
      "text/plain": [
       "  Country Code                   Short Name                     Region  \\\n",
       "0          ABW                        Aruba  Latin America & Caribbean   \n",
       "1          AFE  Africa Eastern and Southern                        NaN   \n",
       "2          AFG                  Afghanistan                 South Asia   \n",
       "3          AFW   Africa Western and Central                        NaN   \n",
       "4          AGO                       Angola         Sub-Saharan Africa   \n",
       "\n",
       "          Income Group  \n",
       "0          High income  \n",
       "1                  NaN  \n",
       "2           Low income  \n",
       "3                  NaN  \n",
       "4  Lower middle income  "
      ]
     },
     "execution_count": 8,
     "metadata": {},
     "output_type": "execute_result"
    }
   ],
   "source": [
    "wdi_country_Slice.head()"
   ]
  },
  {
   "cell_type": "code",
   "execution_count": 9,
   "id": "d9635642",
   "metadata": {},
   "outputs": [
    {
     "data": {
      "text/plain": [
       "array(['High income', nan, 'Low income', 'Lower middle income',\n",
       "       'Upper middle income'], dtype=object)"
      ]
     },
     "execution_count": 9,
     "metadata": {},
     "output_type": "execute_result"
    }
   ],
   "source": [
    "wdi_country_Slice['Income Group'].unique()"
   ]
  },
  {
   "cell_type": "markdown",
   "id": "097dd987",
   "metadata": {},
   "source": [
    "Temos 4 categorias e alguns paises que nao possuem essa informação, representados por \"nan\". "
   ]
  },
  {
   "cell_type": "code",
   "execution_count": 10,
   "id": "5cbe1ee2",
   "metadata": {},
   "outputs": [
    {
     "data": {
      "text/plain": [
       "High income            82\n",
       "Lower middle income    54\n",
       "Upper middle income    54\n",
       "Low income             26\n",
       "Name: Income Group, dtype: int64"
      ]
     },
     "execution_count": 10,
     "metadata": {},
     "output_type": "execute_result"
    }
   ],
   "source": [
    "incomegroups = [i for i in wdi_country_Slice['Income Group'].unique() if type(i) == str]\n",
    "wdi_country_Slice['Income Group'].value_counts()"
   ]
  },
  {
   "cell_type": "code",
   "execution_count": 11,
   "id": "af4f93b2",
   "metadata": {},
   "outputs": [
    {
     "name": "stderr",
     "output_type": "stream",
     "text": [
      "c:\\Users\\Renato\\source\\repos\\ADA SANTANDER\\Curso\\Técnicas de Programação I\\Projeto02\\TecnicasProgramacaoAda\\resource_functions.py:11: FutureWarning: The geopandas.dataset module is deprecated and will be removed in GeoPandas 1.0. You can get the original 'naturalearth_lowres' data from https://www.naturalearthdata.com/downloads/110m-cultural-vectors/.\n",
      "  world = gpd.read_file(gpd.datasets.get_path('naturalearth_lowres'))\n"
     ]
    },
    {
     "data": {
      "image/png": "[encoded data removed]",
      "text/plain": [
       "<Figure size 640x480 with 1 Axes>"
      ]
     },
     "metadata": {},
     "output_type": "display_data"
    }
   ],
   "source": [
    "plot_income_group(wdi_country_Slice, incomegroups)"
   ]
  },
  {
   "cell_type": "markdown",
   "id": "4612076b",
   "metadata": {},
   "source": [
    "## WDI Data"
   ]
  },
  {
   "cell_type": "code",
   "execution_count": 12,
   "id": "47d6ac9d",
   "metadata": {},
   "outputs": [
    {
     "data": {
      "text/html": [
       "<div>\n",
       "<style scoped>\n",
       "    .dataframe tbody tr th:only-of-type {\n",
       "        vertical-align: middle;\n",
       "    }\n",
       "\n",
       "    .dataframe tbody tr th {\n",
       "        vertical-align: top;\n",
       "    }\n",
       "\n",
       "    .dataframe thead th {\n",
       "        text-align: right;\n",
       "    }\n",
       "</style>\n",
       "<table border=\"1\" class=\"dataframe\">\n",
       "  <thead>\n",
       "    <tr style=\"text-align: right;\">\n",
       "      <th></th>\n",
       "      <th>Country Name</th>\n",
       "      <th>Country Code</th>\n",
       "      <th>Indicator Name</th>\n",
       "      <th>Indicator Code</th>\n",
       "      <th>1960</th>\n",
       "      <th>1961</th>\n",
       "      <th>1962</th>\n",
       "      <th>1963</th>\n",
       "      <th>1964</th>\n",
       "      <th>1965</th>\n",
       "      <th>...</th>\n",
       "      <th>2014</th>\n",
       "      <th>2015</th>\n",
       "      <th>2016</th>\n",
       "      <th>2017</th>\n",
       "      <th>2018</th>\n",
       "      <th>2019</th>\n",
       "      <th>2020</th>\n",
       "      <th>2021</th>\n",
       "      <th>2022</th>\n",
       "      <th>Unnamed: 67</th>\n",
       "    </tr>\n",
       "  </thead>\n",
       "  <tbody>\n",
       "    <tr>\n",
       "      <th>0</th>\n",
       "      <td>Africa Eastern and Southern</td>\n",
       "      <td>AFE</td>\n",
       "      <td>Access to clean fuels and technologies for coo...</td>\n",
       "      <td>EG.CFT.ACCS.ZS</td>\n",
       "      <td>NaN</td>\n",
       "      <td>NaN</td>\n",
       "      <td>NaN</td>\n",
       "      <td>NaN</td>\n",
       "      <td>NaN</td>\n",
       "      <td>NaN</td>\n",
       "      <td>...</td>\n",
       "      <td>17.392349</td>\n",
       "      <td>17.892005</td>\n",
       "      <td>18.359993</td>\n",
       "      <td>18.795151</td>\n",
       "      <td>19.295176</td>\n",
       "      <td>19.788156</td>\n",
       "      <td>20.279599</td>\n",
       "      <td>20.773627</td>\n",
       "      <td>NaN</td>\n",
       "      <td>NaN</td>\n",
       "    </tr>\n",
       "    <tr>\n",
       "      <th>1</th>\n",
       "      <td>Africa Eastern and Southern</td>\n",
       "      <td>AFE</td>\n",
       "      <td>Access to clean fuels and technologies for coo...</td>\n",
       "      <td>EG.CFT.ACCS.RU.ZS</td>\n",
       "      <td>NaN</td>\n",
       "      <td>NaN</td>\n",
       "      <td>NaN</td>\n",
       "      <td>NaN</td>\n",
       "      <td>NaN</td>\n",
       "      <td>NaN</td>\n",
       "      <td>...</td>\n",
       "      <td>6.720331</td>\n",
       "      <td>7.015917</td>\n",
       "      <td>7.281390</td>\n",
       "      <td>7.513673</td>\n",
       "      <td>7.809566</td>\n",
       "      <td>8.075889</td>\n",
       "      <td>8.366010</td>\n",
       "      <td>8.684137</td>\n",
       "      <td>NaN</td>\n",
       "      <td>NaN</td>\n",
       "    </tr>\n",
       "    <tr>\n",
       "      <th>2</th>\n",
       "      <td>Africa Eastern and Southern</td>\n",
       "      <td>AFE</td>\n",
       "      <td>Access to clean fuels and technologies for coo...</td>\n",
       "      <td>EG.CFT.ACCS.UR.ZS</td>\n",
       "      <td>NaN</td>\n",
       "      <td>NaN</td>\n",
       "      <td>NaN</td>\n",
       "      <td>NaN</td>\n",
       "      <td>NaN</td>\n",
       "      <td>NaN</td>\n",
       "      <td>...</td>\n",
       "      <td>38.184152</td>\n",
       "      <td>38.543180</td>\n",
       "      <td>38.801719</td>\n",
       "      <td>39.039014</td>\n",
       "      <td>39.323186</td>\n",
       "      <td>39.643848</td>\n",
       "      <td>39.894830</td>\n",
       "      <td>40.213891</td>\n",
       "      <td>NaN</td>\n",
       "      <td>NaN</td>\n",
       "    </tr>\n",
       "    <tr>\n",
       "      <th>3</th>\n",
       "      <td>Africa Eastern and Southern</td>\n",
       "      <td>AFE</td>\n",
       "      <td>Access to electricity (% of population)</td>\n",
       "      <td>EG.ELC.ACCS.ZS</td>\n",
       "      <td>NaN</td>\n",
       "      <td>NaN</td>\n",
       "      <td>NaN</td>\n",
       "      <td>NaN</td>\n",
       "      <td>NaN</td>\n",
       "      <td>NaN</td>\n",
       "      <td>...</td>\n",
       "      <td>31.859257</td>\n",
       "      <td>33.903515</td>\n",
       "      <td>38.851444</td>\n",
       "      <td>40.197332</td>\n",
       "      <td>43.028332</td>\n",
       "      <td>44.389773</td>\n",
       "      <td>46.268621</td>\n",
       "      <td>48.103609</td>\n",
       "      <td>NaN</td>\n",
       "      <td>NaN</td>\n",
       "    </tr>\n",
       "    <tr>\n",
       "      <th>4</th>\n",
       "      <td>Africa Eastern and Southern</td>\n",
       "      <td>AFE</td>\n",
       "      <td>Access to electricity, rural (% of rural popul...</td>\n",
       "      <td>EG.ELC.ACCS.RU.ZS</td>\n",
       "      <td>NaN</td>\n",
       "      <td>NaN</td>\n",
       "      <td>NaN</td>\n",
       "      <td>NaN</td>\n",
       "      <td>NaN</td>\n",
       "      <td>NaN</td>\n",
       "      <td>...</td>\n",
       "      <td>17.623956</td>\n",
       "      <td>16.516633</td>\n",
       "      <td>24.594474</td>\n",
       "      <td>25.389297</td>\n",
       "      <td>27.041743</td>\n",
       "      <td>29.138285</td>\n",
       "      <td>30.998687</td>\n",
       "      <td>32.772690</td>\n",
       "      <td>NaN</td>\n",
       "      <td>NaN</td>\n",
       "    </tr>\n",
       "  </tbody>\n",
       "</table>\n",
       "<p>5 rows × 68 columns</p>\n",
       "</div>"
      ],
      "text/plain": [
       "                  Country Name Country Code  \\\n",
       "0  Africa Eastern and Southern          AFE   \n",
       "1  Africa Eastern and Southern          AFE   \n",
       "2  Africa Eastern and Southern          AFE   \n",
       "3  Africa Eastern and Southern          AFE   \n",
       "4  Africa Eastern and Southern          AFE   \n",
       "\n",
       "                                      Indicator Name     Indicator Code  1960  \\\n",
       "0  Access to clean fuels and technologies for coo...     EG.CFT.ACCS.ZS   NaN   \n",
       "1  Access to clean fuels and technologies for coo...  EG.CFT.ACCS.RU.ZS   NaN   \n",
       "2  Access to clean fuels and technologies for coo...  EG.CFT.ACCS.UR.ZS   NaN   \n",
       "3            Access to electricity (% of population)     EG.ELC.ACCS.ZS   NaN   \n",
       "4  Access to electricity, rural (% of rural popul...  EG.ELC.ACCS.RU.ZS   NaN   \n",
       "\n",
       "   1961  1962  1963  1964  1965  ...       2014       2015       2016  \\\n",
       "0   NaN   NaN   NaN   NaN   NaN  ...  17.392349  17.892005  18.359993   \n",
       "1   NaN   NaN   NaN   NaN   NaN  ...   6.720331   7.015917   7.281390   \n",
       "2   NaN   NaN   NaN   NaN   NaN  ...  38.184152  38.543180  38.801719   \n",
       "3   NaN   NaN   NaN   NaN   NaN  ...  31.859257  33.903515  38.851444   \n",
       "4   NaN   NaN   NaN   NaN   NaN  ...  17.623956  16.516633  24.594474   \n",
       "\n",
       "        2017       2018       2019       2020       2021  2022  Unnamed: 67  \n",
       "0  18.795151  19.295176  19.788156  20.279599  20.773627   NaN          NaN  \n",
       "1   7.513673   7.809566   8.075889   8.366010   8.684137   NaN          NaN  \n",
       "2  39.039014  39.323186  39.643848  39.894830  40.213891   NaN          NaN  \n",
       "3  40.197332  43.028332  44.389773  46.268621  48.103609   NaN          NaN  \n",
       "4  25.389297  27.041743  29.138285  30.998687  32.772690   NaN          NaN  \n",
       "\n",
       "[5 rows x 68 columns]"
      ]
     },
     "execution_count": 12,
     "metadata": {},
     "output_type": "execute_result"
    }
   ],
   "source": [
    "wdi_data_df.head()"
   ]
  },
  {
   "cell_type": "markdown",
   "id": "8422a36a",
   "metadata": {},
   "source": [
    "## Removendo a ultima coluna"
   ]
  },
  {
   "cell_type": "code",
   "execution_count": 13,
   "id": "9c963075",
   "metadata": {},
   "outputs": [],
   "source": [
    "wdi_data_df = wdi_data_df.drop(\"Unnamed: 67\", axis = 1)"
   ]
  },
  {
   "cell_type": "markdown",
   "id": "a1977a6e",
   "metadata": {},
   "source": [
    "## Paises com maior historico de dados para cada indicador "
   ]
  },
  {
   "cell_type": "code",
   "execution_count": 14,
   "id": "722eaea1",
   "metadata": {},
   "outputs": [],
   "source": [
    "# Contando os dados\n",
    "wdi_data_df['non_nan_count'] = wdi_data_df.notna().sum(axis=1)\n",
    "wdi_merge = wdi_country_df.merge(wdi_data_df, on='Country Code', how='left')"
   ]
  },
  {
   "cell_type": "code",
   "execution_count": 15,
   "id": "57f6d1bf",
   "metadata": {},
   "outputs": [],
   "source": [
    "# \"Poverty headcount ratio at $2.15 a day (2017 PPP) (% of population)\"  (SI.POV.DDAY)\n",
    "poverty_headcount_ratio = wdi_merge[wdi_merge[\"Indicator Code\"] == 'SI.POV.DDAY']\n",
    "poverty_headcount_ratio_sorted = poverty_headcount_ratio.sort_values(by='non_nan_count', ascending=False)\n",
    "# \"Population, total\" (SP.POP.TOTL)\n",
    "population_total = wdi_merge[wdi_merge[\"Indicator Code\"] == 'SP.POP.TOTL']\n",
    "population_total_sorted = population_total.sort_values(by='non_nan_count', ascending=False)\n",
    "# \"Labor force participation rate, total (% of total population ages 15+) (modeled ILO estimate)\" (SL.TLF.CACT.ZS)\n",
    "labor_force_participation_rate = wdi_merge[wdi_merge[\"Indicator Code\"] == 'SL.TLF.CACT.ZS']\n",
    "labor_force_participation_rate_sorted = labor_force_participation_rate.sort_values(by='non_nan_count', ascending=False)\n",
    "# \"School enrollment, primary and secondary (gross), gender parity index (GPI)\" (SE.ENR.PRSC.FM.ZS)\n",
    "school_enrollment = wdi_merge[wdi_merge[\"Indicator Code\"] == 'SE.ENR.PRSC.FM.ZS']\n",
    "school_enrollment_sorted = school_enrollment.sort_values(by='non_nan_count', ascending=False)\n",
    "# \"CO2 emissions (metric tons per capita)\" (EN.ATM.CO2E.PC)\n",
    "co2_emissions = wdi_merge[wdi_merge[\"Indicator Code\"] == 'EN.ATM.CO2E.PC']\n",
    "co2_emissions_sorted = co2_emissions.sort_values(by='non_nan_count', ascending=False)\n",
    "# \"Forest area (% of land area)\" (AG.LND.FRST.ZS)\n",
    "forest_area = wdi_merge[wdi_merge[\"Indicator Code\"] == 'AG.LND.FRST.ZS']\n",
    "forest_area_sorted = forest_area.sort_values(by='non_nan_count', ascending=False)\n",
    "# \"Access to electricity, urban (% of urban population)\" (EG.ELC.ACCS.UR.ZS)\n",
    "access_to_electricity_urban = wdi_merge[wdi_merge[\"Indicator Code\"] == 'EG.ELC.ACCS.UR.ZS']\n",
    "access_to_electricity_urban_sorted = access_to_electricity_urban.sort_values(by='non_nan_count', ascending=False)"
   ]
  },
  {
   "cell_type": "markdown",
   "id": "f946abf7",
   "metadata": {},
   "source": [
    "## Indicadores - População\n",
    "### População mundial"
   ]
  },
  {
   "cell_type": "code",
   "execution_count": 16,
   "id": "857277c6",
   "metadata": {},
   "outputs": [],
   "source": [
    "population_total_world = population_total_sorted[population_total_sorted[\"Country Code\"] == \"WLD\"]"
   ]
  },
  {
   "cell_type": "code",
   "execution_count": 17,
   "id": "4452c99f",
   "metadata": {},
   "outputs": [
    {
     "data": {
      "text/plain": [
       "<Axes: title={'center': 'Population total world'}, xlabel='Year', ylabel='Population total'>"
      ]
     },
     "execution_count": 17,
     "metadata": {},
     "output_type": "execute_result"
    },
    {
     "data": {
      "image/png": "[encoded data removed]",
      "text/plain": [
       "<Figure size 1000x500 with 1 Axes>"
      ]
     },
     "metadata": {},
     "output_type": "display_data"
    }
   ],
   "source": [
    "population_total_world.loc[:, \"1960\":\"2018\"].T.plot( legend = False, title = \"Population total world\", \n",
    "                                                    color = \"blue\", figsize = (10, 5), grid = True, linewidth = 2,\n",
    "                                                    xlabel = \"Year\", ylabel = \"Population total\", fontsize = 12)"
   ]
  },
  {
   "cell_type": "markdown",
   "id": "e65510e7",
   "metadata": {},
   "source": [
    "### Poverty headcount ratio at $2.15 a day (2017 PPP) (% of population)"
   ]
  },
  {
   "cell_type": "code",
   "execution_count": 18,
   "id": "19cda297",
   "metadata": {},
   "outputs": [
    {
     "data": {
      "text/html": [
       "<div>\n",
       "<style scoped>\n",
       "    .dataframe tbody tr th:only-of-type {\n",
       "        vertical-align: middle;\n",
       "    }\n",
       "\n",
       "    .dataframe tbody tr th {\n",
       "        vertical-align: top;\n",
       "    }\n",
       "\n",
       "    .dataframe thead th {\n",
       "        text-align: right;\n",
       "    }\n",
       "</style>\n",
       "<table border=\"1\" class=\"dataframe\">\n",
       "  <thead>\n",
       "    <tr style=\"text-align: right;\">\n",
       "      <th></th>\n",
       "      <th>Country Code</th>\n",
       "      <th>Short Name</th>\n",
       "      <th>Table Name</th>\n",
       "      <th>Long Name</th>\n",
       "      <th>2-alpha code</th>\n",
       "      <th>Currency Unit</th>\n",
       "      <th>Special Notes</th>\n",
       "      <th>Region</th>\n",
       "      <th>Income Group</th>\n",
       "      <th>WB-2 code</th>\n",
       "      <th>...</th>\n",
       "      <th>2014</th>\n",
       "      <th>2015</th>\n",
       "      <th>2016</th>\n",
       "      <th>2017</th>\n",
       "      <th>2018</th>\n",
       "      <th>2019</th>\n",
       "      <th>2020</th>\n",
       "      <th>2021</th>\n",
       "      <th>2022</th>\n",
       "      <th>non_nan_count</th>\n",
       "    </tr>\n",
       "  </thead>\n",
       "  <tbody>\n",
       "    <tr>\n",
       "      <th>1086</th>\n",
       "      <td>ABW</td>\n",
       "      <td>Aruba</td>\n",
       "      <td>Aruba</td>\n",
       "      <td>Aruba</td>\n",
       "      <td>AW</td>\n",
       "      <td>Aruban florin</td>\n",
       "      <td>NaN</td>\n",
       "      <td>Latin America &amp; Caribbean</td>\n",
       "      <td>High income</td>\n",
       "      <td>AW</td>\n",
       "      <td>...</td>\n",
       "      <td>NaN</td>\n",
       "      <td>NaN</td>\n",
       "      <td>NaN</td>\n",
       "      <td>NaN</td>\n",
       "      <td>NaN</td>\n",
       "      <td>NaN</td>\n",
       "      <td>NaN</td>\n",
       "      <td>NaN</td>\n",
       "      <td>NaN</td>\n",
       "      <td>4</td>\n",
       "    </tr>\n",
       "    <tr>\n",
       "      <th>2572</th>\n",
       "      <td>AFE</td>\n",
       "      <td>Africa Eastern and Southern</td>\n",
       "      <td>Africa Eastern and Southern</td>\n",
       "      <td>Africa Eastern and Southern</td>\n",
       "      <td>ZH</td>\n",
       "      <td>NaN</td>\n",
       "      <td>26 countries, stretching from the Red Sea in t...</td>\n",
       "      <td>NaN</td>\n",
       "      <td>NaN</td>\n",
       "      <td>ZH</td>\n",
       "      <td>...</td>\n",
       "      <td>NaN</td>\n",
       "      <td>NaN</td>\n",
       "      <td>NaN</td>\n",
       "      <td>NaN</td>\n",
       "      <td>NaN</td>\n",
       "      <td>NaN</td>\n",
       "      <td>NaN</td>\n",
       "      <td>NaN</td>\n",
       "      <td>NaN</td>\n",
       "      <td>4</td>\n",
       "    </tr>\n",
       "    <tr>\n",
       "      <th>4058</th>\n",
       "      <td>AFG</td>\n",
       "      <td>Afghanistan</td>\n",
       "      <td>Afghanistan</td>\n",
       "      <td>Islamic State of Afghanistan</td>\n",
       "      <td>AF</td>\n",
       "      <td>Afghan afghani</td>\n",
       "      <td>The reporting period for national accounts dat...</td>\n",
       "      <td>South Asia</td>\n",
       "      <td>Low income</td>\n",
       "      <td>AF</td>\n",
       "      <td>...</td>\n",
       "      <td>NaN</td>\n",
       "      <td>NaN</td>\n",
       "      <td>NaN</td>\n",
       "      <td>NaN</td>\n",
       "      <td>NaN</td>\n",
       "      <td>NaN</td>\n",
       "      <td>NaN</td>\n",
       "      <td>NaN</td>\n",
       "      <td>NaN</td>\n",
       "      <td>4</td>\n",
       "    </tr>\n",
       "    <tr>\n",
       "      <th>5544</th>\n",
       "      <td>AFW</td>\n",
       "      <td>Africa Western and Central</td>\n",
       "      <td>Africa Western and Central</td>\n",
       "      <td>Africa Western and Central</td>\n",
       "      <td>ZI</td>\n",
       "      <td>NaN</td>\n",
       "      <td>22 countries, stretching from the westernmost ...</td>\n",
       "      <td>NaN</td>\n",
       "      <td>NaN</td>\n",
       "      <td>ZI</td>\n",
       "      <td>...</td>\n",
       "      <td>NaN</td>\n",
       "      <td>NaN</td>\n",
       "      <td>NaN</td>\n",
       "      <td>NaN</td>\n",
       "      <td>NaN</td>\n",
       "      <td>NaN</td>\n",
       "      <td>NaN</td>\n",
       "      <td>NaN</td>\n",
       "      <td>NaN</td>\n",
       "      <td>4</td>\n",
       "    </tr>\n",
       "    <tr>\n",
       "      <th>7030</th>\n",
       "      <td>AGO</td>\n",
       "      <td>Angola</td>\n",
       "      <td>Angola</td>\n",
       "      <td>People's Republic of Angola</td>\n",
       "      <td>AO</td>\n",
       "      <td>Angolan kwanza</td>\n",
       "      <td>The World Bank systematically assesses the app...</td>\n",
       "      <td>Sub-Saharan Africa</td>\n",
       "      <td>Lower middle income</td>\n",
       "      <td>AO</td>\n",
       "      <td>...</td>\n",
       "      <td>NaN</td>\n",
       "      <td>NaN</td>\n",
       "      <td>NaN</td>\n",
       "      <td>NaN</td>\n",
       "      <td>31.1</td>\n",
       "      <td>NaN</td>\n",
       "      <td>NaN</td>\n",
       "      <td>NaN</td>\n",
       "      <td>NaN</td>\n",
       "      <td>7</td>\n",
       "    </tr>\n",
       "  </tbody>\n",
       "</table>\n",
       "<p>5 rows × 97 columns</p>\n",
       "</div>"
      ],
      "text/plain": [
       "     Country Code                   Short Name                   Table Name  \\\n",
       "1086          ABW                        Aruba                        Aruba   \n",
       "2572          AFE  Africa Eastern and Southern  Africa Eastern and Southern   \n",
       "4058          AFG                  Afghanistan                  Afghanistan   \n",
       "5544          AFW   Africa Western and Central   Africa Western and Central   \n",
       "7030          AGO                       Angola                       Angola   \n",
       "\n",
       "                         Long Name 2-alpha code   Currency Unit  \\\n",
       "1086                         Aruba           AW   Aruban florin   \n",
       "2572   Africa Eastern and Southern           ZH             NaN   \n",
       "4058  Islamic State of Afghanistan           AF  Afghan afghani   \n",
       "5544    Africa Western and Central           ZI             NaN   \n",
       "7030   People's Republic of Angola           AO  Angolan kwanza   \n",
       "\n",
       "                                          Special Notes  \\\n",
       "1086                                                NaN   \n",
       "2572  26 countries, stretching from the Red Sea in t...   \n",
       "4058  The reporting period for national accounts dat...   \n",
       "5544  22 countries, stretching from the westernmost ...   \n",
       "7030  The World Bank systematically assesses the app...   \n",
       "\n",
       "                         Region         Income Group WB-2 code  ... 2014  \\\n",
       "1086  Latin America & Caribbean          High income        AW  ...  NaN   \n",
       "2572                        NaN                  NaN        ZH  ...  NaN   \n",
       "4058                 South Asia           Low income        AF  ...  NaN   \n",
       "5544                        NaN                  NaN        ZI  ...  NaN   \n",
       "7030         Sub-Saharan Africa  Lower middle income        AO  ...  NaN   \n",
       "\n",
       "      2015 2016 2017  2018 2019  2020  2021 2022 non_nan_count  \n",
       "1086   NaN  NaN  NaN   NaN  NaN   NaN   NaN  NaN             4  \n",
       "2572   NaN  NaN  NaN   NaN  NaN   NaN   NaN  NaN             4  \n",
       "4058   NaN  NaN  NaN   NaN  NaN   NaN   NaN  NaN             4  \n",
       "5544   NaN  NaN  NaN   NaN  NaN   NaN   NaN  NaN             4  \n",
       "7030   NaN  NaN  NaN  31.1  NaN   NaN   NaN  NaN             7  \n",
       "\n",
       "[5 rows x 97 columns]"
      ]
     },
     "execution_count": 18,
     "metadata": {},
     "output_type": "execute_result"
    }
   ],
   "source": [
    "poverty_headcount_ratio.head()"
   ]
  },
  {
   "cell_type": "code",
   "execution_count": 19,
   "id": "0d657482",
   "metadata": {},
   "outputs": [
    {
     "data": {
      "image/png": "[encoded data removed]",
      "text/plain": [
       "<Figure size 1500x1000 with 6 Axes>"
      ]
     },
     "metadata": {},
     "output_type": "display_data"
    }
   ],
   "source": [
    "fig, axs = plt.subplots(2, 3, figsize=(15, 10))\n",
    "\n",
    "# Iterando sobre os dataframes e subplots\n",
    "for i, (ano, ax) in enumerate(zip(range(2017,2023),axs.flatten())):\n",
    "    df = poverty_headcount_ratio.groupby('Region').agg({f'{ano}':['mean','max','min']})\n",
    "    leg = True if i == 0 else False\n",
    "    df.plot(kind='bar',ax=ax, legend=leg)\n",
    "    ax.set_title(f'{ano}')\n",
    "    ax.tick_params(axis='x', rotation=45)  # Rotação dos rótulos do eixo X para melhor legibilidade\n",
    "    if i < 3:\n",
    "        ax.set_xticks([])\n",
    "    ax.grid(which='major', axis='y', linestyle='--')"
   ]
  },
  {
   "cell_type": "markdown",
   "id": "6aa70bda",
   "metadata": {},
   "source": [
    "## Indicadores - Demografia\n",
    "### School enrollment, primary and secondary (gross), gender parity index (GPI)"
   ]
  },
  {
   "cell_type": "code",
   "execution_count": 20,
   "id": "c3069e37",
   "metadata": {},
   "outputs": [
    {
     "data": {
      "image/png": "[encoded data removed]",
      "text/plain": [
       "<Figure size 1500x1000 with 6 Axes>"
      ]
     },
     "metadata": {},
     "output_type": "display_data"
    }
   ],
   "source": [
    "fig, axs = plt.subplots(2, 3, figsize=(15, 10))\n",
    "\n",
    "# Iterando sobre os dataframes e subplots\n",
    "for i, (ano, ax) in enumerate(zip(range(2017,2023),axs.flatten())):\n",
    "    df = school_enrollment.groupby('Region').agg({f'{ano}':['mean','max','min']})\n",
    "    leg = True if i == 0 else False\n",
    "    df.plot(kind='bar',ax=ax, legend=leg)\n",
    "    ax.set_title(f'{ano}')\n",
    "    ax.tick_params(axis='x', rotation=45)  # Rotação dos rótulos do eixo X para melhor legibilidade\n",
    "    if i < 3:\n",
    "        ax.set_xticks([])\n",
    "    ax.grid(which='major', axis='y', linestyle='--')"
   ]
  },
  {
   "cell_type": "code",
   "execution_count": 21,
   "id": "86b4a488",
   "metadata": {},
   "outputs": [],
   "source": [
    "anos_valores = {str(ano): 'mean' for ano in range(1993, 2023)}\n",
    "regioes_escola = school_enrollment.groupby('Region').agg(anos_valores)\n"
   ]
  },
  {
   "cell_type": "code",
   "execution_count": 22,
   "id": "41e3269b",
   "metadata": {},
   "outputs": [
    {
     "data": {
      "text/plain": [
       "<Axes: title={'center': 'Razão entre meninas e meninos matriculados em escolas'}, xlabel='Ano', ylabel='razão'>"
      ]
     },
     "execution_count": 22,
     "metadata": {},
     "output_type": "execute_result"
    },
    {
     "data": {
      "image/png": "[encoded data removed]",
      "text/plain": [
       "<Figure size 1000x600 with 1 Axes>"
      ]
     },
     "metadata": {},
     "output_type": "display_data"
    }
   ],
   "source": [
    "regioes_escola.T.plot(kind='line', figsize=(10, 6), grid=True, title='Razão entre meninas e meninos matriculados em escolas', xlabel='Ano', ylabel='razão', fontsize=12, color=['blue', 'green', 'red', 'yellow', 'purple'])"
   ]
  },
  {
   "cell_type": "code",
   "execution_count": null,
   "id": "39fef62a",
   "metadata": {},
   "outputs": [],
   "source": []
  },
  {
   "cell_type": "markdown",
   "id": "39267521",
   "metadata": {},
   "source": [
    "### Indicadores - Meio Ambiente\n",
    "#### CO2 emissions (metric tons per capita)"
   ]
  },
  {
   "cell_type": "code",
   "execution_count": 23,
   "id": "44847439",
   "metadata": {},
   "outputs": [
    {
     "data": {
      "text/html": [
       "<div>\n",
       "<style scoped>\n",
       "    .dataframe tbody tr th:only-of-type {\n",
       "        vertical-align: middle;\n",
       "    }\n",
       "\n",
       "    .dataframe tbody tr th {\n",
       "        vertical-align: top;\n",
       "    }\n",
       "\n",
       "    .dataframe thead th {\n",
       "        text-align: right;\n",
       "    }\n",
       "</style>\n",
       "<table border=\"1\" class=\"dataframe\">\n",
       "  <thead>\n",
       "    <tr style=\"text-align: right;\">\n",
       "      <th></th>\n",
       "      <th>Country Name</th>\n",
       "      <th>Country Code</th>\n",
       "      <th>Indicator Name</th>\n",
       "      <th>Indicator Code</th>\n",
       "      <th>1960</th>\n",
       "      <th>1961</th>\n",
       "      <th>1962</th>\n",
       "      <th>1963</th>\n",
       "      <th>1964</th>\n",
       "      <th>1965</th>\n",
       "      <th>...</th>\n",
       "      <th>2014</th>\n",
       "      <th>2015</th>\n",
       "      <th>2016</th>\n",
       "      <th>2017</th>\n",
       "      <th>2018</th>\n",
       "      <th>2019</th>\n",
       "      <th>2020</th>\n",
       "      <th>2021</th>\n",
       "      <th>2022</th>\n",
       "      <th>non_nan_count</th>\n",
       "    </tr>\n",
       "  </thead>\n",
       "  <tbody>\n",
       "    <tr>\n",
       "      <th>193</th>\n",
       "      <td>Africa Eastern and Southern</td>\n",
       "      <td>AFE</td>\n",
       "      <td>CO2 emissions (metric tons per capita)</td>\n",
       "      <td>EN.ATM.CO2E.PC</td>\n",
       "      <td>NaN</td>\n",
       "      <td>NaN</td>\n",
       "      <td>NaN</td>\n",
       "      <td>NaN</td>\n",
       "      <td>NaN</td>\n",
       "      <td>NaN</td>\n",
       "      <td>...</td>\n",
       "      <td>1.013758</td>\n",
       "      <td>0.960430</td>\n",
       "      <td>0.941337</td>\n",
       "      <td>0.933874</td>\n",
       "      <td>0.921453</td>\n",
       "      <td>0.915294</td>\n",
       "      <td>0.795420</td>\n",
       "      <td>NaN</td>\n",
       "      <td>NaN</td>\n",
       "      <td>35</td>\n",
       "    </tr>\n",
       "    <tr>\n",
       "      <th>1679</th>\n",
       "      <td>Africa Western and Central</td>\n",
       "      <td>AFW</td>\n",
       "      <td>CO2 emissions (metric tons per capita)</td>\n",
       "      <td>EN.ATM.CO2E.PC</td>\n",
       "      <td>NaN</td>\n",
       "      <td>NaN</td>\n",
       "      <td>NaN</td>\n",
       "      <td>NaN</td>\n",
       "      <td>NaN</td>\n",
       "      <td>NaN</td>\n",
       "      <td>...</td>\n",
       "      <td>0.493505</td>\n",
       "      <td>0.475577</td>\n",
       "      <td>0.479775</td>\n",
       "      <td>0.465166</td>\n",
       "      <td>0.475817</td>\n",
       "      <td>0.490837</td>\n",
       "      <td>0.463150</td>\n",
       "      <td>NaN</td>\n",
       "      <td>NaN</td>\n",
       "      <td>35</td>\n",
       "    </tr>\n",
       "    <tr>\n",
       "      <th>3165</th>\n",
       "      <td>Arab World</td>\n",
       "      <td>ARB</td>\n",
       "      <td>CO2 emissions (metric tons per capita)</td>\n",
       "      <td>EN.ATM.CO2E.PC</td>\n",
       "      <td>NaN</td>\n",
       "      <td>NaN</td>\n",
       "      <td>NaN</td>\n",
       "      <td>NaN</td>\n",
       "      <td>NaN</td>\n",
       "      <td>NaN</td>\n",
       "      <td>...</td>\n",
       "      <td>4.439511</td>\n",
       "      <td>4.450525</td>\n",
       "      <td>4.402999</td>\n",
       "      <td>4.350684</td>\n",
       "      <td>4.222333</td>\n",
       "      <td>4.181158</td>\n",
       "      <td>3.929078</td>\n",
       "      <td>NaN</td>\n",
       "      <td>NaN</td>\n",
       "      <td>35</td>\n",
       "    </tr>\n",
       "    <tr>\n",
       "      <th>4651</th>\n",
       "      <td>Caribbean small states</td>\n",
       "      <td>CSS</td>\n",
       "      <td>CO2 emissions (metric tons per capita)</td>\n",
       "      <td>EN.ATM.CO2E.PC</td>\n",
       "      <td>NaN</td>\n",
       "      <td>NaN</td>\n",
       "      <td>NaN</td>\n",
       "      <td>NaN</td>\n",
       "      <td>NaN</td>\n",
       "      <td>NaN</td>\n",
       "      <td>...</td>\n",
       "      <td>5.582121</td>\n",
       "      <td>5.437587</td>\n",
       "      <td>5.123422</td>\n",
       "      <td>4.971950</td>\n",
       "      <td>5.125870</td>\n",
       "      <td>5.066605</td>\n",
       "      <td>4.402688</td>\n",
       "      <td>NaN</td>\n",
       "      <td>NaN</td>\n",
       "      <td>35</td>\n",
       "    </tr>\n",
       "    <tr>\n",
       "      <th>6137</th>\n",
       "      <td>Central Europe and the Baltics</td>\n",
       "      <td>CEB</td>\n",
       "      <td>CO2 emissions (metric tons per capita)</td>\n",
       "      <td>EN.ATM.CO2E.PC</td>\n",
       "      <td>NaN</td>\n",
       "      <td>NaN</td>\n",
       "      <td>NaN</td>\n",
       "      <td>NaN</td>\n",
       "      <td>NaN</td>\n",
       "      <td>NaN</td>\n",
       "      <td>...</td>\n",
       "      <td>6.139710</td>\n",
       "      <td>6.244133</td>\n",
       "      <td>6.376606</td>\n",
       "      <td>6.658388</td>\n",
       "      <td>6.616508</td>\n",
       "      <td>6.285364</td>\n",
       "      <td>5.857206</td>\n",
       "      <td>NaN</td>\n",
       "      <td>NaN</td>\n",
       "      <td>35</td>\n",
       "    </tr>\n",
       "  </tbody>\n",
       "</table>\n",
       "<p>5 rows × 68 columns</p>\n",
       "</div>"
      ],
      "text/plain": [
       "                        Country Name Country Code  \\\n",
       "193      Africa Eastern and Southern          AFE   \n",
       "1679      Africa Western and Central          AFW   \n",
       "3165                      Arab World          ARB   \n",
       "4651          Caribbean small states          CSS   \n",
       "6137  Central Europe and the Baltics          CEB   \n",
       "\n",
       "                              Indicator Name  Indicator Code  1960  1961  \\\n",
       "193   CO2 emissions (metric tons per capita)  EN.ATM.CO2E.PC   NaN   NaN   \n",
       "1679  CO2 emissions (metric tons per capita)  EN.ATM.CO2E.PC   NaN   NaN   \n",
       "3165  CO2 emissions (metric tons per capita)  EN.ATM.CO2E.PC   NaN   NaN   \n",
       "4651  CO2 emissions (metric tons per capita)  EN.ATM.CO2E.PC   NaN   NaN   \n",
       "6137  CO2 emissions (metric tons per capita)  EN.ATM.CO2E.PC   NaN   NaN   \n",
       "\n",
       "      1962  1963  1964  1965  ...      2014      2015      2016      2017  \\\n",
       "193    NaN   NaN   NaN   NaN  ...  1.013758  0.960430  0.941337  0.933874   \n",
       "1679   NaN   NaN   NaN   NaN  ...  0.493505  0.475577  0.479775  0.465166   \n",
       "3165   NaN   NaN   NaN   NaN  ...  4.439511  4.450525  4.402999  4.350684   \n",
       "4651   NaN   NaN   NaN   NaN  ...  5.582121  5.437587  5.123422  4.971950   \n",
       "6137   NaN   NaN   NaN   NaN  ...  6.139710  6.244133  6.376606  6.658388   \n",
       "\n",
       "          2018      2019      2020  2021  2022  non_nan_count  \n",
       "193   0.921453  0.915294  0.795420   NaN   NaN             35  \n",
       "1679  0.475817  0.490837  0.463150   NaN   NaN             35  \n",
       "3165  4.222333  4.181158  3.929078   NaN   NaN             35  \n",
       "4651  5.125870  5.066605  4.402688   NaN   NaN             35  \n",
       "6137  6.616508  6.285364  5.857206   NaN   NaN             35  \n",
       "\n",
       "[5 rows x 68 columns]"
      ]
     },
     "execution_count": 23,
     "metadata": {},
     "output_type": "execute_result"
    }
   ],
   "source": [
    "filter = wdi_data_df['Indicator Code'] == 'EN.ATM.CO2E.PC'\n",
    "wdi_data_df[filter].head()"
   ]
  },
  {
   "cell_type": "code",
   "execution_count": 24,
   "id": "a9be846a",
   "metadata": {},
   "outputs": [
    {
     "data": {
      "text/plain": [
       "Index(['Country Name', 'Country Code', 'Indicator Name', 'Indicator Code',\n",
       "       '1960', '1961', '1962', '1963', '1964', '1965', '1966', '1967', '1968',\n",
       "       '1969', '1970', '1971', '1972', '1973', '1974', '1975', '1976', '1977',\n",
       "       '1978', '1979', '1980', '1981', '1982', '1983', '1984', '1985', '1986',\n",
       "       '1987', '1988', '1989', '1990', '1991', '1992', '1993', '1994', '1995',\n",
       "       '1996', '1997', '1998', '1999', '2000', '2001', '2002', '2003', '2004',\n",
       "       '2005', '2006', '2007', '2008', '2009', '2010', '2011', '2012', '2013',\n",
       "       '2014', '2015', '2016', '2017', '2018', '2019', '2020', '2021', '2022',\n",
       "       'non_nan_count'],\n",
       "      dtype='object')"
      ]
     },
     "execution_count": 24,
     "metadata": {},
     "output_type": "execute_result"
    }
   ],
   "source": [
    "wdi_data_df.columns"
   ]
  },
  {
   "cell_type": "code",
   "execution_count": 25,
   "id": "5cdc264c",
   "metadata": {},
   "outputs": [],
   "source": [
    "wdi_merge = wdi_country_df.merge(wdi_data_df, on='Country Code', how='left')"
   ]
  },
  {
   "cell_type": "code",
   "execution_count": 26,
   "id": "69c64712",
   "metadata": {},
   "outputs": [],
   "source": [
    "filter = wdi_merge['Indicator Code'] == 'EN.ATM.CO2E.PC'\n",
    "emitentes = wdi_merge[filter]"
   ]
  },
  {
   "cell_type": "code",
   "execution_count": 27,
   "id": "c9dbfc32",
   "metadata": {},
   "outputs": [
    {
     "data": {
      "text/html": [
       "<div>\n",
       "<style scoped>\n",
       "    .dataframe tbody tr th:only-of-type {\n",
       "        vertical-align: middle;\n",
       "    }\n",
       "\n",
       "    .dataframe tbody tr th {\n",
       "        vertical-align: top;\n",
       "    }\n",
       "\n",
       "    .dataframe thead tr th {\n",
       "        text-align: left;\n",
       "    }\n",
       "\n",
       "    .dataframe thead tr:last-of-type th {\n",
       "        text-align: right;\n",
       "    }\n",
       "</style>\n",
       "<table border=\"1\" class=\"dataframe\">\n",
       "  <thead>\n",
       "    <tr>\n",
       "      <th></th>\n",
       "      <th colspan=\"3\" halign=\"left\">2019</th>\n",
       "    </tr>\n",
       "    <tr>\n",
       "      <th></th>\n",
       "      <th>mean</th>\n",
       "      <th>max</th>\n",
       "      <th>min</th>\n",
       "    </tr>\n",
       "    <tr>\n",
       "      <th>Region</th>\n",
       "      <th></th>\n",
       "      <th></th>\n",
       "      <th></th>\n",
       "    </tr>\n",
       "  </thead>\n",
       "  <tbody>\n",
       "    <tr>\n",
       "      <th>East Asia &amp; Pacific</th>\n",
       "      <td>4.530087</td>\n",
       "      <td>16.111933</td>\n",
       "      <td>0.451560</td>\n",
       "    </tr>\n",
       "    <tr>\n",
       "      <th>Europe &amp; Central Asia</th>\n",
       "      <td>5.680386</td>\n",
       "      <td>15.323040</td>\n",
       "      <td>0.960233</td>\n",
       "    </tr>\n",
       "    <tr>\n",
       "      <th>Latin America &amp; Caribbean</th>\n",
       "      <td>2.977974</td>\n",
       "      <td>11.313032</td>\n",
       "      <td>0.297241</td>\n",
       "    </tr>\n",
       "    <tr>\n",
       "      <th>Middle East &amp; North Africa</th>\n",
       "      <td>8.800405</td>\n",
       "      <td>31.877203</td>\n",
       "      <td>0.354864</td>\n",
       "    </tr>\n",
       "    <tr>\n",
       "      <th>North America</th>\n",
       "      <td>14.863064</td>\n",
       "      <td>15.052747</td>\n",
       "      <td>14.673381</td>\n",
       "    </tr>\n",
       "    <tr>\n",
       "      <th>South Asia</th>\n",
       "      <td>1.352501</td>\n",
       "      <td>3.963267</td>\n",
       "      <td>0.297564</td>\n",
       "    </tr>\n",
       "    <tr>\n",
       "      <th>Sub-Saharan Africa</th>\n",
       "      <td>0.902467</td>\n",
       "      <td>7.688908</td>\n",
       "      <td>0.033715</td>\n",
       "    </tr>\n",
       "  </tbody>\n",
       "</table>\n",
       "</div>"
      ],
      "text/plain": [
       "                                 2019                      \n",
       "                                 mean        max        min\n",
       "Region                                                     \n",
       "East Asia & Pacific          4.530087  16.111933   0.451560\n",
       "Europe & Central Asia        5.680386  15.323040   0.960233\n",
       "Latin America & Caribbean    2.977974  11.313032   0.297241\n",
       "Middle East & North Africa   8.800405  31.877203   0.354864\n",
       "North America               14.863064  15.052747  14.673381\n",
       "South Asia                   1.352501   3.963267   0.297564\n",
       "Sub-Saharan Africa           0.902467   7.688908   0.033715"
      ]
     },
     "execution_count": 27,
     "metadata": {},
     "output_type": "execute_result"
    }
   ],
   "source": [
    "regioes_2019 = emitentes.groupby('Region').agg({'2019':['mean','max','min']})\n",
    "regioes_2019"
   ]
  },
  {
   "cell_type": "code",
   "execution_count": 28,
   "id": "d3d503cc",
   "metadata": {},
   "outputs": [
    {
     "data": {
      "image/png": "[encoded data removed]",
      "text/plain": [
       "<Figure size 1200x800 with 1 Axes>"
      ]
     },
     "metadata": {},
     "output_type": "display_data"
    }
   ],
   "source": [
    "regioes_2019.plot(kind='bar', figsize=(12, 8))\n",
    "plt.title('Emissões de CO2 por Região em 2019')\n",
    "plt.xlabel('Região')\n",
    "plt.ylabel('Emissões de CO2')\n",
    "plt.legend(['Média', 'Máximo', 'Mínimo'])\n",
    "plt.xticks(rotation=45)\n",
    "plt.grid(True)\n",
    "plt.tight_layout() \n",
    "plt.show()"
   ]
  },
  {
   "cell_type": "code",
   "execution_count": 29,
   "id": "e9e313bf",
   "metadata": {},
   "outputs": [
    {
     "data": {
      "text/plain": [
       "2012    4.306728\n",
       "2013    4.274821\n",
       "2014    4.186761\n",
       "2015    4.122951\n",
       "2016    4.105521\n",
       "2017    4.108484\n",
       "2018    4.102909\n",
       "2019    4.044442\n",
       "2020    3.767934\n",
       "dtype: float64"
      ]
     },
     "execution_count": 29,
     "metadata": {},
     "output_type": "execute_result"
    }
   ],
   "source": [
    "anos = {str(ano): 'mean' for ano in range(2012, 2021)}\n",
    "emissao_periodo = emitentes.agg(anos)\n",
    "emissao_periodo"
   ]
  },
  {
   "cell_type": "code",
   "execution_count": 30,
   "id": "e3984ef8",
   "metadata": {},
   "outputs": [
    {
     "data": {
      "image/png": "[encoded data removed]",
      "text/plain": [
       "<Figure size 1200x800 with 1 Axes>"
      ]
     },
     "metadata": {},
     "output_type": "display_data"
    }
   ],
   "source": [
    "emissao_periodo.plot(kind='bar', figsize=(12, 8))\n",
    "plt.title('Média emissão de CO2 entre 2012 e 2020')\n",
    "plt.xlabel('Região')\n",
    "plt.ylabel('Emissões de CO2')\n",
    "plt.legend(['Média', 'Máximo', 'Mínimo'])\n",
    "plt.xticks(rotation=45)\n",
    "plt.grid(True)\n",
    "plt.tight_layout() \n",
    "plt.show()"
   ]
  },
  {
   "cell_type": "code",
   "execution_count": 31,
   "id": "2dccc8a7",
   "metadata": {},
   "outputs": [
    {
     "data": {
      "text/html": [
       "<div>\n",
       "<style scoped>\n",
       "    .dataframe tbody tr th:only-of-type {\n",
       "        vertical-align: middle;\n",
       "    }\n",
       "\n",
       "    .dataframe tbody tr th {\n",
       "        vertical-align: top;\n",
       "    }\n",
       "\n",
       "    .dataframe thead th {\n",
       "        text-align: right;\n",
       "    }\n",
       "</style>\n",
       "<table border=\"1\" class=\"dataframe\">\n",
       "  <thead>\n",
       "    <tr style=\"text-align: right;\">\n",
       "      <th></th>\n",
       "      <th>1993</th>\n",
       "      <th>1994</th>\n",
       "      <th>1995</th>\n",
       "      <th>1996</th>\n",
       "      <th>1997</th>\n",
       "      <th>1998</th>\n",
       "      <th>1999</th>\n",
       "      <th>2000</th>\n",
       "      <th>2001</th>\n",
       "      <th>2002</th>\n",
       "      <th>...</th>\n",
       "      <th>2011</th>\n",
       "      <th>2012</th>\n",
       "      <th>2013</th>\n",
       "      <th>2014</th>\n",
       "      <th>2015</th>\n",
       "      <th>2016</th>\n",
       "      <th>2017</th>\n",
       "      <th>2018</th>\n",
       "      <th>2019</th>\n",
       "      <th>2020</th>\n",
       "    </tr>\n",
       "    <tr>\n",
       "      <th>Region</th>\n",
       "      <th></th>\n",
       "      <th></th>\n",
       "      <th></th>\n",
       "      <th></th>\n",
       "      <th></th>\n",
       "      <th></th>\n",
       "      <th></th>\n",
       "      <th></th>\n",
       "      <th></th>\n",
       "      <th></th>\n",
       "      <th></th>\n",
       "      <th></th>\n",
       "      <th></th>\n",
       "      <th></th>\n",
       "      <th></th>\n",
       "      <th></th>\n",
       "      <th></th>\n",
       "      <th></th>\n",
       "      <th></th>\n",
       "      <th></th>\n",
       "      <th></th>\n",
       "    </tr>\n",
       "  </thead>\n",
       "  <tbody>\n",
       "    <tr>\n",
       "      <th>East Asia &amp; Pacific</th>\n",
       "      <td>3.823572</td>\n",
       "      <td>3.862350</td>\n",
       "      <td>3.923396</td>\n",
       "      <td>3.925324</td>\n",
       "      <td>3.986891</td>\n",
       "      <td>3.817124</td>\n",
       "      <td>3.830154</td>\n",
       "      <td>3.938499</td>\n",
       "      <td>3.951579</td>\n",
       "      <td>3.955504</td>\n",
       "      <td>...</td>\n",
       "      <td>4.301659</td>\n",
       "      <td>4.348927</td>\n",
       "      <td>4.362780</td>\n",
       "      <td>4.334083</td>\n",
       "      <td>4.261981</td>\n",
       "      <td>4.343608</td>\n",
       "      <td>4.482754</td>\n",
       "      <td>4.519154</td>\n",
       "      <td>4.530087</td>\n",
       "      <td>4.317147</td>\n",
       "    </tr>\n",
       "    <tr>\n",
       "      <th>Europe &amp; Central Asia</th>\n",
       "      <td>7.221064</td>\n",
       "      <td>6.919069</td>\n",
       "      <td>6.710826</td>\n",
       "      <td>6.869317</td>\n",
       "      <td>6.726282</td>\n",
       "      <td>6.702729</td>\n",
       "      <td>6.540034</td>\n",
       "      <td>6.561905</td>\n",
       "      <td>6.673893</td>\n",
       "      <td>6.719777</td>\n",
       "      <td>...</td>\n",
       "      <td>6.622288</td>\n",
       "      <td>6.420504</td>\n",
       "      <td>6.302112</td>\n",
       "      <td>5.962711</td>\n",
       "      <td>5.888206</td>\n",
       "      <td>5.907036</td>\n",
       "      <td>5.964762</td>\n",
       "      <td>5.919926</td>\n",
       "      <td>5.680386</td>\n",
       "      <td>5.238824</td>\n",
       "    </tr>\n",
       "    <tr>\n",
       "      <th>Latin America &amp; Caribbean</th>\n",
       "      <td>2.182871</td>\n",
       "      <td>2.200860</td>\n",
       "      <td>2.258366</td>\n",
       "      <td>2.318979</td>\n",
       "      <td>2.406643</td>\n",
       "      <td>2.518055</td>\n",
       "      <td>2.516094</td>\n",
       "      <td>2.476648</td>\n",
       "      <td>2.528763</td>\n",
       "      <td>2.502768</td>\n",
       "      <td>...</td>\n",
       "      <td>3.057420</td>\n",
       "      <td>3.115423</td>\n",
       "      <td>3.152469</td>\n",
       "      <td>3.101879</td>\n",
       "      <td>3.092636</td>\n",
       "      <td>3.039354</td>\n",
       "      <td>2.935096</td>\n",
       "      <td>2.975955</td>\n",
       "      <td>2.977974</td>\n",
       "      <td>2.663882</td>\n",
       "    </tr>\n",
       "    <tr>\n",
       "      <th>Middle East &amp; North Africa</th>\n",
       "      <td>8.493983</td>\n",
       "      <td>9.009269</td>\n",
       "      <td>9.094649</td>\n",
       "      <td>9.205608</td>\n",
       "      <td>9.540952</td>\n",
       "      <td>9.518149</td>\n",
       "      <td>9.623541</td>\n",
       "      <td>9.546843</td>\n",
       "      <td>9.720877</td>\n",
       "      <td>9.939057</td>\n",
       "      <td>...</td>\n",
       "      <td>9.543212</td>\n",
       "      <td>9.942239</td>\n",
       "      <td>9.684467</td>\n",
       "      <td>9.595356</td>\n",
       "      <td>9.349992</td>\n",
       "      <td>9.094815</td>\n",
       "      <td>8.923774</td>\n",
       "      <td>8.702174</td>\n",
       "      <td>8.800405</td>\n",
       "      <td>8.481052</td>\n",
       "    </tr>\n",
       "    <tr>\n",
       "      <th>North America</th>\n",
       "      <td>16.965820</td>\n",
       "      <td>17.158345</td>\n",
       "      <td>17.253682</td>\n",
       "      <td>17.583990</td>\n",
       "      <td>18.137351</td>\n",
       "      <td>18.171429</td>\n",
       "      <td>18.179798</td>\n",
       "      <td>18.613632</td>\n",
       "      <td>18.251487</td>\n",
       "      <td>18.082970</td>\n",
       "      <td>...</td>\n",
       "      <td>16.301231</td>\n",
       "      <td>15.763292</td>\n",
       "      <td>15.975993</td>\n",
       "      <td>15.946547</td>\n",
       "      <td>15.604961</td>\n",
       "      <td>15.285853</td>\n",
       "      <td>15.185220</td>\n",
       "      <td>15.429586</td>\n",
       "      <td>14.863064</td>\n",
       "      <td>13.316101</td>\n",
       "    </tr>\n",
       "    <tr>\n",
       "      <th>South Asia</th>\n",
       "      <td>0.378302</td>\n",
       "      <td>0.391983</td>\n",
       "      <td>0.437468</td>\n",
       "      <td>0.474533</td>\n",
       "      <td>0.522680</td>\n",
       "      <td>0.504944</td>\n",
       "      <td>0.573709</td>\n",
       "      <td>0.593636</td>\n",
       "      <td>0.597108</td>\n",
       "      <td>0.658349</td>\n",
       "      <td>...</td>\n",
       "      <td>0.944798</td>\n",
       "      <td>1.011435</td>\n",
       "      <td>0.989183</td>\n",
       "      <td>1.100056</td>\n",
       "      <td>1.101215</td>\n",
       "      <td>1.199539</td>\n",
       "      <td>1.249682</td>\n",
       "      <td>1.324757</td>\n",
       "      <td>1.352501</td>\n",
       "      <td>1.099134</td>\n",
       "    </tr>\n",
       "    <tr>\n",
       "      <th>Sub-Saharan Africa</th>\n",
       "      <td>0.634873</td>\n",
       "      <td>0.644734</td>\n",
       "      <td>0.665650</td>\n",
       "      <td>0.691729</td>\n",
       "      <td>0.712564</td>\n",
       "      <td>0.752540</td>\n",
       "      <td>0.790603</td>\n",
       "      <td>0.735760</td>\n",
       "      <td>0.787962</td>\n",
       "      <td>0.763006</td>\n",
       "      <td>...</td>\n",
       "      <td>0.867236</td>\n",
       "      <td>0.862436</td>\n",
       "      <td>0.876374</td>\n",
       "      <td>0.905519</td>\n",
       "      <td>0.897999</td>\n",
       "      <td>0.911577</td>\n",
       "      <td>0.903075</td>\n",
       "      <td>0.908853</td>\n",
       "      <td>0.902467</td>\n",
       "      <td>0.833318</td>\n",
       "    </tr>\n",
       "  </tbody>\n",
       "</table>\n",
       "<p>7 rows × 28 columns</p>\n",
       "</div>"
      ],
      "text/plain": [
       "                                 1993       1994       1995       1996  \\\n",
       "Region                                                                   \n",
       "East Asia & Pacific          3.823572   3.862350   3.923396   3.925324   \n",
       "Europe & Central Asia        7.221064   6.919069   6.710826   6.869317   \n",
       "Latin America & Caribbean    2.182871   2.200860   2.258366   2.318979   \n",
       "Middle East & North Africa   8.493983   9.009269   9.094649   9.205608   \n",
       "North America               16.965820  17.158345  17.253682  17.583990   \n",
       "South Asia                   0.378302   0.391983   0.437468   0.474533   \n",
       "Sub-Saharan Africa           0.634873   0.644734   0.665650   0.691729   \n",
       "\n",
       "                                 1997       1998       1999       2000  \\\n",
       "Region                                                                   \n",
       "East Asia & Pacific          3.986891   3.817124   3.830154   3.938499   \n",
       "Europe & Central Asia        6.726282   6.702729   6.540034   6.561905   \n",
       "Latin America & Caribbean    2.406643   2.518055   2.516094   2.476648   \n",
       "Middle East & North Africa   9.540952   9.518149   9.623541   9.546843   \n",
       "North America               18.137351  18.171429  18.179798  18.613632   \n",
       "South Asia                   0.522680   0.504944   0.573709   0.593636   \n",
       "Sub-Saharan Africa           0.712564   0.752540   0.790603   0.735760   \n",
       "\n",
       "                                 2001       2002  ...       2011       2012  \\\n",
       "Region                                            ...                         \n",
       "East Asia & Pacific          3.951579   3.955504  ...   4.301659   4.348927   \n",
       "Europe & Central Asia        6.673893   6.719777  ...   6.622288   6.420504   \n",
       "Latin America & Caribbean    2.528763   2.502768  ...   3.057420   3.115423   \n",
       "Middle East & North Africa   9.720877   9.939057  ...   9.543212   9.942239   \n",
       "North America               18.251487  18.082970  ...  16.301231  15.763292   \n",
       "South Asia                   0.597108   0.658349  ...   0.944798   1.011435   \n",
       "Sub-Saharan Africa           0.787962   0.763006  ...   0.867236   0.862436   \n",
       "\n",
       "                                 2013       2014       2015       2016  \\\n",
       "Region                                                                   \n",
       "East Asia & Pacific          4.362780   4.334083   4.261981   4.343608   \n",
       "Europe & Central Asia        6.302112   5.962711   5.888206   5.907036   \n",
       "Latin America & Caribbean    3.152469   3.101879   3.092636   3.039354   \n",
       "Middle East & North Africa   9.684467   9.595356   9.349992   9.094815   \n",
       "North America               15.975993  15.946547  15.604961  15.285853   \n",
       "South Asia                   0.989183   1.100056   1.101215   1.199539   \n",
       "Sub-Saharan Africa           0.876374   0.905519   0.897999   0.911577   \n",
       "\n",
       "                                 2017       2018       2019       2020  \n",
       "Region                                                                  \n",
       "East Asia & Pacific          4.482754   4.519154   4.530087   4.317147  \n",
       "Europe & Central Asia        5.964762   5.919926   5.680386   5.238824  \n",
       "Latin America & Caribbean    2.935096   2.975955   2.977974   2.663882  \n",
       "Middle East & North Africa   8.923774   8.702174   8.800405   8.481052  \n",
       "North America               15.185220  15.429586  14.863064  13.316101  \n",
       "South Asia                   1.249682   1.324757   1.352501   1.099134  \n",
       "Sub-Saharan Africa           0.903075   0.908853   0.902467   0.833318  \n",
       "\n",
       "[7 rows x 28 columns]"
      ]
     },
     "execution_count": 31,
     "metadata": {},
     "output_type": "execute_result"
    }
   ],
   "source": [
    "anos_valores = {str(ano): 'mean' for ano in range(1993, 2021)}\n",
    "regioes = emitentes.groupby('Region').agg(anos_valores)\n",
    "regioes"
   ]
  },
  {
   "cell_type": "code",
   "execution_count": 32,
   "id": "f7c5e818",
   "metadata": {},
   "outputs": [
    {
     "data": {
      "text/plain": [
       "<Axes: title={'center': 'Emissão de CO2 de 2010 a 2020 por região'}, xlabel='Anos', ylabel='Emissão CO2'>"
      ]
     },
     "execution_count": 32,
     "metadata": {},
     "output_type": "execute_result"
    },
    {
     "data": {
      "image/png": "[encoded data removed]",
      "text/plain": [
       "<Figure size 1000x500 with 1 Axes>"
      ]
     },
     "metadata": {},
     "output_type": "display_data"
    }
   ],
   "source": [
    "regioes.T.plot( legend = True, title = \"Emissão de CO2 de 2010 a 2020 por região\", figsize = (10, 5), grid = True, linewidth = 2, xlabel = \"Anos\", ylabel = \"Emissão CO2\", fontsize = 12)"
   ]
  },
  {
   "cell_type": "code",
   "execution_count": 49,
   "id": "94218c46",
   "metadata": {},
   "outputs": [
    {
     "data": {
      "application/vnd.plotly.v1+json": {
       "config": {
        "plotlyServerURL": "https://plot.ly"
       },
       "data": [
        {
         "coloraxis": "coloraxis",
         "customdata": [
          [
           "Latin America & Caribbean"
          ],
          [
           null
          ],
          [
           "South Asia"
          ],
          [
           null
          ],
          [
           "Sub-Saharan Africa"
          ],
          [
           "Europe & Central Asia"
          ],
          [
           "Europe & Central Asia"
          ],
          [
           null
          ],
          [
           "Middle East & North Africa"
          ],
          [
           "Latin America & Caribbean"
          ],
          [
           "Europe & Central Asia"
          ],
          [
           "East Asia & Pacific"
          ],
          [
           "Latin America & Caribbean"
          ],
          [
           "East Asia & Pacific"
          ],
          [
           "Europe & Central Asia"
          ],
          [
           "Europe & Central Asia"
          ],
          [
           "Sub-Saharan Africa"
          ],
          [
           "Europe & Central Asia"
          ],
          [
           "Sub-Saharan Africa"
          ],
          [
           "Sub-Saharan Africa"
          ],
          [
           "South Asia"
          ],
          [
           "Europe & Central Asia"
          ],
          [
           "Middle East & North Africa"
          ],
          [
           "Latin America & Caribbean"
          ],
          [
           "Europe & Central Asia"
          ],
          [
           "Europe & Central Asia"
          ],
          [
           "Latin America & Caribbean"
          ],
          [
           "North America"
          ],
          [
           "Latin America & Caribbean"
          ],
          [
           "Latin America & Caribbean"
          ],
          [
           "Latin America & Caribbean"
          ],
          [
           "East Asia & Pacific"
          ],
          [
           "South Asia"
          ],
          [
           "Sub-Saharan Africa"
          ],
          [
           "Sub-Saharan Africa"
          ],
          [
           "North America"
          ],
          [
           null
          ],
          [
           "Europe & Central Asia"
          ],
          [
           "Europe & Central Asia"
          ],
          [
           "Latin America & Caribbean"
          ],
          [
           "East Asia & Pacific"
          ],
          [
           "Sub-Saharan Africa"
          ],
          [
           "Sub-Saharan Africa"
          ],
          [
           "Sub-Saharan Africa"
          ],
          [
           "Sub-Saharan Africa"
          ],
          [
           "Latin America & Caribbean"
          ],
          [
           "Sub-Saharan Africa"
          ],
          [
           "Sub-Saharan Africa"
          ],
          [
           "Latin America & Caribbean"
          ],
          [
           null
          ],
          [
           "Latin America & Caribbean"
          ],
          [
           "Latin America & Caribbean"
          ],
          [
           "Latin America & Caribbean"
          ],
          [
           "Europe & Central Asia"
          ],
          [
           "Europe & Central Asia"
          ],
          [
           "Europe & Central Asia"
          ],
          [
           "Middle East & North Africa"
          ],
          [
           "Latin America & Caribbean"
          ],
          [
           "Europe & Central Asia"
          ],
          [
           "Latin America & Caribbean"
          ],
          [
           "Middle East & North Africa"
          ],
          [
           null
          ],
          [
           null
          ],
          [
           null
          ],
          [
           null
          ],
          [
           null
          ],
          [
           "Latin America & Caribbean"
          ],
          [
           "Middle East & North Africa"
          ],
          [
           null
          ],
          [
           "Sub-Saharan Africa"
          ],
          [
           "Europe & Central Asia"
          ],
          [
           "Europe & Central Asia"
          ],
          [
           "Sub-Saharan Africa"
          ],
          [
           null
          ],
          [
           null
          ],
          [
           "Europe & Central Asia"
          ],
          [
           "East Asia & Pacific"
          ],
          [
           "Europe & Central Asia"
          ],
          [
           "Europe & Central Asia"
          ],
          [
           "East Asia & Pacific"
          ],
          [
           "Sub-Saharan Africa"
          ],
          [
           "Europe & Central Asia"
          ],
          [
           "Europe & Central Asia"
          ],
          [
           "Sub-Saharan Africa"
          ],
          [
           "Europe & Central Asia"
          ],
          [
           "Sub-Saharan Africa"
          ],
          [
           "Sub-Saharan Africa"
          ],
          [
           "Sub-Saharan Africa"
          ],
          [
           "Sub-Saharan Africa"
          ],
          [
           "Europe & Central Asia"
          ],
          [
           "Latin America & Caribbean"
          ],
          [
           "Europe & Central Asia"
          ],
          [
           "Latin America & Caribbean"
          ],
          [
           "East Asia & Pacific"
          ],
          [
           "Latin America & Caribbean"
          ],
          [
           null
          ],
          [
           "East Asia & Pacific"
          ],
          [
           "Latin America & Caribbean"
          ],
          [
           null
          ],
          [
           "Europe & Central Asia"
          ],
          [
           "Latin America & Caribbean"
          ],
          [
           "Europe & Central Asia"
          ],
          [
           null
          ],
          [
           null
          ],
          [
           null
          ],
          [
           null
          ],
          [
           "East Asia & Pacific"
          ],
          [
           null
          ],
          [
           "Europe & Central Asia"
          ],
          [
           "South Asia"
          ],
          [
           "Europe & Central Asia"
          ],
          [
           "Middle East & North Africa"
          ],
          [
           "Middle East & North Africa"
          ],
          [
           "Europe & Central Asia"
          ],
          [
           "Middle East & North Africa"
          ],
          [
           "Europe & Central Asia"
          ],
          [
           "Latin America & Caribbean"
          ],
          [
           "Middle East & North Africa"
          ],
          [
           "East Asia & Pacific"
          ],
          [
           "Europe & Central Asia"
          ],
          [
           "Sub-Saharan Africa"
          ],
          [
           "Europe & Central Asia"
          ],
          [
           "East Asia & Pacific"
          ],
          [
           "East Asia & Pacific"
          ],
          [
           "Latin America & Caribbean"
          ],
          [
           "East Asia & Pacific"
          ],
          [
           "Middle East & North Africa"
          ],
          [
           null
          ],
          [
           "East Asia & Pacific"
          ],
          [
           "Middle East & North Africa"
          ],
          [
           "Sub-Saharan Africa"
          ],
          [
           "Middle East & North Africa"
          ],
          [
           "Latin America & Caribbean"
          ],
          [
           null
          ],
          [
           null
          ],
          [
           null
          ],
          [
           "Europe & Central Asia"
          ],
          [
           "South Asia"
          ],
          [
           null
          ],
          [
           null
          ],
          [
           "Sub-Saharan Africa"
          ],
          [
           null
          ],
          [
           "Europe & Central Asia"
          ],
          [
           "Europe & Central Asia"
          ],
          [
           "Europe & Central Asia"
          ],
          [
           "East Asia & Pacific"
          ],
          [
           "Latin America & Caribbean"
          ],
          [
           "Middle East & North Africa"
          ],
          [
           "Europe & Central Asia"
          ],
          [
           "Europe & Central Asia"
          ],
          [
           "Sub-Saharan Africa"
          ],
          [
           "South Asia"
          ],
          [
           null
          ],
          [
           "Latin America & Caribbean"
          ],
          [
           "East Asia & Pacific"
          ],
          [
           null
          ],
          [
           "Europe & Central Asia"
          ],
          [
           "Sub-Saharan Africa"
          ],
          [
           "Middle East & North Africa"
          ],
          [
           "East Asia & Pacific"
          ],
          [
           null
          ],
          [
           "Europe & Central Asia"
          ],
          [
           "East Asia & Pacific"
          ],
          [
           "East Asia & Pacific"
          ],
          [
           "Sub-Saharan Africa"
          ],
          [
           "Sub-Saharan Africa"
          ],
          [
           "Sub-Saharan Africa"
          ],
          [
           "Sub-Saharan Africa"
          ],
          [
           "East Asia & Pacific"
          ],
          [
           null
          ],
          [
           "Sub-Saharan Africa"
          ],
          [
           "East Asia & Pacific"
          ],
          [
           "Sub-Saharan Africa"
          ],
          [
           "Sub-Saharan Africa"
          ],
          [
           "Latin America & Caribbean"
          ],
          [
           "Europe & Central Asia"
          ],
          [
           "Europe & Central Asia"
          ],
          [
           "South Asia"
          ],
          [
           "East Asia & Pacific"
          ],
          [
           "East Asia & Pacific"
          ],
          [
           null
          ],
          [
           "Middle East & North Africa"
          ],
          [
           null
          ],
          [
           "South Asia"
          ],
          [
           "Latin America & Caribbean"
          ],
          [
           "Latin America & Caribbean"
          ],
          [
           "East Asia & Pacific"
          ],
          [
           "East Asia & Pacific"
          ],
          [
           "East Asia & Pacific"
          ],
          [
           "Europe & Central Asia"
          ],
          [
           null
          ],
          [
           "Latin America & Caribbean"
          ],
          [
           "East Asia & Pacific"
          ],
          [
           "Europe & Central Asia"
          ],
          [
           "Latin America & Caribbean"
          ],
          [
           "Middle East & North Africa"
          ],
          [
           null
          ],
          [
           null
          ],
          [
           "East Asia & Pacific"
          ],
          [
           "Middle East & North Africa"
          ],
          [
           "Europe & Central Asia"
          ],
          [
           "Europe & Central Asia"
          ],
          [
           "Sub-Saharan Africa"
          ],
          [
           null
          ],
          [
           "Middle East & North Africa"
          ],
          [
           "Sub-Saharan Africa"
          ],
          [
           "Sub-Saharan Africa"
          ],
          [
           "East Asia & Pacific"
          ],
          [
           "East Asia & Pacific"
          ],
          [
           "Sub-Saharan Africa"
          ],
          [
           "Latin America & Caribbean"
          ],
          [
           "Europe & Central Asia"
          ],
          [
           "Sub-Saharan Africa"
          ],
          [
           "Europe & Central Asia"
          ],
          [
           null
          ],
          [
           "Sub-Saharan Africa"
          ],
          [
           null
          ],
          [
           null
          ],
          [
           "Sub-Saharan Africa"
          ],
          [
           "Latin America & Caribbean"
          ],
          [
           "Europe & Central Asia"
          ],
          [
           "Europe & Central Asia"
          ],
          [
           "Europe & Central Asia"
          ],
          [
           "Sub-Saharan Africa"
          ],
          [
           "Latin America & Caribbean"
          ],
          [
           "Sub-Saharan Africa"
          ],
          [
           "Middle East & North Africa"
          ],
          [
           "Latin America & Caribbean"
          ],
          [
           "Sub-Saharan Africa"
          ],
          [
           null
          ],
          [
           null
          ],
          [
           "Sub-Saharan Africa"
          ],
          [
           "East Asia & Pacific"
          ],
          [
           "Europe & Central Asia"
          ],
          [
           "Europe & Central Asia"
          ],
          [
           null
          ],
          [
           "East Asia & Pacific"
          ],
          [
           null
          ],
          [
           "East Asia & Pacific"
          ],
          [
           null
          ],
          [
           null
          ],
          [
           "Latin America & Caribbean"
          ],
          [
           "Middle East & North Africa"
          ],
          [
           "Europe & Central Asia"
          ],
          [
           "East Asia & Pacific"
          ],
          [
           "Sub-Saharan Africa"
          ],
          [
           "Sub-Saharan Africa"
          ],
          [
           "Europe & Central Asia"
          ],
          [
           null
          ],
          [
           "Latin America & Caribbean"
          ],
          [
           "North America"
          ],
          [
           "Europe & Central Asia"
          ],
          [
           "Latin America & Caribbean"
          ],
          [
           "Latin America & Caribbean"
          ],
          [
           "Latin America & Caribbean"
          ],
          [
           "Latin America & Caribbean"
          ],
          [
           "East Asia & Pacific"
          ],
          [
           "East Asia & Pacific"
          ],
          [
           null
          ],
          [
           "East Asia & Pacific"
          ],
          [
           "Europe & Central Asia"
          ],
          [
           "Middle East & North Africa"
          ],
          [
           "Sub-Saharan Africa"
          ],
          [
           "Sub-Saharan Africa"
          ],
          [
           "Sub-Saharan Africa"
          ]
         ],
         "geo": "geo",
         "hovertemplate": "<b>%{hovertext}</b><br><br>Country Code=%{location}<br>Region=%{customdata[0]}<br>2021=%{z}<extra></extra>",
         "hovertext": [
          "Aruba",
          "Africa Eastern and Southern",
          "Afghanistan",
          "Africa Western and Central",
          "Angola",
          "Albania",
          "Andorra",
          "Arab World",
          "United Arab Emirates",
          "Argentina",
          "Armenia",
          "American Samoa",
          "Antigua and Barbuda",
          "Australia",
          "Austria",
          "Azerbaijan",
          "Burundi",
          "Belgium",
          "Benin",
          "Burkina Faso",
          "Bangladesh",
          "Bulgaria",
          "Bahrain",
          "The Bahamas",
          "Bosnia and Herzegovina",
          "Belarus",
          "Belize",
          "Bermuda",
          "Bolivia",
          "Brazil",
          "Barbados",
          "Brunei",
          "Bhutan",
          "Botswana",
          "Central African Republic",
          "Canada",
          "Central Europe and the Baltics",
          "Switzerland",
          "Channel Islands",
          "Chile",
          "China",
          "Côte d'Ivoire",
          "Cameroon",
          "Dem. Rep. Congo",
          "Congo",
          "Colombia",
          "Comoros",
          "Cabo Verde",
          "Costa Rica",
          "Caribbean small states",
          "Cuba",
          "Curaçao",
          "Cayman Islands",
          "Cyprus",
          "Czechia",
          "Germany",
          "Djibouti",
          "Dominica",
          "Denmark",
          "Dominican Republic",
          "Algeria",
          "East Asia & Pacific (excluding high income)",
          "Early-demographic dividend",
          "East Asia & Pacific",
          "Europe & Central Asia (excluding high income)",
          "Europe & Central Asia",
          "Ecuador",
          "Egypt",
          "Euro area",
          "Eritrea",
          "Spain",
          "Estonia",
          "Ethiopia",
          "European Union",
          "Fragile and conflict affected situations",
          "Finland",
          "Fiji",
          "France",
          "Faroe Islands",
          "Micronesia",
          "Gabon",
          "United Kingdom",
          "Georgia",
          "Ghana",
          "Gibraltar",
          "Guinea",
          "The Gambia",
          "Guinea-Bissau",
          "Equatorial Guinea",
          "Greece",
          "Grenada",
          "Greenland",
          "Guatemala",
          "Guam",
          "Guyana",
          "High income",
          "Hong Kong SAR, China",
          "Honduras",
          "Heavily indebted poor countries (HIPC)",
          "Croatia",
          "Haiti",
          "Hungary",
          "IBRD only",
          "IDA & IBRD total",
          "IDA total",
          "IDA blend",
          "Indonesia",
          "IDA only",
          "Isle of Man",
          "India",
          "Ireland",
          "Iran",
          "Iraq",
          "Iceland",
          "Israel",
          "Italy",
          "Jamaica",
          "Jordan",
          "Japan",
          "Kazakhstan",
          "Kenya",
          "Kyrgyz Republic",
          "Cambodia",
          "Kiribati",
          "St. Kitts and Nevis",
          "Korea",
          "Kuwait",
          "Latin America & Caribbean (excluding high income)",
          "Lao PDR",
          "Lebanon",
          "Liberia",
          "Libya",
          "St. Lucia",
          "Latin America & Caribbean",
          "Least developed countries: UN classification",
          "Low income",
          "Liechtenstein",
          "Sri Lanka",
          "Lower middle income",
          "Low & middle income",
          "Lesotho",
          "Late-demographic dividend",
          "Lithuania",
          "Luxembourg",
          "Latvia",
          "Macao SAR, China",
          "St. Martin (French part)",
          "Morocco",
          "Monaco",
          "Moldova",
          "Madagascar",
          "Maldives",
          "Middle East & North Africa",
          "Mexico",
          "Marshall Islands",
          "Middle income",
          "North Macedonia",
          "Mali",
          "Malta",
          "Myanmar",
          "Middle East & North Africa (excluding high income)",
          "Montenegro",
          "Mongolia",
          "Northern Mariana Islands",
          "Mozambique",
          "Mauritania",
          "Mauritius",
          "Malawi",
          "Malaysia",
          "North America",
          "Namibia",
          "New Caledonia",
          "Niger",
          "Nigeria",
          "Nicaragua",
          "Netherlands",
          "Norway",
          "Nepal",
          "Nauru",
          "New Zealand",
          "OECD members",
          "Oman",
          "Other small states",
          "Pakistan",
          "Panama",
          "Peru",
          "Philippines",
          "Palau",
          "Papua New Guinea",
          "Poland",
          "Pre-demographic dividend",
          "Puerto Rico",
          "Dem. People's Rep. Korea",
          "Portugal",
          "Paraguay",
          "West Bank and Gaza",
          "Pacific island small states",
          "Post-demographic dividend",
          "French Polynesia",
          "Qatar",
          "Romania",
          "Russia",
          "Rwanda",
          "South Asia",
          "Saudi Arabia",
          "Sudan",
          "Senegal",
          "Singapore",
          "Solomon Islands",
          "Sierra Leone",
          "El Salvador",
          "San Marino",
          "Somalia",
          "Serbia",
          "Sub-Saharan Africa (excluding high income)",
          "South Sudan",
          "Sub-Saharan Africa",
          "Small states",
          "São Tomé and Principe",
          "Suriname",
          "Slovak Republic",
          "Slovenia",
          "Sweden",
          "Eswatini",
          "Sint Maarten (Dutch part)",
          "Seychelles",
          "Syrian Arab Republic",
          "Turks and Caicos Islands",
          "Chad",
          "East Asia & Pacific (IDA & IBRD)",
          "Europe & Central Asia (IDA & IBRD)",
          "Togo",
          "Thailand",
          "Tajikistan",
          "Turkmenistan",
          "Latin America & Caribbean (IDA & IBRD)",
          "Timor-Leste",
          "Middle East & North Africa (IDA & IBRD)",
          "Tonga",
          "South Asia (IDA & IBRD)",
          "Sub-Saharan Africa (IDA & IBRD)",
          "Trinidad and Tobago",
          "Tunisia",
          "Türkiye",
          "Tuvalu",
          "Tanzania",
          "Uganda",
          "Ukraine",
          "Upper middle income",
          "Uruguay",
          "United States",
          "Uzbekistan",
          "St. Vincent and the Grenadines",
          "Venezuela",
          "British Virgin Islands",
          "Virgin Islands",
          "Viet Nam",
          "Vanuatu",
          "World",
          "Samoa",
          "Kosovo",
          "Yemen",
          "South Africa",
          "Zambia",
          "Zimbabwe"
         ],
         "locations": [
          "ABW",
          "AFE",
          "AFG",
          "AFW",
          "AGO",
          "ALB",
          "AND",
          "ARB",
          "ARE",
          "ARG",
          "ARM",
          "ASM",
          "ATG",
          "AUS",
          "AUT",
          "AZE",
          "BDI",
          "BEL",
          "BEN",
          "BFA",
          "BGD",
          "BGR",
          "BHR",
          "BHS",
          "BIH",
          "BLR",
          "BLZ",
          "BMU",
          "BOL",
          "BRA",
          "BRB",
          "BRN",
          "BTN",
          "BWA",
          "CAF",
          "CAN",
          "CEB",
          "CHE",
          "CHI",
          "CHL",
          "CHN",
          "CIV",
          "CMR",
          "COD",
          "COG",
          "COL",
          "COM",
          "CPV",
          "CRI",
          "CSS",
          "CUB",
          "CUW",
          "CYM",
          "CYP",
          "CZE",
          "DEU",
          "DJI",
          "DMA",
          "DNK",
          "DOM",
          "DZA",
          "EAP",
          "EAR",
          "EAS",
          "ECA",
          "ECS",
          "ECU",
          "EGY",
          "EMU",
          "ERI",
          "ESP",
          "EST",
          "ETH",
          "EUU",
          "FCS",
          "FIN",
          "FJI",
          "FRA",
          "FRO",
          "FSM",
          "GAB",
          "GBR",
          "GEO",
          "GHA",
          "GIB",
          "GIN",
          "GMB",
          "GNB",
          "GNQ",
          "GRC",
          "GRD",
          "GRL",
          "GTM",
          "GUM",
          "GUY",
          "HIC",
          "HKG",
          "HND",
          "HPC",
          "HRV",
          "HTI",
          "HUN",
          "IBD",
          "IBT",
          "IDA",
          "IDB",
          "IDN",
          "IDX",
          "IMN",
          "IND",
          "IRL",
          "IRN",
          "IRQ",
          "ISL",
          "ISR",
          "ITA",
          "JAM",
          "JOR",
          "JPN",
          "KAZ",
          "KEN",
          "KGZ",
          "KHM",
          "KIR",
          "KNA",
          "KOR",
          "KWT",
          "LAC",
          "LAO",
          "LBN",
          "LBR",
          "LBY",
          "LCA",
          "LCN",
          "LDC",
          "LIC",
          "LIE",
          "LKA",
          "LMC",
          "LMY",
          "LSO",
          "LTE",
          "LTU",
          "LUX",
          "LVA",
          "MAC",
          "MAF",
          "MAR",
          "MCO",
          "MDA",
          "MDG",
          "MDV",
          "MEA",
          "MEX",
          "MHL",
          "MIC",
          "MKD",
          "MLI",
          "MLT",
          "MMR",
          "MNA",
          "MNE",
          "MNG",
          "MNP",
          "MOZ",
          "MRT",
          "MUS",
          "MWI",
          "MYS",
          "NAC",
          "NAM",
          "NCL",
          "NER",
          "NGA",
          "NIC",
          "NLD",
          "NOR",
          "NPL",
          "NRU",
          "NZL",
          "OED",
          "OMN",
          "OSS",
          "PAK",
          "PAN",
          "PER",
          "PHL",
          "PLW",
          "PNG",
          "POL",
          "PRE",
          "PRI",
          "PRK",
          "PRT",
          "PRY",
          "PSE",
          "PSS",
          "PST",
          "PYF",
          "QAT",
          "ROU",
          "RUS",
          "RWA",
          "SAS",
          "SAU",
          "SDN",
          "SEN",
          "SGP",
          "SLB",
          "SLE",
          "SLV",
          "SMR",
          "SOM",
          "SRB",
          "SSA",
          "SSD",
          "SSF",
          "SST",
          "STP",
          "SUR",
          "SVK",
          "SVN",
          "SWE",
          "SWZ",
          "SXM",
          "SYC",
          "SYR",
          "TCA",
          "TCD",
          "TEA",
          "TEC",
          "TGO",
          "THA",
          "TJK",
          "TKM",
          "TLA",
          "TLS",
          "TMN",
          "TON",
          "TSA",
          "TSS",
          "TTO",
          "TUN",
          "TUR",
          "TUV",
          "TZA",
          "UGA",
          "UKR",
          "UMC",
          "URY",
          "USA",
          "UZB",
          "VCT",
          "VEN",
          "VGB",
          "VIR",
          "VNM",
          "VUT",
          "WLD",
          "WSM",
          "XKX",
          "YEM",
          "ZAF",
          "ZMB",
          "ZWE"
         ],
         "name": "",
         "type": "choropleth",
         "z": [
          2.33333333333333,
          29.9551940597337,
          1.85278199408184,
          19.7320365324224,
          52.9817223871019,
          28.7919708029197,
          34.0425531914894,
          2.79112084453801,
          4.46775556181357,
          10.4007639520735,
          11.5300316122234,
          85.5,
          18.3029545454545,
          17.4213145571644,
          47.2944740668929,
          13.8329909255898,
          10.8894080996885,
          22.7642007926024,
          27.3603228095069,
          22.5380116959064,
          14.4687716063609,
          35.9801031687546,
          0.911392405063291,
          50.9350649350649,
          42.7326171875,
          43.2722345405272,
          55.4971503726436,
          18.5185185185185,
          46.7283054555525,
          59.2705274977447,
          14.6511627906977,
          72.1062618595825,
          71.5013109596224,
          26.7083090713391,
          35.7523516003724,
          39.4701279256318,
          34.5892800367668,
          32.2086033202538,
          5.15151515151515,
          24.6574727113292,
          23.631528267902,
          8.5654927672956,
          42.9110448266379,
          55.1614932621689,
          64.2196193265007,
          53.1253958539883,
          17.4529822675981,
          11.4193548387097,
          59.7579318448884,
          89.7485567494134,
          31.233140655106,
          0.157657657657658,
          52.75,
          18.6699134199134,
          34.7066980208929,
          32.6826755201923,
          0.253377911993098,
          63.8266666666667,
          15.7345,
          45.2797121878353,
          0.822227647758509,
          30.514377554444,
          22.7079792445322,
          27.1947367886103,
          39.5372115885239,
          38.5416632681328,
          50.0626509904977,
          0.0451855944547692,
          38.7299712042686,
          8.69210834634981,
          37.1727521093233,
          57.0385964912281,
          15.0593059801146,
          39.8875069783572,
          22.9070030118226,
          73.7264996576714,
          62.7640941434045,
          31.6613612829349,
          0.0583941605839416,
          92.0714285714286,
          91.2745760080723,
          13.2214553796553,
          40.6159159591308,
          35.1286771589176,
          0,
          25.0244180367898,
          23.4123814229249,
          70.1127311522048,
          86.9896613190731,
          30.2699767261443,
          52.0588235294118,
          0.0005359970763795,
          32.812616648003,
          51.8518518518518,
          93.5033441706884,
          29.8408786013867,
          null,
          56.6476896952364,
          26.9347569683559,
          34.6963902787706,
          12.4887518142235,
          22.4803495507342,
          33.9205457483361,
          31.7067207499653,
          25.4434371681233,
          29.6806179231373,
          48.3619448681206,
          24.5461068432768,
          6.07017543859649,
          24.3598290052099,
          11.4097837131659,
          6.63521109399075,
          1.90036118379833,
          0.515752256272935,
          6.46950092421442,
          32.5308994748357,
          55.4730655586334,
          1.09804716534901,
          68.4087791495199,
          1.29048383153684,
          6.34481849808483,
          6.95318039624609,
          44.825968728756,
          1.45679012345679,
          42.3076923076923,
          64.3135245901639,
          0.350729517396184,
          46.7747336352783,
          71.7547660311958,
          14.069403714565,
          78.7705564784053,
          0.123327687918433,
          34.0491803278688,
          46.3898778438244,
          26.0480456104234,
          20.150541691574,
          41.875,
          34.1070158422244,
          24.2524554097892,
          31.4803685737627,
          1.13702239789196,
          39.5482954336414,
          35.1807490816164,
          34.4538272103664,
          54.8716053350474,
          null,
          24.8,
          12.8903354246023,
          0,
          11.7227782832878,
          21.3416925060158,
          2.73333333333333,
          2.05407900674665,
          33.7273678335348,
          52.2222222222222,
          33.5981864271159,
          39.7101506740682,
          10.896663634352,
          1.4375,
          43.2901466284646,
          2.50110752383829,
          61.4869888475836,
          9.09894465963877,
          52.9565217391304,
          46.412173122409,
          0.298211603764432,
          19.4341512268403,
          23.3315655494272,
          58.0243189773246,
          36.6124410534822,
          7.97761420641572,
          45.8380743982495,
          0.842567300860504,
          23.5664876972232,
          27.4848761841449,
          11.001980991981,
          33.4581491750625,
          41.5907220090687,
          0,
          37.6306509437545,
          32.9276800548111,
          0.0078620355411954,
          28.6151181518633,
          4.7796803652968,
          56.6517026152602,
          56.373072890625,
          24.226045544488,
          90.195652173913,
          79.1022170207128,
          31.0192747468148,
          25.6308376016006,
          56.011273957159,
          49.903330288182,
          36.154994891142,
          39.8261432167128,
          1.68298755186722,
          68.5720966484801,
          32.2985025913256,
          43.0596369922213,
          0,
          30.1158292767733,
          49.7843360788722,
          11.2282124037292,
          18.8679886459879,
          0.454484134921779,
          9.73629014989293,
          41.6982288474523,
          21.4345403899721,
          90.1121829224723,
          34.8455250761984,
          27.9623552123552,
          16.6666666666667,
          9.40996907578028,
          32.3812581757641,
          26.0835020425629,
          11.3256215087114,
          26.0844104061065,
          39.5380126596756,
          53.4166666666667,
          97.3336108974359,
          40.05615640599,
          61.3711140025029,
          68.6990689582005,
          28.9982558139535,
          10.8823529411765,
          73.2608695652174,
          2.84310842454937,
          11.0736842105263,
          3.33650992693774,
          30.3673334512939,
          39.317684732671,
          22.1788931788932,
          38.8283192076572,
          3.0607392463434,
          8.78215904496414,
          46.4661287451175,
          61.8493611297915,
          2.50167876893523,
          12.4305555555556,
          18.8679886459879,
          26.0844104061065,
          44.3996101364522,
          4.53308444902163,
          29.0741785013578,
          33.3333333333333,
          51.1131180853466,
          11.4534375623379,
          16.7345529858474,
          37.6885465571779,
          11.7243743572163,
          33.8669264120375,
          8.43180461723851,
          73.1794871794872,
          52.3477807380534,
          24.1333333333333,
          57.3142857142857,
          46.9611618580284,
          36.2838392124692,
          31.177049022764,
          57.9820143884892,
          null,
          1.03983180862549,
          14.0250847010527,
          60.0301501230848,
          44.9748222825385
         ]
        }
       ],
       "layout": {
        "coloraxis": {
         "colorbar": {
          "title": {
           "text": "2021"
          }
         },
         "colorscale": [
          [
           0,
           "#440154"
          ],
          [
           0.1111111111111111,
           "#482878"
          ],
          [
           0.2222222222222222,
           "#3e4989"
          ],
          [
           0.3333333333333333,
           "#31688e"
          ],
          [
           0.4444444444444444,
           "#26828e"
          ],
          [
           0.5555555555555556,
           "#1f9e89"
          ],
          [
           0.6666666666666666,
           "#35b779"
          ],
          [
           0.7777777777777778,
           "#6ece58"
          ],
          [
           0.8888888888888888,
           "#b5de2b"
          ],
          [
           1,
           "#fde725"
          ]
         ]
        },
        "geo": {
         "center": {},
         "domain": {
          "x": [
           0,
           1
          ],
          "y": [
           0,
           1
          ]
         }
        },
        "legend": {
         "tracegroupgap": 0
        },
        "template": {
         "data": {
          "bar": [
           {
            "error_x": {
             "color": "#2a3f5f"
            },
            "error_y": {
             "color": "#2a3f5f"
            },
            "marker": {
             "line": {
              "color": "#E5ECF6",
              "width": 0.5
             },
             "pattern": {
              "fillmode": "overlay",
              "size": 10,
              "solidity": 0.2
             }
            },
            "type": "bar"
           }
          ],
          "barpolar": [
           {
            "marker": {
             "line": {
              "color": "#E5ECF6",
              "width": 0.5
             },
             "pattern": {
              "fillmode": "overlay",
              "size": 10,
              "solidity": 0.2
             }
            },
            "type": "barpolar"
           }
          ],
          "carpet": [
           {
            "aaxis": {
             "endlinecolor": "#2a3f5f",
             "gridcolor": "white",
             "linecolor": "white",
             "minorgridcolor": "white",
             "startlinecolor": "#2a3f5f"
            },
            "baxis": {
             "endlinecolor": "#2a3f5f",
             "gridcolor": "white",
             "linecolor": "white",
             "minorgridcolor": "white",
             "startlinecolor": "#2a3f5f"
            },
            "type": "carpet"
           }
          ],
          "choropleth": [
           {
            "colorbar": {
             "outlinewidth": 0,
             "ticks": ""
            },
            "type": "choropleth"
           }
          ],
          "contour": [
           {
            "colorbar": {
             "outlinewidth": 0,
             "ticks": ""
            },
            "colorscale": [
             [
              0,
              "#0d0887"
             ],
             [
              0.1111111111111111,
              "#46039f"
             ],
             [
              0.2222222222222222,
              "#7201a8"
             ],
             [
              0.3333333333333333,
              "#9c179e"
             ],
             [
              0.4444444444444444,
              "#bd3786"
             ],
             [
              0.5555555555555556,
              "#d8576b"
             ],
             [
              0.6666666666666666,
              "#ed7953"
             ],
             [
              0.7777777777777778,
              "#fb9f3a"
             ],
             [
              0.8888888888888888,
              "#fdca26"
             ],
             [
              1,
              "#f0f921"
             ]
            ],
            "type": "contour"
           }
          ],
          "contourcarpet": [
           {
            "colorbar": {
             "outlinewidth": 0,
             "ticks": ""
            },
            "type": "contourcarpet"
           }
          ],
          "heatmap": [
           {
            "colorbar": {
             "outlinewidth": 0,
             "ticks": ""
            },
            "colorscale": [
             [
              0,
              "#0d0887"
             ],
             [
              0.1111111111111111,
              "#46039f"
             ],
             [
              0.2222222222222222,
              "#7201a8"
             ],
             [
              0.3333333333333333,
              "#9c179e"
             ],
             [
              0.4444444444444444,
              "#bd3786"
             ],
             [
              0.5555555555555556,
              "#d8576b"
             ],
             [
              0.6666666666666666,
              "#ed7953"
             ],
             [
              0.7777777777777778,
              "#fb9f3a"
             ],
             [
              0.8888888888888888,
              "#fdca26"
             ],
             [
              1,
              "#f0f921"
             ]
            ],
            "type": "heatmap"
           }
          ],
          "heatmapgl": [
           {
            "colorbar": {
             "outlinewidth": 0,
             "ticks": ""
            },
            "colorscale": [
             [
              0,
              "#0d0887"
             ],
             [
              0.1111111111111111,
              "#46039f"
             ],
             [
              0.2222222222222222,
              "#7201a8"
             ],
             [
              0.3333333333333333,
              "#9c179e"
             ],
             [
              0.4444444444444444,
              "#bd3786"
             ],
             [
              0.5555555555555556,
              "#d8576b"
             ],
             [
              0.6666666666666666,
              "#ed7953"
             ],
             [
              0.7777777777777778,
              "#fb9f3a"
             ],
             [
              0.8888888888888888,
              "#fdca26"
             ],
             [
              1,
              "#f0f921"
             ]
            ],
            "type": "heatmapgl"
           }
          ],
          "histogram": [
           {
            "marker": {
             "pattern": {
              "fillmode": "overlay",
              "size": 10,
              "solidity": 0.2
             }
            },
            "type": "histogram"
           }
          ],
          "histogram2d": [
           {
            "colorbar": {
             "outlinewidth": 0,
             "ticks": ""
            },
            "colorscale": [
             [
              0,
              "#0d0887"
             ],
             [
              0.1111111111111111,
              "#46039f"
             ],
             [
              0.2222222222222222,
              "#7201a8"
             ],
             [
              0.3333333333333333,
              "#9c179e"
             ],
             [
              0.4444444444444444,
              "#bd3786"
             ],
             [
              0.5555555555555556,
              "#d8576b"
             ],
             [
              0.6666666666666666,
              "#ed7953"
             ],
             [
              0.7777777777777778,
              "#fb9f3a"
             ],
             [
              0.8888888888888888,
              "#fdca26"
             ],
             [
              1,
              "#f0f921"
             ]
            ],
            "type": "histogram2d"
           }
          ],
          "histogram2dcontour": [
           {
            "colorbar": {
             "outlinewidth": 0,
             "ticks": ""
            },
            "colorscale": [
             [
              0,
              "#0d0887"
             ],
             [
              0.1111111111111111,
              "#46039f"
             ],
             [
              0.2222222222222222,
              "#7201a8"
             ],
             [
              0.3333333333333333,
              "#9c179e"
             ],
             [
              0.4444444444444444,
              "#bd3786"
             ],
             [
              0.5555555555555556,
              "#d8576b"
             ],
             [
              0.6666666666666666,
              "#ed7953"
             ],
             [
              0.7777777777777778,
              "#fb9f3a"
             ],
             [
              0.8888888888888888,
              "#fdca26"
             ],
             [
              1,
              "#f0f921"
             ]
            ],
            "type": "histogram2dcontour"
           }
          ],
          "mesh3d": [
           {
            "colorbar": {
             "outlinewidth": 0,
             "ticks": ""
            },
            "type": "mesh3d"
           }
          ],
          "parcoords": [
           {
            "line": {
             "colorbar": {
              "outlinewidth": 0,
              "ticks": ""
             }
            },
            "type": "parcoords"
           }
          ],
          "pie": [
           {
            "automargin": true,
            "type": "pie"
           }
          ],
          "scatter": [
           {
            "fillpattern": {
             "fillmode": "overlay",
             "size": 10,
             "solidity": 0.2
            },
            "type": "scatter"
           }
          ],
          "scatter3d": [
           {
            "line": {
             "colorbar": {
              "outlinewidth": 0,
              "ticks": ""
             }
            },
            "marker": {
             "colorbar": {
              "outlinewidth": 0,
              "ticks": ""
             }
            },
            "type": "scatter3d"
           }
          ],
          "scattercarpet": [
           {
            "marker": {
             "colorbar": {
              "outlinewidth": 0,
              "ticks": ""
             }
            },
            "type": "scattercarpet"
           }
          ],
          "scattergeo": [
           {
            "marker": {
             "colorbar": {
              "outlinewidth": 0,
              "ticks": ""
             }
            },
            "type": "scattergeo"
           }
          ],
          "scattergl": [
           {
            "marker": {
             "colorbar": {
              "outlinewidth": 0,
              "ticks": ""
             }
            },
            "type": "scattergl"
           }
          ],
          "scattermapbox": [
           {
            "marker": {
             "colorbar": {
              "outlinewidth": 0,
              "ticks": ""
             }
            },
            "type": "scattermapbox"
           }
          ],
          "scatterpolar": [
           {
            "marker": {
             "colorbar": {
              "outlinewidth": 0,
              "ticks": ""
             }
            },
            "type": "scatterpolar"
           }
          ],
          "scatterpolargl": [
           {
            "marker": {
             "colorbar": {
              "outlinewidth": 0,
              "ticks": ""
             }
            },
            "type": "scatterpolargl"
           }
          ],
          "scatterternary": [
           {
            "marker": {
             "colorbar": {
              "outlinewidth": 0,
              "ticks": ""
             }
            },
            "type": "scatterternary"
           }
          ],
          "surface": [
           {
            "colorbar": {
             "outlinewidth": 0,
             "ticks": ""
            },
            "colorscale": [
             [
              0,
              "#0d0887"
             ],
             [
              0.1111111111111111,
              "#46039f"
             ],
             [
              0.2222222222222222,
              "#7201a8"
             ],
             [
              0.3333333333333333,
              "#9c179e"
             ],
             [
              0.4444444444444444,
              "#bd3786"
             ],
             [
              0.5555555555555556,
              "#d8576b"
             ],
             [
              0.6666666666666666,
              "#ed7953"
             ],
             [
              0.7777777777777778,
              "#fb9f3a"
             ],
             [
              0.8888888888888888,
              "#fdca26"
             ],
             [
              1,
              "#f0f921"
             ]
            ],
            "type": "surface"
           }
          ],
          "table": [
           {
            "cells": {
             "fill": {
              "color": "#EBF0F8"
             },
             "line": {
              "color": "white"
             }
            },
            "header": {
             "fill": {
              "color": "#C8D4E3"
             },
             "line": {
              "color": "white"
             }
            },
            "type": "table"
           }
          ]
         },
         "layout": {
          "annotationdefaults": {
           "arrowcolor": "#2a3f5f",
           "arrowhead": 0,
           "arrowwidth": 1
          },
          "autotypenumbers": "strict",
          "coloraxis": {
           "colorbar": {
            "outlinewidth": 0,
            "ticks": ""
           }
          },
          "colorscale": {
           "diverging": [
            [
             0,
             "#8e0152"
            ],
            [
             0.1,
             "#c51b7d"
            ],
            [
             0.2,
             "#de77ae"
            ],
            [
             0.3,
             "#f1b6da"
            ],
            [
             0.4,
             "#fde0ef"
            ],
            [
             0.5,
             "#f7f7f7"
            ],
            [
             0.6,
             "#e6f5d0"
            ],
            [
             0.7,
             "#b8e186"
            ],
            [
             0.8,
             "#7fbc41"
            ],
            [
             0.9,
             "#4d9221"
            ],
            [
             1,
             "#276419"
            ]
           ],
           "sequential": [
            [
             0,
             "#0d0887"
            ],
            [
             0.1111111111111111,
             "#46039f"
            ],
            [
             0.2222222222222222,
             "#7201a8"
            ],
            [
             0.3333333333333333,
             "#9c179e"
            ],
            [
             0.4444444444444444,
             "#bd3786"
            ],
            [
             0.5555555555555556,
             "#d8576b"
            ],
            [
             0.6666666666666666,
             "#ed7953"
            ],
            [
             0.7777777777777778,
             "#fb9f3a"
            ],
            [
             0.8888888888888888,
             "#fdca26"
            ],
            [
             1,
             "#f0f921"
            ]
           ],
           "sequentialminus": [
            [
             0,
             "#0d0887"
            ],
            [
             0.1111111111111111,
             "#46039f"
            ],
            [
             0.2222222222222222,
             "#7201a8"
            ],
            [
             0.3333333333333333,
             "#9c179e"
            ],
            [
             0.4444444444444444,
             "#bd3786"
            ],
            [
             0.5555555555555556,
             "#d8576b"
            ],
            [
             0.6666666666666666,
             "#ed7953"
            ],
            [
             0.7777777777777778,
             "#fb9f3a"
            ],
            [
             0.8888888888888888,
             "#fdca26"
            ],
            [
             1,
             "#f0f921"
            ]
           ]
          },
          "colorway": [
           "#636efa",
           "#EF553B",
           "#00cc96",
           "#ab63fa",
           "#FFA15A",
           "#19d3f3",
           "#FF6692",
           "#B6E880",
           "#FF97FF",
           "#FECB52"
          ],
          "font": {
           "color": "#2a3f5f"
          },
          "geo": {
           "bgcolor": "white",
           "lakecolor": "white",
           "landcolor": "#E5ECF6",
           "showlakes": true,
           "showland": true,
           "subunitcolor": "white"
          },
          "hoverlabel": {
           "align": "left"
          },
          "hovermode": "closest",
          "mapbox": {
           "style": "light"
          },
          "paper_bgcolor": "white",
          "plot_bgcolor": "#E5ECF6",
          "polar": {
           "angularaxis": {
            "gridcolor": "white",
            "linecolor": "white",
            "ticks": ""
           },
           "bgcolor": "#E5ECF6",
           "radialaxis": {
            "gridcolor": "white",
            "linecolor": "white",
            "ticks": ""
           }
          },
          "scene": {
           "xaxis": {
            "backgroundcolor": "#E5ECF6",
            "gridcolor": "white",
            "gridwidth": 2,
            "linecolor": "white",
            "showbackground": true,
            "ticks": "",
            "zerolinecolor": "white"
           },
           "yaxis": {
            "backgroundcolor": "#E5ECF6",
            "gridcolor": "white",
            "gridwidth": 2,
            "linecolor": "white",
            "showbackground": true,
            "ticks": "",
            "zerolinecolor": "white"
           },
           "zaxis": {
            "backgroundcolor": "#E5ECF6",
            "gridcolor": "white",
            "gridwidth": 2,
            "linecolor": "white",
            "showbackground": true,
            "ticks": "",
            "zerolinecolor": "white"
           }
          },
          "shapedefaults": {
           "line": {
            "color": "#2a3f5f"
           }
          },
          "ternary": {
           "aaxis": {
            "gridcolor": "white",
            "linecolor": "white",
            "ticks": ""
           },
           "baxis": {
            "gridcolor": "white",
            "linecolor": "white",
            "ticks": ""
           },
           "bgcolor": "#E5ECF6",
           "caxis": {
            "gridcolor": "white",
            "linecolor": "white",
            "ticks": ""
           }
          },
          "title": {
           "x": 0.05
          },
          "xaxis": {
           "automargin": true,
           "gridcolor": "white",
           "linecolor": "white",
           "ticks": "",
           "title": {
            "standoff": 15
           },
           "zerolinecolor": "white",
           "zerolinewidth": 2
          },
          "yaxis": {
           "automargin": true,
           "gridcolor": "white",
           "linecolor": "white",
           "ticks": "",
           "title": {
            "standoff": 15
           },
           "zerolinecolor": "white",
           "zerolinewidth": 2
          }
         }
        },
        "title": {
         "text": "Cobertura Florestal por País em 2021"
        }
       }
      }
     },
     "metadata": {},
     "output_type": "display_data"
    }
   ],
   "source": [
    "\n",
    "#Forest area (% of land area)\n",
    "import plotly.express as px\n",
    "\n",
    "filter = wdi_merge['Indicator Code'] == 'AG.LND.FRST.ZS'\n",
    "area_florestal = wdi_merge[filter]\n",
    "\n",
    "area_florestal_slice = area_florestal[[\"Country Code\", \"Short Name\", \"Region\", \"Indicator Code\", \"2021\"]]\n",
    "\n",
    "fig = px.choropleth(area_florestal_slice, \n",
    "                    locations=\"Country Code\", \n",
    "                    color=\"2021\", \n",
    "                    hover_name=\"Short Name\",\n",
    "                    hover_data=[\"Region\"],\n",
    "                    color_continuous_scale=px.colors.sequential.Viridis,\n",
    "                    title=\"Cobertura Florestal por País em 2021\")\n",
    "\n",
    "fig.show()\n"
   ]
  }
 ],
 "metadata": {
  "kernelspec": {
   "display_name": "Python 3 (ipykernel)",
   "language": "python",
   "name": "python3"
  },
  "language_info": {
   "codemirror_mode": {
    "name": "ipython",
    "version": 3
   },
   "file_extension": ".py",
   "mimetype": "text/x-python",
   "name": "python",
   "nbconvert_exporter": "python",
   "pygments_lexer": "ipython3",
   "version": "3.11.3"
  }
 },
 "nbformat": 4,
 "nbformat_minor": 5
}
