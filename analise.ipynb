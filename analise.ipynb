{
 "cells": [
  {
   "cell_type": "code",
   "execution_count": 577,
   "id": "bae0e6d9",
   "metadata": {},
   "outputs": [],
   "source": [
    "import pandas as pd"
   ]
  },
  {
   "cell_type": "code",
   "execution_count": 578,
   "id": "eb60b706",
   "metadata": {},
   "outputs": [],
   "source": [
    "#wdi_country_series_df = pd.read_csv(f'{folder_path}/WDICountry-Series.csv', sep=',')\n",
    "#wdi_data_df = pd.read_csv(f'{folder_path}/WDIData.csv', sep=',')\n",
    "#wdi_foot_note_df = pd.read_csv(f'{folder_path}/WDIFootNote.csv', sep=',')\n",
    "#wdi_series_time_df = pd.read_csv(f'{folder_path}/WDISeries-Time.csv', sep=',')\n",
    "#wdi_series_df = pd.read_csv(f'{folder_path}/WDISeries.csv', sep=',')"
   ]
  },
  {
   "cell_type": "code",
   "execution_count": 579,
   "id": "278a2667",
   "metadata": {},
   "outputs": [],
   "source": [
    "folder_path = './csv'\n",
    "wdi_country_df = pd.read_csv(f'{folder_path}/WDICountry.csv', sep=',')"
   ]
  },
  {
   "cell_type": "markdown",
   "id": "3c8ea0c9",
   "metadata": {},
   "source": [
    "### Base de Dados - World Development Indicators (WDI)"
   ]
  },
  {
   "cell_type": "markdown",
   "id": "57bed0f1",
   "metadata": {},
   "source": [
    "#### Análise dos dados brutos a serem transformados\n",
    "- Última coluna não possui dados (retirar)\n",
    "- Coluna \"Vital registration complete\" deve-se substituir os dados de NaN para No"
   ]
  },
  {
   "cell_type": "markdown",
   "id": "6ff2b406",
   "metadata": {},
   "source": [
    "### Metadata\n",
    "\n",
    "#### Colunas:\n",
    "\n",
    "- **Country Code** =   **Código do País**\n",
    "- **Short Name** =   **Nome Curto**\n",
    "- **Table Name** =   **Nome da Tabela**\n",
    "- **Long Name** =   **Nome Completo**\n",
    "- **2-alpha code** =   **Código 2-alpha**\n",
    "- **Currency Unit** =   **Unidade Monetária**\n",
    "- **Special Notes** =   **Notas Especiais**\n",
    "- **Region** =   **Região**\n",
    "- **Income Group** =   **Grupo de Renda**\n",
    "- **WB-2 code** =   **Código WB-2**\n",
    "- **National accounts base year** =   **Ano Base das Contas Nacionais**\n",
    "- **National accounts reference year** =   **Ano de Referência das Contas Nacionais**\n",
    "- **SNA price valuation** =   **Avaliação de Preços pelo SNA**\n",
    "- **Lending category** =   **Categoria de Empréstimo**\n",
    "- **Other groups** =   **Outros Grupos**\n",
    "- **System of National Accounts** =   **Sistema de Contas Nacionais**\n",
    "- **Alternative conversion factor** =   **Fator de Conversão Alternativo**\n",
    "- **PPP survey year** =   **Ano da Pesquisa PPC**\n",
    "- **Balance of Payments Manual in use** =   **Manual de Balanço de Pagamentos em Uso**\n",
    "- **External debt Reporting status** =   **Status de Relato de Dívida Externa**\n",
    "- **System of trade** =   **Sistema de Comércio**\n",
    "- **Government Accounting concept** =   **Conceito de Contabilidade Governamental**\n",
    "- **IMF data dissemination standard** =   **Padrão de Disseminação de Dados do FMI**\n",
    "- **Latest population census** =   **Último Censo Populacional**\n",
    "- **Latest household survey** =   **Última Pesquisa Domiciliar**\n",
    "- **Source of most recent Income and expenditure data** =   **Fonte dos Dados mais Recentes de Renda e Despesa**\n",
    "- **Vital registration complete** =   **Registro Vital Completo**\n",
    "- **Latest agricultural census** =   **Último Censo Agrícola**\n",
    "- **Latest industrial data** =   **Dados Industriais mais Recentes**\n",
    "- **Latest trade data** =   **Dados Comerciais mais Recentes**\n"
   ]
  },
  {
   "cell_type": "code",
   "execution_count": 580,
   "id": "16c1761d",
   "metadata": {
    "scrolled": true
   },
   "outputs": [
    {
     "data": {
      "text/html": [
       "<div>\n",
       "<style scoped>\n",
       "    .dataframe tbody tr th:only-of-type {\n",
       "        vertical-align: middle;\n",
       "    }\n",
       "\n",
       "    .dataframe tbody tr th {\n",
       "        vertical-align: top;\n",
       "    }\n",
       "\n",
       "    .dataframe thead th {\n",
       "        text-align: right;\n",
       "    }\n",
       "</style>\n",
       "<table border=\"1\" class=\"dataframe\">\n",
       "  <thead>\n",
       "    <tr style=\"text-align: right;\">\n",
       "      <th></th>\n",
       "      <th>Country Code</th>\n",
       "      <th>Short Name</th>\n",
       "      <th>Table Name</th>\n",
       "      <th>Long Name</th>\n",
       "      <th>2-alpha code</th>\n",
       "      <th>Currency Unit</th>\n",
       "      <th>Special Notes</th>\n",
       "      <th>Region</th>\n",
       "      <th>Income Group</th>\n",
       "      <th>WB-2 code</th>\n",
       "      <th>...</th>\n",
       "      <th>Government Accounting concept</th>\n",
       "      <th>IMF data dissemination standard</th>\n",
       "      <th>Latest population census</th>\n",
       "      <th>Latest household survey</th>\n",
       "      <th>Source of most recent Income and expenditure data</th>\n",
       "      <th>Vital registration complete</th>\n",
       "      <th>Latest agricultural census</th>\n",
       "      <th>Latest industrial data</th>\n",
       "      <th>Latest trade data</th>\n",
       "      <th>Unnamed: 30</th>\n",
       "    </tr>\n",
       "  </thead>\n",
       "  <tbody>\n",
       "    <tr>\n",
       "      <th>0</th>\n",
       "      <td>ABW</td>\n",
       "      <td>Aruba</td>\n",
       "      <td>Aruba</td>\n",
       "      <td>Aruba</td>\n",
       "      <td>AW</td>\n",
       "      <td>Aruban florin</td>\n",
       "      <td>NaN</td>\n",
       "      <td>Latin America &amp; Caribbean</td>\n",
       "      <td>High income</td>\n",
       "      <td>AW</td>\n",
       "      <td>...</td>\n",
       "      <td>NaN</td>\n",
       "      <td>Enhanced General Data Dissemination System (e-...</td>\n",
       "      <td>2020 (expected)</td>\n",
       "      <td>NaN</td>\n",
       "      <td>NaN</td>\n",
       "      <td>Yes</td>\n",
       "      <td>NaN</td>\n",
       "      <td>NaN</td>\n",
       "      <td>2018.0</td>\n",
       "      <td>NaN</td>\n",
       "    </tr>\n",
       "    <tr>\n",
       "      <th>1</th>\n",
       "      <td>AFE</td>\n",
       "      <td>Africa Eastern and Southern</td>\n",
       "      <td>Africa Eastern and Southern</td>\n",
       "      <td>Africa Eastern and Southern</td>\n",
       "      <td>ZH</td>\n",
       "      <td>NaN</td>\n",
       "      <td>26 countries, stretching from the Red Sea in t...</td>\n",
       "      <td>NaN</td>\n",
       "      <td>NaN</td>\n",
       "      <td>ZH</td>\n",
       "      <td>...</td>\n",
       "      <td>NaN</td>\n",
       "      <td>NaN</td>\n",
       "      <td>NaN</td>\n",
       "      <td>NaN</td>\n",
       "      <td>NaN</td>\n",
       "      <td>NaN</td>\n",
       "      <td>NaN</td>\n",
       "      <td>NaN</td>\n",
       "      <td>NaN</td>\n",
       "      <td>NaN</td>\n",
       "    </tr>\n",
       "    <tr>\n",
       "      <th>2</th>\n",
       "      <td>AFG</td>\n",
       "      <td>Afghanistan</td>\n",
       "      <td>Afghanistan</td>\n",
       "      <td>Islamic State of Afghanistan</td>\n",
       "      <td>AF</td>\n",
       "      <td>Afghan afghani</td>\n",
       "      <td>The reporting period for national accounts dat...</td>\n",
       "      <td>South Asia</td>\n",
       "      <td>Low income</td>\n",
       "      <td>AF</td>\n",
       "      <td>...</td>\n",
       "      <td>Consolidated central government</td>\n",
       "      <td>Enhanced General Data Dissemination System (e-...</td>\n",
       "      <td>1979</td>\n",
       "      <td>Demographic and Health Survey, 2015</td>\n",
       "      <td>Integrated household survey (IHS), 2016/17</td>\n",
       "      <td>NaN</td>\n",
       "      <td>NaN</td>\n",
       "      <td>NaN</td>\n",
       "      <td>2018.0</td>\n",
       "      <td>NaN</td>\n",
       "    </tr>\n",
       "    <tr>\n",
       "      <th>3</th>\n",
       "      <td>AFW</td>\n",
       "      <td>Africa Western and Central</td>\n",
       "      <td>Africa Western and Central</td>\n",
       "      <td>Africa Western and Central</td>\n",
       "      <td>ZI</td>\n",
       "      <td>NaN</td>\n",
       "      <td>22 countries, stretching from the westernmost ...</td>\n",
       "      <td>NaN</td>\n",
       "      <td>NaN</td>\n",
       "      <td>ZI</td>\n",
       "      <td>...</td>\n",
       "      <td>NaN</td>\n",
       "      <td>NaN</td>\n",
       "      <td>NaN</td>\n",
       "      <td>NaN</td>\n",
       "      <td>NaN</td>\n",
       "      <td>NaN</td>\n",
       "      <td>NaN</td>\n",
       "      <td>NaN</td>\n",
       "      <td>NaN</td>\n",
       "      <td>NaN</td>\n",
       "    </tr>\n",
       "    <tr>\n",
       "      <th>4</th>\n",
       "      <td>AGO</td>\n",
       "      <td>Angola</td>\n",
       "      <td>Angola</td>\n",
       "      <td>People's Republic of Angola</td>\n",
       "      <td>AO</td>\n",
       "      <td>Angolan kwanza</td>\n",
       "      <td>The World Bank systematically assesses the app...</td>\n",
       "      <td>Sub-Saharan Africa</td>\n",
       "      <td>Lower middle income</td>\n",
       "      <td>AO</td>\n",
       "      <td>...</td>\n",
       "      <td>Budgetary central government</td>\n",
       "      <td>Enhanced General Data Dissemination System (e-...</td>\n",
       "      <td>2014</td>\n",
       "      <td>Demographic and Health Survey, 2015/16</td>\n",
       "      <td>Integrated household survey (IHS), 2008/09</td>\n",
       "      <td>NaN</td>\n",
       "      <td>NaN</td>\n",
       "      <td>NaN</td>\n",
       "      <td>2018.0</td>\n",
       "      <td>NaN</td>\n",
       "    </tr>\n",
       "  </tbody>\n",
       "</table>\n",
       "<p>5 rows × 31 columns</p>\n",
       "</div>"
      ],
      "text/plain": [
       "  Country Code                   Short Name                   Table Name  \\\n",
       "0          ABW                        Aruba                        Aruba   \n",
       "1          AFE  Africa Eastern and Southern  Africa Eastern and Southern   \n",
       "2          AFG                  Afghanistan                  Afghanistan   \n",
       "3          AFW   Africa Western and Central   Africa Western and Central   \n",
       "4          AGO                       Angola                       Angola   \n",
       "\n",
       "                      Long Name 2-alpha code   Currency Unit  \\\n",
       "0                         Aruba           AW   Aruban florin   \n",
       "1   Africa Eastern and Southern           ZH             NaN   \n",
       "2  Islamic State of Afghanistan           AF  Afghan afghani   \n",
       "3    Africa Western and Central           ZI             NaN   \n",
       "4   People's Republic of Angola           AO  Angolan kwanza   \n",
       "\n",
       "                                       Special Notes  \\\n",
       "0                                                NaN   \n",
       "1  26 countries, stretching from the Red Sea in t...   \n",
       "2  The reporting period for national accounts dat...   \n",
       "3  22 countries, stretching from the westernmost ...   \n",
       "4  The World Bank systematically assesses the app...   \n",
       "\n",
       "                      Region         Income Group WB-2 code  ...  \\\n",
       "0  Latin America & Caribbean          High income        AW  ...   \n",
       "1                        NaN                  NaN        ZH  ...   \n",
       "2                 South Asia           Low income        AF  ...   \n",
       "3                        NaN                  NaN        ZI  ...   \n",
       "4         Sub-Saharan Africa  Lower middle income        AO  ...   \n",
       "\n",
       "     Government Accounting concept  \\\n",
       "0                              NaN   \n",
       "1                              NaN   \n",
       "2  Consolidated central government   \n",
       "3                              NaN   \n",
       "4     Budgetary central government   \n",
       "\n",
       "                     IMF data dissemination standard Latest population census  \\\n",
       "0  Enhanced General Data Dissemination System (e-...          2020 (expected)   \n",
       "1                                                NaN                      NaN   \n",
       "2  Enhanced General Data Dissemination System (e-...                     1979   \n",
       "3                                                NaN                      NaN   \n",
       "4  Enhanced General Data Dissemination System (e-...                     2014   \n",
       "\n",
       "                  Latest household survey  \\\n",
       "0                                     NaN   \n",
       "1                                     NaN   \n",
       "2     Demographic and Health Survey, 2015   \n",
       "3                                     NaN   \n",
       "4  Demographic and Health Survey, 2015/16   \n",
       "\n",
       "  Source of most recent Income and expenditure data  \\\n",
       "0                                               NaN   \n",
       "1                                               NaN   \n",
       "2        Integrated household survey (IHS), 2016/17   \n",
       "3                                               NaN   \n",
       "4        Integrated household survey (IHS), 2008/09   \n",
       "\n",
       "  Vital registration complete  Latest agricultural census  \\\n",
       "0                         Yes                         NaN   \n",
       "1                         NaN                         NaN   \n",
       "2                         NaN                         NaN   \n",
       "3                         NaN                         NaN   \n",
       "4                         NaN                         NaN   \n",
       "\n",
       "   Latest industrial data Latest trade data Unnamed: 30  \n",
       "0                     NaN            2018.0         NaN  \n",
       "1                     NaN               NaN         NaN  \n",
       "2                     NaN            2018.0         NaN  \n",
       "3                     NaN               NaN         NaN  \n",
       "4                     NaN            2018.0         NaN  \n",
       "\n",
       "[5 rows x 31 columns]"
      ]
     },
     "execution_count": 580,
     "metadata": {},
     "output_type": "execute_result"
    }
   ],
   "source": [
    "wdi_country_df.head()"
   ]
  },
  {
   "cell_type": "code",
   "execution_count": 581,
   "id": "00c21793",
   "metadata": {},
   "outputs": [
    {
     "name": "stdout",
     "output_type": "stream",
     "text": [
      "Index(['Country Code', 'Short Name', 'Table Name', 'Long Name', '2-alpha code',\n",
      "       'Currency Unit', 'Special Notes', 'Region', 'Income Group', 'WB-2 code',\n",
      "       'National accounts base year', 'National accounts reference year',\n",
      "       'SNA price valuation', 'Lending category', 'Other groups',\n",
      "       'System of National Accounts', 'Alternative conversion factor',\n",
      "       'PPP survey year', 'Balance of Payments Manual in use',\n",
      "       'External debt Reporting status', 'System of trade',\n",
      "       'Government Accounting concept', 'IMF data dissemination standard',\n",
      "       'Latest population census', 'Latest household survey',\n",
      "       'Source of most recent Income and expenditure data',\n",
      "       'Vital registration complete', 'Latest agricultural census',\n",
      "       'Latest industrial data', 'Latest trade data', 'Unnamed: 30'],\n",
      "      dtype='object')\n"
     ]
    }
   ],
   "source": [
    "print(wdi_country_df.columns)"
   ]
  },
  {
   "cell_type": "markdown",
   "id": "820f6f3d",
   "metadata": {},
   "source": [
    "### Retirando última coluna"
   ]
  },
  {
   "cell_type": "code",
   "execution_count": 582,
   "id": "786213c2",
   "metadata": {
    "scrolled": true
   },
   "outputs": [
    {
     "data": {
      "text/plain": [
       "Index(['Country Code', 'Short Name', 'Table Name', 'Long Name', '2-alpha code',\n",
       "       'Currency Unit', 'Special Notes', 'Region', 'Income Group', 'WB-2 code',\n",
       "       'National accounts base year', 'National accounts reference year',\n",
       "       'SNA price valuation', 'Lending category', 'Other groups',\n",
       "       'System of National Accounts', 'Alternative conversion factor',\n",
       "       'PPP survey year', 'Balance of Payments Manual in use',\n",
       "       'External debt Reporting status', 'System of trade',\n",
       "       'Government Accounting concept', 'IMF data dissemination standard',\n",
       "       'Latest population census', 'Latest household survey',\n",
       "       'Source of most recent Income and expenditure data',\n",
       "       'Vital registration complete', 'Latest agricultural census',\n",
       "       'Latest industrial data', 'Latest trade data'],\n",
       "      dtype='object')"
      ]
     },
     "execution_count": 582,
     "metadata": {},
     "output_type": "execute_result"
    }
   ],
   "source": [
    "wdi_country_df = wdi_country_df.drop(\"Unnamed: 30\", axis = 1)\n",
    "wdi_country_df.columns"
   ]
  },
  {
   "cell_type": "markdown",
   "id": "32e1a6f2",
   "metadata": {},
   "source": [
    "### Tratando \"Coluna Vital registration complete\""
   ]
  },
  {
   "cell_type": "code",
   "execution_count": 583,
   "id": "708630f0",
   "metadata": {
    "scrolled": true
   },
   "outputs": [
    {
     "data": {
      "text/html": [
       "<div>\n",
       "<style scoped>\n",
       "    .dataframe tbody tr th:only-of-type {\n",
       "        vertical-align: middle;\n",
       "    }\n",
       "\n",
       "    .dataframe tbody tr th {\n",
       "        vertical-align: top;\n",
       "    }\n",
       "\n",
       "    .dataframe thead th {\n",
       "        text-align: right;\n",
       "    }\n",
       "</style>\n",
       "<table border=\"1\" class=\"dataframe\">\n",
       "  <thead>\n",
       "    <tr style=\"text-align: right;\">\n",
       "      <th></th>\n",
       "      <th>Country Code</th>\n",
       "      <th>Short Name</th>\n",
       "      <th>Table Name</th>\n",
       "      <th>Long Name</th>\n",
       "      <th>2-alpha code</th>\n",
       "      <th>Currency Unit</th>\n",
       "      <th>Special Notes</th>\n",
       "      <th>Region</th>\n",
       "      <th>Income Group</th>\n",
       "      <th>WB-2 code</th>\n",
       "      <th>...</th>\n",
       "      <th>System of trade</th>\n",
       "      <th>Government Accounting concept</th>\n",
       "      <th>IMF data dissemination standard</th>\n",
       "      <th>Latest population census</th>\n",
       "      <th>Latest household survey</th>\n",
       "      <th>Source of most recent Income and expenditure data</th>\n",
       "      <th>Vital registration complete</th>\n",
       "      <th>Latest agricultural census</th>\n",
       "      <th>Latest industrial data</th>\n",
       "      <th>Latest trade data</th>\n",
       "    </tr>\n",
       "  </thead>\n",
       "  <tbody>\n",
       "    <tr>\n",
       "      <th>0</th>\n",
       "      <td>ABW</td>\n",
       "      <td>Aruba</td>\n",
       "      <td>Aruba</td>\n",
       "      <td>Aruba</td>\n",
       "      <td>AW</td>\n",
       "      <td>Aruban florin</td>\n",
       "      <td>NaN</td>\n",
       "      <td>Latin America &amp; Caribbean</td>\n",
       "      <td>High income</td>\n",
       "      <td>AW</td>\n",
       "      <td>...</td>\n",
       "      <td>General trade system</td>\n",
       "      <td>NaN</td>\n",
       "      <td>Enhanced General Data Dissemination System (e-...</td>\n",
       "      <td>2020 (expected)</td>\n",
       "      <td>NaN</td>\n",
       "      <td>NaN</td>\n",
       "      <td>Yes</td>\n",
       "      <td>NaN</td>\n",
       "      <td>NaN</td>\n",
       "      <td>2018.0</td>\n",
       "    </tr>\n",
       "  </tbody>\n",
       "</table>\n",
       "<p>1 rows × 30 columns</p>\n",
       "</div>"
      ],
      "text/plain": [
       "  Country Code Short Name Table Name Long Name 2-alpha code  Currency Unit  \\\n",
       "0          ABW      Aruba      Aruba     Aruba           AW  Aruban florin   \n",
       "\n",
       "  Special Notes                     Region Income Group WB-2 code  ...  \\\n",
       "0           NaN  Latin America & Caribbean  High income        AW  ...   \n",
       "\n",
       "        System of trade  Government Accounting concept  \\\n",
       "0  General trade system                            NaN   \n",
       "\n",
       "                     IMF data dissemination standard Latest population census  \\\n",
       "0  Enhanced General Data Dissemination System (e-...          2020 (expected)   \n",
       "\n",
       "  Latest household survey Source of most recent Income and expenditure data  \\\n",
       "0                     NaN                                               NaN   \n",
       "\n",
       "   Vital registration complete  Latest agricultural census  \\\n",
       "0                          Yes                         NaN   \n",
       "\n",
       "  Latest industrial data Latest trade data  \n",
       "0                    NaN            2018.0  \n",
       "\n",
       "[1 rows x 30 columns]"
      ]
     },
     "execution_count": 583,
     "metadata": {},
     "output_type": "execute_result"
    }
   ],
   "source": [
    "wdi_country_df.loc[wdi_country_df[\"Vital registration complete\"] == \"Yes\"].head(1)"
   ]
  },
  {
   "cell_type": "code",
   "execution_count": 584,
   "id": "f5ac7276",
   "metadata": {
    "scrolled": true
   },
   "outputs": [
    {
     "data": {
      "text/plain": [
       "Yes                                                 119\n",
       "Yes. Vital registration for Guernsey and Jersey.      1\n",
       "Name: Vital registration complete, dtype: int64"
      ]
     },
     "execution_count": 584,
     "metadata": {},
     "output_type": "execute_result"
    }
   ],
   "source": [
    "wdi_country_df[\"Vital registration complete\"].value_counts()"
   ]
  },
  {
   "cell_type": "markdown",
   "id": "ee57efae",
   "metadata": {},
   "source": [
    "#### Transformar todos os valores que contenham Yes para somente Yes"
   ]
  },
  {
   "cell_type": "code",
   "execution_count": 585,
   "id": "e0223e7d",
   "metadata": {},
   "outputs": [],
   "source": [
    "filter = wdi_country_df[\"Vital registration complete\"].str.contains(\"Yes\", na=False)\n",
    "\n",
    "wdi_country_df.loc[filter, \"Vital registration complete\"] = \"Yes\""
   ]
  },
  {
   "cell_type": "code",
   "execution_count": 586,
   "id": "931f20b2",
   "metadata": {},
   "outputs": [
    {
     "data": {
      "text/plain": [
       "Yes    120\n",
       "Name: Vital registration complete, dtype: int64"
      ]
     },
     "execution_count": 586,
     "metadata": {},
     "output_type": "execute_result"
    }
   ],
   "source": [
    "wdi_country_df[\"Vital registration complete\"].value_counts()"
   ]
  },
  {
   "cell_type": "markdown",
   "id": "8273d393",
   "metadata": {},
   "source": [
    "#### Transformar valores Yes em True"
   ]
  },
  {
   "cell_type": "code",
   "execution_count": 587,
   "id": "449ec765",
   "metadata": {},
   "outputs": [],
   "source": [
    "wdi_country_df.loc[wdi_country_df[\"Vital registration complete\"] == \"Yes\", \"Vital registration complete\"] = True"
   ]
  },
  {
   "cell_type": "code",
   "execution_count": 588,
   "id": "496713f3",
   "metadata": {},
   "outputs": [
    {
     "data": {
      "text/plain": [
       "True    120\n",
       "Name: Vital registration complete, dtype: int64"
      ]
     },
     "execution_count": 588,
     "metadata": {},
     "output_type": "execute_result"
    }
   ],
   "source": [
    "wdi_country_df[\"Vital registration complete\"].value_counts()"
   ]
  },
  {
   "cell_type": "markdown",
   "id": "ec9d717b",
   "metadata": {},
   "source": [
    "#### Transformar valores NaN em False"
   ]
  },
  {
   "cell_type": "code",
   "execution_count": 589,
   "id": "2317192d",
   "metadata": {},
   "outputs": [],
   "source": [
    "wdi_country_df[\"Vital registration complete\"].fillna(False, inplace=True)"
   ]
  },
  {
   "cell_type": "code",
   "execution_count": 590,
   "id": "5ff4f736",
   "metadata": {},
   "outputs": [
    {
     "data": {
      "text/plain": [
       "False    145\n",
       "True     120\n",
       "Name: Vital registration complete, dtype: int64"
      ]
     },
     "execution_count": 590,
     "metadata": {},
     "output_type": "execute_result"
    }
   ],
   "source": [
    "wdi_country_df[\"Vital registration complete\"].value_counts()"
   ]
  },
  {
   "cell_type": "markdown",
   "id": "e3c1c0b1",
   "metadata": {},
   "source": [
    "### Tratando Coluna \"Income Group\""
   ]
  },
  {
   "cell_type": "code",
   "execution_count": 591,
   "id": "2edfc041",
   "metadata": {},
   "outputs": [
    {
     "data": {
      "text/plain": [
       "array(['High income', nan, 'Low income', 'Lower middle income',\n",
       "       'Upper middle income'], dtype=object)"
      ]
     },
     "execution_count": 591,
     "metadata": {},
     "output_type": "execute_result"
    }
   ],
   "source": [
    "wdi_country_df[\"Income Group\"].unique()"
   ]
  },
  {
   "cell_type": "code",
   "execution_count": 592,
   "id": "060b1d0c",
   "metadata": {},
   "outputs": [
    {
     "data": {
      "text/plain": [
       "High income            82\n",
       "Lower middle income    54\n",
       "Upper middle income    54\n",
       "Low income             26\n",
       "Name: Income Group, dtype: int64"
      ]
     },
     "execution_count": 592,
     "metadata": {},
     "output_type": "execute_result"
    }
   ],
   "source": [
    "wdi_country_df[\"Income Group\"].value_counts()"
   ]
  },
  {
   "cell_type": "code",
   "execution_count": 593,
   "id": "b935cf69",
   "metadata": {},
   "outputs": [
    {
     "data": {
      "text/html": [
       "<div>\n",
       "<style scoped>\n",
       "    .dataframe tbody tr th:only-of-type {\n",
       "        vertical-align: middle;\n",
       "    }\n",
       "\n",
       "    .dataframe tbody tr th {\n",
       "        vertical-align: top;\n",
       "    }\n",
       "\n",
       "    .dataframe thead th {\n",
       "        text-align: right;\n",
       "    }\n",
       "</style>\n",
       "<table border=\"1\" class=\"dataframe\">\n",
       "  <thead>\n",
       "    <tr style=\"text-align: right;\">\n",
       "      <th></th>\n",
       "      <th>Country Code</th>\n",
       "      <th>Short Name</th>\n",
       "      <th>Table Name</th>\n",
       "      <th>Long Name</th>\n",
       "      <th>2-alpha code</th>\n",
       "      <th>Currency Unit</th>\n",
       "      <th>Special Notes</th>\n",
       "      <th>Region</th>\n",
       "      <th>Income Group</th>\n",
       "      <th>WB-2 code</th>\n",
       "      <th>...</th>\n",
       "      <th>System of trade</th>\n",
       "      <th>Government Accounting concept</th>\n",
       "      <th>IMF data dissemination standard</th>\n",
       "      <th>Latest population census</th>\n",
       "      <th>Latest household survey</th>\n",
       "      <th>Source of most recent Income and expenditure data</th>\n",
       "      <th>Vital registration complete</th>\n",
       "      <th>Latest agricultural census</th>\n",
       "      <th>Latest industrial data</th>\n",
       "      <th>Latest trade data</th>\n",
       "    </tr>\n",
       "  </thead>\n",
       "  <tbody>\n",
       "    <tr>\n",
       "      <th>1</th>\n",
       "      <td>AFE</td>\n",
       "      <td>Africa Eastern and Southern</td>\n",
       "      <td>Africa Eastern and Southern</td>\n",
       "      <td>Africa Eastern and Southern</td>\n",
       "      <td>ZH</td>\n",
       "      <td>NaN</td>\n",
       "      <td>26 countries, stretching from the Red Sea in t...</td>\n",
       "      <td>NaN</td>\n",
       "      <td>NaN</td>\n",
       "      <td>ZH</td>\n",
       "      <td>...</td>\n",
       "      <td>NaN</td>\n",
       "      <td>NaN</td>\n",
       "      <td>NaN</td>\n",
       "      <td>NaN</td>\n",
       "      <td>NaN</td>\n",
       "      <td>NaN</td>\n",
       "      <td>False</td>\n",
       "      <td>NaN</td>\n",
       "      <td>NaN</td>\n",
       "      <td>NaN</td>\n",
       "    </tr>\n",
       "  </tbody>\n",
       "</table>\n",
       "<p>1 rows × 30 columns</p>\n",
       "</div>"
      ],
      "text/plain": [
       "  Country Code                   Short Name                   Table Name  \\\n",
       "1          AFE  Africa Eastern and Southern  Africa Eastern and Southern   \n",
       "\n",
       "                     Long Name 2-alpha code Currency Unit  \\\n",
       "1  Africa Eastern and Southern           ZH           NaN   \n",
       "\n",
       "                                       Special Notes Region Income Group  \\\n",
       "1  26 countries, stretching from the Red Sea in t...    NaN          NaN   \n",
       "\n",
       "  WB-2 code  ... System of trade  Government Accounting concept  \\\n",
       "1        ZH  ...             NaN                            NaN   \n",
       "\n",
       "  IMF data dissemination standard Latest population census  \\\n",
       "1                             NaN                      NaN   \n",
       "\n",
       "  Latest household survey Source of most recent Income and expenditure data  \\\n",
       "1                     NaN                                               NaN   \n",
       "\n",
       "   Vital registration complete  Latest agricultural census  \\\n",
       "1                        False                         NaN   \n",
       "\n",
       "  Latest industrial data Latest trade data  \n",
       "1                    NaN               NaN  \n",
       "\n",
       "[1 rows x 30 columns]"
      ]
     },
     "execution_count": 593,
     "metadata": {},
     "output_type": "execute_result"
    }
   ],
   "source": [
    "filter = wdi_country_df[\"Income Group\"].isna() \n",
    "wdi_country_df[filter].head(1)"
   ]
  },
  {
   "cell_type": "markdown",
   "id": "8681a986",
   "metadata": {},
   "source": [
    "#### Removendo Linhas com Income Group == NaN\n",
    "#### Essas linhas tratam-se de grupos de países"
   ]
  },
  {
   "cell_type": "code",
   "execution_count": 594,
   "id": "4ac7669b",
   "metadata": {},
   "outputs": [],
   "source": [
    "filter = wdi_country_df[\"Income Group\"].isna() == False\n",
    "wdi_country_df = wdi_country_df.loc[filter]"
   ]
  },
  {
   "cell_type": "code",
   "execution_count": 595,
   "id": "1429570d",
   "metadata": {
    "scrolled": true
   },
   "outputs": [
    {
     "data": {
      "text/html": [
       "<div>\n",
       "<style scoped>\n",
       "    .dataframe tbody tr th:only-of-type {\n",
       "        vertical-align: middle;\n",
       "    }\n",
       "\n",
       "    .dataframe tbody tr th {\n",
       "        vertical-align: top;\n",
       "    }\n",
       "\n",
       "    .dataframe thead th {\n",
       "        text-align: right;\n",
       "    }\n",
       "</style>\n",
       "<table border=\"1\" class=\"dataframe\">\n",
       "  <thead>\n",
       "    <tr style=\"text-align: right;\">\n",
       "      <th></th>\n",
       "      <th>Country Code</th>\n",
       "      <th>Short Name</th>\n",
       "      <th>Table Name</th>\n",
       "      <th>Long Name</th>\n",
       "      <th>2-alpha code</th>\n",
       "      <th>Currency Unit</th>\n",
       "      <th>Special Notes</th>\n",
       "      <th>Region</th>\n",
       "      <th>Income Group</th>\n",
       "      <th>WB-2 code</th>\n",
       "      <th>...</th>\n",
       "      <th>System of trade</th>\n",
       "      <th>Government Accounting concept</th>\n",
       "      <th>IMF data dissemination standard</th>\n",
       "      <th>Latest population census</th>\n",
       "      <th>Latest household survey</th>\n",
       "      <th>Source of most recent Income and expenditure data</th>\n",
       "      <th>Vital registration complete</th>\n",
       "      <th>Latest agricultural census</th>\n",
       "      <th>Latest industrial data</th>\n",
       "      <th>Latest trade data</th>\n",
       "    </tr>\n",
       "  </thead>\n",
       "  <tbody>\n",
       "  </tbody>\n",
       "</table>\n",
       "<p>0 rows × 30 columns</p>\n",
       "</div>"
      ],
      "text/plain": [
       "Empty DataFrame\n",
       "Columns: [Country Code, Short Name, Table Name, Long Name, 2-alpha code, Currency Unit, Special Notes, Region, Income Group, WB-2 code, National accounts base year, National accounts reference year, SNA price valuation, Lending category, Other groups, System of National Accounts, Alternative conversion factor, PPP survey year, Balance of Payments Manual in use, External debt Reporting status, System of trade, Government Accounting concept, IMF data dissemination standard, Latest population census, Latest household survey, Source of most recent Income and expenditure data, Vital registration complete, Latest agricultural census, Latest industrial data, Latest trade data]\n",
       "Index: []\n",
       "\n",
       "[0 rows x 30 columns]"
      ]
     },
     "execution_count": 595,
     "metadata": {},
     "output_type": "execute_result"
    }
   ],
   "source": [
    "filter = wdi_country_df[\"Income Group\"].isna() \n",
    "wdi_country_df[filter].head(1)"
   ]
  },
  {
   "cell_type": "markdown",
   "id": "e15de562",
   "metadata": {},
   "source": [
    "### Tratando Coluna \"Latest population census\""
   ]
  },
  {
   "cell_type": "code",
   "execution_count": 596,
   "id": "c809faa5",
   "metadata": {},
   "outputs": [
    {
     "data": {
      "text/plain": [
       "array(['2020 (expected)', '1979', '2014',\n",
       "       '2011. Population figures compiled from administrative registers.',\n",
       "       '2011', '2016', '2019', '2008',\n",
       "       '2011. Population figures compiled from administrative registers in combination with other sources of data, such as sample surveys.',\n",
       "       '2013',\n",
       "       '2020 (expected). Population figures compiled from administrative registers.',\n",
       "       '2012', '2017', '2003',\n",
       "       '2020 (expected). Population figures compiled from administrative registers in combination with other sources of data, such as sample surveys.',\n",
       "       'Guernsey: 2015; Jersey: 2011.', nan, '2018',\n",
       "       '2011. Population figures compiled from administrative registers and sample surveys while data on housing characteristics are collected through full field enumeration.',\n",
       "       '2012. Population figures compiled from administrative registers in combination with other sources of data, such as sample surveys.',\n",
       "       '2009', '2015',\n",
       "       '2016. The population by-censuses for 1986 and 1996 were based on one-in-seven sample of the population, while that for 2006 was based on one-in-ten sample of the population.',\n",
       "       '1997', '1943', '2006',\n",
       "       '2016. Population figures compiled from administrative registers.',\n",
       "       '2020', '2007',\n",
       "       '1987. Enumeration of settled population was in November 1986 and of nomads in February 1987.',\n",
       "       '2018. Population figures compiled from administrative registers.',\n",
       "       '2004', '1989'], dtype=object)"
      ]
     },
     "execution_count": 596,
     "metadata": {},
     "output_type": "execute_result"
    }
   ],
   "source": [
    "wdi_country_df[\"Latest population census\"].unique()"
   ]
  },
  {
   "cell_type": "code",
   "execution_count": 597,
   "id": "4d92450a",
   "metadata": {},
   "outputs": [
    {
     "data": {
      "text/plain": [
       "2020 (expected)                                                                                                                                                                  62\n",
       "2011                                                                                                                                                                             32\n",
       "2012                                                                                                                                                                             16\n",
       "2017                                                                                                                                                                             11\n",
       "2016                                                                                                                                                                             10\n",
       "2014                                                                                                                                                                              9\n",
       "2019                                                                                                                                                                              8\n",
       "2011. Population figures compiled from administrative registers in combination with other sources of data, such as sample surveys.                                                8\n",
       "2015                                                                                                                                                                              7\n",
       "2013                                                                                                                                                                              7\n",
       "2018                                                                                                                                                                              5\n",
       "2011. Population figures compiled from administrative registers.                                                                                                                  5\n",
       "2020 (expected). Population figures compiled from administrative registers.                                                                                                       4\n",
       "2020 (expected). Population figures compiled from administrative registers in combination with other sources of data, such as sample surveys.                                     4\n",
       "2009                                                                                                                                                                              3\n",
       "2003                                                                                                                                                                              2\n",
       "2004                                                                                                                                                                              2\n",
       "2012. Population figures compiled from administrative registers in combination with other sources of data, such as sample surveys.                                                2\n",
       "2008                                                                                                                                                                              2\n",
       "2020                                                                                                                                                                              2\n",
       "2016. Population figures compiled from administrative registers.                                                                                                                  1\n",
       "2018. Population figures compiled from administrative registers.                                                                                                                  1\n",
       "1987. Enumeration of settled population was in November 1986 and of nomads in February 1987.                                                                                      1\n",
       "2007                                                                                                                                                                              1\n",
       "2016. The population by-censuses for 1986 and 1996 were based on one-in-seven sample of the population, while that for 2006 was based on one-in-ten sample of the population.     1\n",
       "2006                                                                                                                                                                              1\n",
       "1943                                                                                                                                                                              1\n",
       "1997                                                                                                                                                                              1\n",
       "2011. Population figures compiled from administrative registers and sample surveys while data on housing characteristics are collected through full field enumeration.            1\n",
       "1979                                                                                                                                                                              1\n",
       "Guernsey: 2015; Jersey: 2011.                                                                                                                                                     1\n",
       "1989                                                                                                                                                                              1\n",
       "Name: Latest population census, dtype: int64"
      ]
     },
     "execution_count": 597,
     "metadata": {},
     "output_type": "execute_result"
    }
   ],
   "source": [
    "wdi_country_df[\"Latest population census\"].value_counts()"
   ]
  },
  {
   "cell_type": "code",
   "execution_count": 598,
   "id": "ddde75a8",
   "metadata": {},
   "outputs": [
    {
     "data": {
      "text/plain": [
       "array(['2020', '1979', '2014', '2011', '2016', '2019', '2008', '2013',\n",
       "       '2012', '2017', '2003', 'Guer', nan, '2018', '2009', '2015',\n",
       "       '1997', '1943', '2006', '2007', '1987', '2004', '1989'],\n",
       "      dtype=object)"
      ]
     },
     "execution_count": 598,
     "metadata": {},
     "output_type": "execute_result"
    }
   ],
   "source": [
    "wdi_country_df[\"Latest population census\"].str[:4].unique()\n"
   ]
  },
  {
   "cell_type": "code",
   "execution_count": 607,
   "id": "32ebbc1e",
   "metadata": {},
   "outputs": [
    {
     "name": "stderr",
     "output_type": "stream",
     "text": [
      "C:\\Users\\Renato\\AppData\\Local\\Temp\\ipykernel_26296\\2205318851.py:4: FutureWarning: The frame.append method is deprecated and will be removed from pandas in a future version. Use pandas.concat instead.\n",
      "  wdi_country_df.append(new_line)\n"
     ]
    },
    {
     "data": {
      "text/html": [
       "<div>\n",
       "<style scoped>\n",
       "    .dataframe tbody tr th:only-of-type {\n",
       "        vertical-align: middle;\n",
       "    }\n",
       "\n",
       "    .dataframe tbody tr th {\n",
       "        vertical-align: top;\n",
       "    }\n",
       "\n",
       "    .dataframe thead th {\n",
       "        text-align: right;\n",
       "    }\n",
       "</style>\n",
       "<table border=\"1\" class=\"dataframe\">\n",
       "  <thead>\n",
       "    <tr style=\"text-align: right;\">\n",
       "      <th></th>\n",
       "      <th>Country Code</th>\n",
       "      <th>Short Name</th>\n",
       "      <th>Table Name</th>\n",
       "      <th>Long Name</th>\n",
       "      <th>2-alpha code</th>\n",
       "      <th>Currency Unit</th>\n",
       "      <th>Special Notes</th>\n",
       "      <th>Region</th>\n",
       "      <th>Income Group</th>\n",
       "      <th>WB-2 code</th>\n",
       "      <th>...</th>\n",
       "      <th>System of trade</th>\n",
       "      <th>Government Accounting concept</th>\n",
       "      <th>IMF data dissemination standard</th>\n",
       "      <th>Latest population census</th>\n",
       "      <th>Latest household survey</th>\n",
       "      <th>Source of most recent Income and expenditure data</th>\n",
       "      <th>Vital registration complete</th>\n",
       "      <th>Latest agricultural census</th>\n",
       "      <th>Latest industrial data</th>\n",
       "      <th>Latest trade data</th>\n",
       "    </tr>\n",
       "  </thead>\n",
       "  <tbody>\n",
       "    <tr>\n",
       "      <th>38</th>\n",
       "      <td>CHI</td>\n",
       "      <td>Channel Islands</td>\n",
       "      <td>Channel Islands</td>\n",
       "      <td>Channel Islands</td>\n",
       "      <td>NaN</td>\n",
       "      <td>Pound sterling</td>\n",
       "      <td>NaN</td>\n",
       "      <td>Europe &amp; Central Asia</td>\n",
       "      <td>High income</td>\n",
       "      <td>JG</td>\n",
       "      <td>...</td>\n",
       "      <td>NaN</td>\n",
       "      <td>NaN</td>\n",
       "      <td>NaN</td>\n",
       "      <td>Guernsey: 2015; Jersey: 2011.</td>\n",
       "      <td>NaN</td>\n",
       "      <td>NaN</td>\n",
       "      <td>True</td>\n",
       "      <td>NaN</td>\n",
       "      <td>NaN</td>\n",
       "      <td>NaN</td>\n",
       "    </tr>\n",
       "  </tbody>\n",
       "</table>\n",
       "<p>1 rows × 30 columns</p>\n",
       "</div>"
      ],
      "text/plain": [
       "   Country Code       Short Name       Table Name        Long Name  \\\n",
       "38          CHI  Channel Islands  Channel Islands  Channel Islands   \n",
       "\n",
       "   2-alpha code   Currency Unit Special Notes                 Region  \\\n",
       "38          NaN  Pound sterling           NaN  Europe & Central Asia   \n",
       "\n",
       "   Income Group WB-2 code  ... System of trade  Government Accounting concept  \\\n",
       "38  High income        JG  ...             NaN                            NaN   \n",
       "\n",
       "   IMF data dissemination standard       Latest population census  \\\n",
       "38                             NaN  Guernsey: 2015; Jersey: 2011.   \n",
       "\n",
       "   Latest household survey Source of most recent Income and expenditure data  \\\n",
       "38                     NaN                                               NaN   \n",
       "\n",
       "    Vital registration complete  Latest agricultural census  \\\n",
       "38                         True                         NaN   \n",
       "\n",
       "   Latest industrial data Latest trade data  \n",
       "38                    NaN               NaN  \n",
       "\n",
       "[1 rows x 30 columns]"
      ]
     },
     "execution_count": 607,
     "metadata": {},
     "output_type": "execute_result"
    }
   ],
   "source": [
    "Guernsey: 2015; Jersey: 2011.\n",
    "filter = wdi_country_df[\"Latest population census\"] == \"Guernsey: 2015; Jersey: 2011.\"\n",
    "new_line = wdi_country_df[filter].copy()\n",
    "wdi_country_df.append(new_line)\n",
    "\n",
    "wdi_country_df[filter]"
   ]
  },
  {
   "cell_type": "code",
   "execution_count": null,
   "id": "a3995395",
   "metadata": {},
   "outputs": [],
   "source": []
  }
 ],
 "metadata": {
  "kernelspec": {
   "display_name": "Python 3 (ipykernel)",
   "language": "python",
   "name": "python3"
  },
  "language_info": {
   "codemirror_mode": {
    "name": "ipython",
    "version": 3
   },
   "file_extension": ".py",
   "mimetype": "text/x-python",
   "name": "python",
   "nbconvert_exporter": "python",
   "pygments_lexer": "ipython3",
   "version": "3.11.3"
  }
 },
 "nbformat": 4,
 "nbformat_minor": 5
}
